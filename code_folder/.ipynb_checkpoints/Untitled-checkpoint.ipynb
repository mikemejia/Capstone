{
 "cells": [
  {
   "cell_type": "code",
   "execution_count": 1,
   "metadata": {},
   "outputs": [],
   "source": [
    "import pymysql\n",
    "import pandas as pd\n",
    "import numpy as np\n",
    "from datetime import datetime"
   ]
  },
  {
   "cell_type": "code",
   "execution_count": 2,
   "metadata": {},
   "outputs": [],
   "source": [
    "prod_conn = pymysql.connect(\n",
    "  host='localhost',\n",
    "  user='root',\n",
    "  password='Mike4568!',\n",
    "  port=3306,\n",
    "  database='FORMULA1')\n",
    "with prod_conn:\n",
    "    cur = prod_conn.cursor()"
   ]
  },
  {
   "cell_type": "code",
   "execution_count": 3,
   "metadata": {},
   "outputs": [],
   "source": [
    "data = pd.read_csv('./data/For_models.csv')"
   ]
  },
  {
   "cell_type": "code",
   "execution_count": 76,
   "metadata": {},
   "outputs": [
    {
     "data": {
      "text/plain": [
       "1"
      ]
     },
     "execution_count": 76,
     "metadata": {},
     "output_type": "execute_result"
    }
   ],
   "source": [
    "cur.execute(\"\"\"\n",
    "            SELECT name\n",
    "            FROM circuits\n",
    "            where circuit_id = 1\n",
    "            \n",
    "            \n",
    "\n",
    "\n",
    "\n",
    "\"\"\")"
   ]
  },
  {
   "cell_type": "code",
   "execution_count": 75,
   "metadata": {},
   "outputs": [
    {
     "data": {
      "text/plain": [
       "(('circuit_id', 3, None, 11, 11, 0, False),\n",
       " ('circuit_ref', 253, None, 120, 120, 0, False),\n",
       " ('name', 253, None, 180, 180, 0, False),\n",
       " ('location', 253, None, 120, 120, 0, False),\n",
       " ('county', 253, None, 120, 120, 0, False),\n",
       " ('lat', 246, None, 12, 12, 6, False),\n",
       " ('lng', 246, None, 12, 12, 6, False),\n",
       " ('url', 253, None, 600, 600, 0, True))"
      ]
     },
     "execution_count": 75,
     "metadata": {},
     "output_type": "execute_result"
    }
   ],
   "source": [
    "cur.description"
   ]
  },
  {
   "cell_type": "code",
   "execution_count": 77,
   "metadata": {},
   "outputs": [
    {
     "data": {
      "text/plain": [
       "(('Albert Park Grand Prix Circuit',),)"
      ]
     },
     "execution_count": 77,
     "metadata": {},
     "output_type": "execute_result"
    }
   ],
   "source": [
    "cur.fetchall()"
   ]
  },
  {
   "cell_type": "code",
   "execution_count": 8,
   "metadata": {},
   "outputs": [],
   "source": [
    "data.drop(columns=['Unnamed: 0'], inplace = True)"
   ]
  },
  {
   "cell_type": "code",
   "execution_count": 46,
   "metadata": {},
   "outputs": [
    {
     "data": {
      "text/plain": [
       "<matplotlib.axes._subplots.AxesSubplot at 0x7fe60b55ab90>"
      ]
     },
     "execution_count": 46,
     "metadata": {},
     "output_type": "execute_result"
    },
    {
     "data": {
      "image/png": "[encoded data removed]",
      "text/plain": [
       "<Figure size 432x288 with 1 Axes>"
      ]
     },
     "metadata": {
      "needs_background": "light"
     },
     "output_type": "display_data"
    }
   ],
   "source": [
    "# frequency of pitstops per lap\n",
    "data[(data.target == True) & (data.circuitId == 1) & (data.lt_lap < 22)].groupby('lt_lap')['target'].sum().plot(kind = 'bar')"
   ]
  },
  {
   "cell_type": "code",
   "execution_count": 55,
   "metadata": {},
   "outputs": [
    {
     "data": {
      "text/html": [
       "<div>\n",
       "<style scoped>\n",
       "    .dataframe tbody tr th:only-of-type {\n",
       "        vertical-align: middle;\n",
       "    }\n",
       "\n",
       "    .dataframe tbody tr th {\n",
       "        vertical-align: top;\n",
       "    }\n",
       "\n",
       "    .dataframe thead th {\n",
       "        text-align: right;\n",
       "    }\n",
       "</style>\n",
       "<table border=\"1\" class=\"dataframe\">\n",
       "  <thead>\n",
       "    <tr style=\"text-align: right;\">\n",
       "      <th></th>\n",
       "      <th>raceId</th>\n",
       "      <th>driverId</th>\n",
       "      <th>lt_lap</th>\n",
       "      <th>position</th>\n",
       "      <th>milliseconds</th>\n",
       "      <th>circuitId</th>\n",
       "      <th>date</th>\n",
       "      <th>ps_lap</th>\n",
       "      <th>pit_time</th>\n",
       "      <th>target</th>\n",
       "      <th>up_milli</th>\n",
       "    </tr>\n",
       "  </thead>\n",
       "  <tbody>\n",
       "    <tr>\n",
       "      <th>0</th>\n",
       "      <td>841</td>\n",
       "      <td>153</td>\n",
       "      <td>1</td>\n",
       "      <td>21</td>\n",
       "      <td>133879</td>\n",
       "      <td>1</td>\n",
       "      <td>2011</td>\n",
       "      <td>1.0</td>\n",
       "      <td>26898.0</td>\n",
       "      <td>True</td>\n",
       "      <td>133879</td>\n",
       "    </tr>\n",
       "    <tr>\n",
       "      <th>1</th>\n",
       "      <td>841</td>\n",
       "      <td>30</td>\n",
       "      <td>1</td>\n",
       "      <td>22</td>\n",
       "      <td>161428</td>\n",
       "      <td>1</td>\n",
       "      <td>2011</td>\n",
       "      <td>1.0</td>\n",
       "      <td>25021.0</td>\n",
       "      <td>True</td>\n",
       "      <td>161428</td>\n",
       "    </tr>\n",
       "    <tr>\n",
       "      <th>2</th>\n",
       "      <td>841</td>\n",
       "      <td>17</td>\n",
       "      <td>11</td>\n",
       "      <td>7</td>\n",
       "      <td>114995</td>\n",
       "      <td>1</td>\n",
       "      <td>2011</td>\n",
       "      <td>11.0</td>\n",
       "      <td>23426.0</td>\n",
       "      <td>True</td>\n",
       "      <td>95248</td>\n",
       "    </tr>\n",
       "    <tr>\n",
       "      <th>3</th>\n",
       "      <td>841</td>\n",
       "      <td>4</td>\n",
       "      <td>12</td>\n",
       "      <td>12</td>\n",
       "      <td>112624</td>\n",
       "      <td>1</td>\n",
       "      <td>2011</td>\n",
       "      <td>12.0</td>\n",
       "      <td>23251.0</td>\n",
       "      <td>True</td>\n",
       "      <td>95857</td>\n",
       "    </tr>\n",
       "    <tr>\n",
       "      <th>4</th>\n",
       "      <td>841</td>\n",
       "      <td>13</td>\n",
       "      <td>13</td>\n",
       "      <td>11</td>\n",
       "      <td>114060</td>\n",
       "      <td>1</td>\n",
       "      <td>2011</td>\n",
       "      <td>13.0</td>\n",
       "      <td>23842.0</td>\n",
       "      <td>True</td>\n",
       "      <td>95662</td>\n",
       "    </tr>\n",
       "    <tr>\n",
       "      <th>...</th>\n",
       "      <td>...</td>\n",
       "      <td>...</td>\n",
       "      <td>...</td>\n",
       "      <td>...</td>\n",
       "      <td>...</td>\n",
       "      <td>...</td>\n",
       "      <td>...</td>\n",
       "      <td>...</td>\n",
       "      <td>...</td>\n",
       "      <td>...</td>\n",
       "      <td>...</td>\n",
       "    </tr>\n",
       "    <tr>\n",
       "      <th>450055</th>\n",
       "      <td>1010</td>\n",
       "      <td>817</td>\n",
       "      <td>17</td>\n",
       "      <td>18</td>\n",
       "      <td>91569</td>\n",
       "      <td>1</td>\n",
       "      <td>2019</td>\n",
       "      <td>NaN</td>\n",
       "      <td>NaN</td>\n",
       "      <td>False</td>\n",
       "      <td>91569</td>\n",
       "    </tr>\n",
       "    <tr>\n",
       "      <th>450056</th>\n",
       "      <td>1010</td>\n",
       "      <td>817</td>\n",
       "      <td>18</td>\n",
       "      <td>18</td>\n",
       "      <td>89848</td>\n",
       "      <td>1</td>\n",
       "      <td>2019</td>\n",
       "      <td>NaN</td>\n",
       "      <td>NaN</td>\n",
       "      <td>False</td>\n",
       "      <td>89848</td>\n",
       "    </tr>\n",
       "    <tr>\n",
       "      <th>450057</th>\n",
       "      <td>1010</td>\n",
       "      <td>817</td>\n",
       "      <td>19</td>\n",
       "      <td>18</td>\n",
       "      <td>90027</td>\n",
       "      <td>1</td>\n",
       "      <td>2019</td>\n",
       "      <td>NaN</td>\n",
       "      <td>NaN</td>\n",
       "      <td>False</td>\n",
       "      <td>90027</td>\n",
       "    </tr>\n",
       "    <tr>\n",
       "      <th>450058</th>\n",
       "      <td>1010</td>\n",
       "      <td>817</td>\n",
       "      <td>20</td>\n",
       "      <td>18</td>\n",
       "      <td>89921</td>\n",
       "      <td>1</td>\n",
       "      <td>2019</td>\n",
       "      <td>NaN</td>\n",
       "      <td>NaN</td>\n",
       "      <td>False</td>\n",
       "      <td>89921</td>\n",
       "    </tr>\n",
       "    <tr>\n",
       "      <th>450059</th>\n",
       "      <td>1010</td>\n",
       "      <td>817</td>\n",
       "      <td>21</td>\n",
       "      <td>18</td>\n",
       "      <td>90464</td>\n",
       "      <td>1</td>\n",
       "      <td>2019</td>\n",
       "      <td>NaN</td>\n",
       "      <td>NaN</td>\n",
       "      <td>False</td>\n",
       "      <td>90464</td>\n",
       "    </tr>\n",
       "  </tbody>\n",
       "</table>\n",
       "<p>9133 rows × 11 columns</p>\n",
       "</div>"
      ],
      "text/plain": [
       "        raceId  driverId  lt_lap  position  milliseconds  circuitId  date  \\\n",
       "0          841       153       1        21        133879          1  2011   \n",
       "1          841        30       1        22        161428          1  2011   \n",
       "2          841        17      11         7        114995          1  2011   \n",
       "3          841         4      12        12        112624          1  2011   \n",
       "4          841        13      13        11        114060          1  2011   \n",
       "...        ...       ...     ...       ...           ...        ...   ...   \n",
       "450055    1010       817      17        18         91569          1  2019   \n",
       "450056    1010       817      18        18         89848          1  2019   \n",
       "450057    1010       817      19        18         90027          1  2019   \n",
       "450058    1010       817      20        18         89921          1  2019   \n",
       "450059    1010       817      21        18         90464          1  2019   \n",
       "\n",
       "        ps_lap  pit_time  target  up_milli  \n",
       "0          1.0   26898.0    True    133879  \n",
       "1          1.0   25021.0    True    161428  \n",
       "2         11.0   23426.0    True     95248  \n",
       "3         12.0   23251.0    True     95857  \n",
       "4         13.0   23842.0    True     95662  \n",
       "...        ...       ...     ...       ...  \n",
       "450055     NaN       NaN   False     91569  \n",
       "450056     NaN       NaN   False     89848  \n",
       "450057     NaN       NaN   False     90027  \n",
       "450058     NaN       NaN   False     89921  \n",
       "450059     NaN       NaN   False     90464  \n",
       "\n",
       "[9133 rows x 11 columns]"
      ]
     },
     "execution_count": 55,
     "metadata": {},
     "output_type": "execute_result"
    }
   ],
   "source": [
    "data[(data.circuitId == 1) & (data.lt_lap < 22)]"
   ]
  },
  {
   "cell_type": "code",
   "execution_count": 87,
   "metadata": {
    "scrolled": true
   },
   "outputs": [
    {
     "data": {
      "image/png": "[encoded data removed]",
      "text/plain": [
       "<Figure size 1440x1440 with 1 Axes>"
      ]
     },
     "metadata": {
      "needs_background": "light"
     },
     "output_type": "display_data"
    }
   ],
   "source": [
    "plt.figure(figsize = (20,20));\n",
    "data[(data.circuitId == 1) & (data.lt_lap<45)].groupby('lt_lap')['target'].mean().plot(kind = 'barh')\n",
    "plt.title('Albert Park Grand Prix Circuit-Data', size = 30);\n",
    "plt.ylabel('Lap #', size = 30);\n",
    "plt.xlabel('Average Percentage of Pit Stops Made', size = 30);\n",
    "plt.xticks(size = 30);\n",
    "plt.yticks(size = 20);"
   ]
  },
  {
   "cell_type": "code",
   "execution_count": 20,
   "metadata": {
    "scrolled": false
   },
   "outputs": [
    {
     "data": {
      "text/html": [
       "<div>\n",
       "<style scoped>\n",
       "    .dataframe tbody tr th:only-of-type {\n",
       "        vertical-align: middle;\n",
       "    }\n",
       "\n",
       "    .dataframe tbody tr th {\n",
       "        vertical-align: top;\n",
       "    }\n",
       "\n",
       "    .dataframe thead th {\n",
       "        text-align: right;\n",
       "    }\n",
       "</style>\n",
       "<table border=\"1\" class=\"dataframe\">\n",
       "  <thead>\n",
       "    <tr style=\"text-align: right;\">\n",
       "      <th></th>\n",
       "      <th>raceId</th>\n",
       "      <th>driverId</th>\n",
       "      <th>lt_lap</th>\n",
       "      <th>position</th>\n",
       "      <th>milliseconds</th>\n",
       "      <th>circuitId</th>\n",
       "      <th>date</th>\n",
       "      <th>ps_lap</th>\n",
       "      <th>pit_time</th>\n",
       "      <th>target</th>\n",
       "      <th>up_milli</th>\n",
       "    </tr>\n",
       "  </thead>\n",
       "  <tbody>\n",
       "    <tr>\n",
       "      <th>0</th>\n",
       "      <td>841</td>\n",
       "      <td>153</td>\n",
       "      <td>1</td>\n",
       "      <td>21</td>\n",
       "      <td>133879</td>\n",
       "      <td>1</td>\n",
       "      <td>2011</td>\n",
       "      <td>1.0</td>\n",
       "      <td>26898.0</td>\n",
       "      <td>True</td>\n",
       "      <td>133879</td>\n",
       "    </tr>\n",
       "    <tr>\n",
       "      <th>1</th>\n",
       "      <td>841</td>\n",
       "      <td>30</td>\n",
       "      <td>1</td>\n",
       "      <td>22</td>\n",
       "      <td>161428</td>\n",
       "      <td>1</td>\n",
       "      <td>2011</td>\n",
       "      <td>1.0</td>\n",
       "      <td>25021.0</td>\n",
       "      <td>True</td>\n",
       "      <td>161428</td>\n",
       "    </tr>\n",
       "    <tr>\n",
       "      <th>2</th>\n",
       "      <td>841</td>\n",
       "      <td>17</td>\n",
       "      <td>11</td>\n",
       "      <td>7</td>\n",
       "      <td>114995</td>\n",
       "      <td>1</td>\n",
       "      <td>2011</td>\n",
       "      <td>11.0</td>\n",
       "      <td>23426.0</td>\n",
       "      <td>True</td>\n",
       "      <td>95248</td>\n",
       "    </tr>\n",
       "    <tr>\n",
       "      <th>3</th>\n",
       "      <td>841</td>\n",
       "      <td>4</td>\n",
       "      <td>12</td>\n",
       "      <td>12</td>\n",
       "      <td>112624</td>\n",
       "      <td>1</td>\n",
       "      <td>2011</td>\n",
       "      <td>12.0</td>\n",
       "      <td>23251.0</td>\n",
       "      <td>True</td>\n",
       "      <td>95857</td>\n",
       "    </tr>\n",
       "    <tr>\n",
       "      <th>4</th>\n",
       "      <td>841</td>\n",
       "      <td>13</td>\n",
       "      <td>13</td>\n",
       "      <td>11</td>\n",
       "      <td>114060</td>\n",
       "      <td>1</td>\n",
       "      <td>2011</td>\n",
       "      <td>13.0</td>\n",
       "      <td>23842.0</td>\n",
       "      <td>True</td>\n",
       "      <td>95662</td>\n",
       "    </tr>\n",
       "    <tr>\n",
       "      <th>...</th>\n",
       "      <td>...</td>\n",
       "      <td>...</td>\n",
       "      <td>...</td>\n",
       "      <td>...</td>\n",
       "      <td>...</td>\n",
       "      <td>...</td>\n",
       "      <td>...</td>\n",
       "      <td>...</td>\n",
       "      <td>...</td>\n",
       "      <td>...</td>\n",
       "      <td>...</td>\n",
       "    </tr>\n",
       "    <tr>\n",
       "      <th>447219</th>\n",
       "      <td>1010</td>\n",
       "      <td>825</td>\n",
       "      <td>14</td>\n",
       "      <td>11</td>\n",
       "      <td>108686</td>\n",
       "      <td>1</td>\n",
       "      <td>2019</td>\n",
       "      <td>14.0</td>\n",
       "      <td>22388.0</td>\n",
       "      <td>True</td>\n",
       "      <td>91388</td>\n",
       "    </tr>\n",
       "    <tr>\n",
       "      <th>447220</th>\n",
       "      <td>1010</td>\n",
       "      <td>848</td>\n",
       "      <td>14</td>\n",
       "      <td>15</td>\n",
       "      <td>108191</td>\n",
       "      <td>1</td>\n",
       "      <td>2019</td>\n",
       "      <td>14.0</td>\n",
       "      <td>21780.0</td>\n",
       "      <td>True</td>\n",
       "      <td>91782</td>\n",
       "    </tr>\n",
       "    <tr>\n",
       "      <th>447221</th>\n",
       "      <td>1010</td>\n",
       "      <td>1</td>\n",
       "      <td>15</td>\n",
       "      <td>4</td>\n",
       "      <td>106079</td>\n",
       "      <td>1</td>\n",
       "      <td>2019</td>\n",
       "      <td>15.0</td>\n",
       "      <td>21515.0</td>\n",
       "      <td>True</td>\n",
       "      <td>89495</td>\n",
       "    </tr>\n",
       "    <tr>\n",
       "      <th>447222</th>\n",
       "      <td>1010</td>\n",
       "      <td>154</td>\n",
       "      <td>15</td>\n",
       "      <td>14</td>\n",
       "      <td>116519</td>\n",
       "      <td>1</td>\n",
       "      <td>2019</td>\n",
       "      <td>15.0</td>\n",
       "      <td>29981.0</td>\n",
       "      <td>True</td>\n",
       "      <td>91555</td>\n",
       "    </tr>\n",
       "    <tr>\n",
       "      <th>447223</th>\n",
       "      <td>1010</td>\n",
       "      <td>846</td>\n",
       "      <td>15</td>\n",
       "      <td>12</td>\n",
       "      <td>108026</td>\n",
       "      <td>1</td>\n",
       "      <td>2019</td>\n",
       "      <td>15.0</td>\n",
       "      <td>21627.0</td>\n",
       "      <td>True</td>\n",
       "      <td>91424</td>\n",
       "    </tr>\n",
       "  </tbody>\n",
       "</table>\n",
       "<p>153 rows × 11 columns</p>\n",
       "</div>"
      ],
      "text/plain": [
       "        raceId  driverId  lt_lap  position  milliseconds  circuitId  date  \\\n",
       "0          841       153       1        21        133879          1  2011   \n",
       "1          841        30       1        22        161428          1  2011   \n",
       "2          841        17      11         7        114995          1  2011   \n",
       "3          841         4      12        12        112624          1  2011   \n",
       "4          841        13      13        11        114060          1  2011   \n",
       "...        ...       ...     ...       ...           ...        ...   ...   \n",
       "447219    1010       825      14        11        108686          1  2019   \n",
       "447220    1010       848      14        15        108191          1  2019   \n",
       "447221    1010         1      15         4        106079          1  2019   \n",
       "447222    1010       154      15        14        116519          1  2019   \n",
       "447223    1010       846      15        12        108026          1  2019   \n",
       "\n",
       "        ps_lap  pit_time  target  up_milli  \n",
       "0          1.0   26898.0    True    133879  \n",
       "1          1.0   25021.0    True    161428  \n",
       "2         11.0   23426.0    True     95248  \n",
       "3         12.0   23251.0    True     95857  \n",
       "4         13.0   23842.0    True     95662  \n",
       "...        ...       ...     ...       ...  \n",
       "447219    14.0   22388.0    True     91388  \n",
       "447220    14.0   21780.0    True     91782  \n",
       "447221    15.0   21515.0    True     89495  \n",
       "447222    15.0   29981.0    True     91555  \n",
       "447223    15.0   21627.0    True     91424  \n",
       "\n",
       "[153 rows x 11 columns]"
      ]
     },
     "execution_count": 20,
     "metadata": {},
     "output_type": "execute_result"
    }
   ],
   "source": [
    "data[(data.target == True) & (data.circuitId == 1) & (data.lt_lap < 22)].groupby('lt_lap')['']"
   ]
  },
  {
   "cell_type": "code",
   "execution_count": 80,
   "metadata": {},
   "outputs": [],
   "source": [
    "predict = pd.read_csv(\"./data/pred__.csv\")"
   ]
  },
  {
   "cell_type": "code",
   "execution_count": 82,
   "metadata": {},
   "outputs": [],
   "source": [
    "predict.drop(columns=['Unnamed: 0'],inplace=True)"
   ]
  },
  {
   "cell_type": "code",
   "execution_count": 83,
   "metadata": {},
   "outputs": [
    {
     "data": {
      "text/html": [
       "<div>\n",
       "<style scoped>\n",
       "    .dataframe tbody tr th:only-of-type {\n",
       "        vertical-align: middle;\n",
       "    }\n",
       "\n",
       "    .dataframe tbody tr th {\n",
       "        vertical-align: top;\n",
       "    }\n",
       "\n",
       "    .dataframe thead th {\n",
       "        text-align: right;\n",
       "    }\n",
       "</style>\n",
       "<table border=\"1\" class=\"dataframe\">\n",
       "  <thead>\n",
       "    <tr style=\"text-align: right;\">\n",
       "      <th></th>\n",
       "      <th>lt_lap</th>\n",
       "      <th>position</th>\n",
       "      <th>up_milli</th>\n",
       "      <th>circuitId</th>\n",
       "      <th>date</th>\n",
       "      <th>0</th>\n",
       "    </tr>\n",
       "  </thead>\n",
       "  <tbody>\n",
       "    <tr>\n",
       "      <th>0</th>\n",
       "      <td>61</td>\n",
       "      <td>2</td>\n",
       "      <td>76107</td>\n",
       "      <td>7</td>\n",
       "      <td>2017</td>\n",
       "      <td>False</td>\n",
       "    </tr>\n",
       "    <tr>\n",
       "      <th>1</th>\n",
       "      <td>1</td>\n",
       "      <td>9</td>\n",
       "      <td>84509</td>\n",
       "      <td>23</td>\n",
       "      <td>2002</td>\n",
       "      <td>False</td>\n",
       "    </tr>\n",
       "    <tr>\n",
       "      <th>2</th>\n",
       "      <td>52</td>\n",
       "      <td>2</td>\n",
       "      <td>110041</td>\n",
       "      <td>15</td>\n",
       "      <td>2015</td>\n",
       "      <td>False</td>\n",
       "    </tr>\n",
       "    <tr>\n",
       "      <th>3</th>\n",
       "      <td>32</td>\n",
       "      <td>8</td>\n",
       "      <td>101584</td>\n",
       "      <td>9</td>\n",
       "      <td>1998</td>\n",
       "      <td>False</td>\n",
       "    </tr>\n",
       "    <tr>\n",
       "      <th>4</th>\n",
       "      <td>48</td>\n",
       "      <td>13</td>\n",
       "      <td>103187</td>\n",
       "      <td>2</td>\n",
       "      <td>2003</td>\n",
       "      <td>False</td>\n",
       "    </tr>\n",
       "  </tbody>\n",
       "</table>\n",
       "</div>"
      ],
      "text/plain": [
       "   lt_lap  position  up_milli  circuitId  date      0\n",
       "0      61         2     76107          7  2017  False\n",
       "1       1         9     84509         23  2002  False\n",
       "2      52         2    110041         15  2015  False\n",
       "3      32         8    101584          9  1998  False\n",
       "4      48        13    103187          2  2003  False"
      ]
     },
     "execution_count": 83,
     "metadata": {},
     "output_type": "execute_result"
    }
   ],
   "source": [
    "predict.head()"
   ]
  },
  {
   "cell_type": "code",
   "execution_count": 90,
   "metadata": {},
   "outputs": [
    {
     "name": "stdout",
     "output_type": "stream",
     "text": [
      "<class 'pandas.core.frame.DataFrame'>\n",
      "RangeIndex: 155927 entries, 0 to 155926\n",
      "Data columns (total 6 columns):\n",
      " #   Column     Non-Null Count   Dtype\n",
      "---  ------     --------------   -----\n",
      " 0   lt_lap     155927 non-null  int64\n",
      " 1   position   155927 non-null  int64\n",
      " 2   up_milli   155927 non-null  int64\n",
      " 3   circuitId  155927 non-null  int64\n",
      " 4   date       155927 non-null  int64\n",
      " 5   0          155927 non-null  bool \n",
      "dtypes: bool(1), int64(5)\n",
      "memory usage: 6.1 MB\n"
     ]
    }
   ],
   "source": [
    "predict."
   ]
  },
  {
   "cell_type": "code",
   "execution_count": 99,
   "metadata": {},
   "outputs": [
    {
     "data": {
      "image/png": "[encoded data removed]",
      "text/plain": [
       "<Figure size 1440x1440 with 1 Axes>"
      ]
     },
     "metadata": {
      "needs_background": "light"
     },
     "output_type": "display_data"
    }
   ],
   "source": [
    "plt.figure(figsize = (20,20));\n",
    "predict[(predict.circuitId == 1) & (predict.lt_lap<45)].groupby('lt_lap')['0'].mean().plot(kind = 'barh')\n",
    "plt.title('Albert Park Grand Prix Circuit-Model', size = 30);\n",
    "plt.ylabel('Lap #', size = 30);\n",
    "plt.xlabel('Average Percentage of Pit Stops Made', size = 30);\n",
    "plt.xticks(size = 30);\n",
    "plt.yticks(size = 20);"
   ]
  }
 ],
 "metadata": {
  "kernelspec": {
   "display_name": "Python 3",
   "language": "python",
   "name": "python3"
  },
  "language_info": {
   "codemirror_mode": {
    "name": "ipython",
    "version": 3
   },
   "file_extension": ".py",
   "mimetype": "text/x-python",
   "name": "python",
   "nbconvert_exporter": "python",
   "pygments_lexer": "ipython3",
   "version": "3.7.6"
  }
 },
 "nbformat": 4,
 "nbformat_minor": 2
}
