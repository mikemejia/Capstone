{
 "cells": [
  {
   "cell_type": "code",
   "execution_count": 1,
   "metadata": {},
   "outputs": [],
   "source": [
    "from sklearn.model_selection import train_test_split\n",
    "import numpy as np\n",
    "import pandas as pd\n",
    "from sklearn.linear_model import LogisticRegression\n",
    "from sklearn.tree import DecisionTreeClassifier\n",
    "from sklearn.model_selection import GridSearchCV\n",
    "from sklearn.metrics import confusion_matrix\n",
    "from sklearn.ensemble import RandomForestClassifier, ExtraTreesClassifier"
   ]
  },
  {
   "cell_type": "markdown",
   "metadata": {},
   "source": [
    "## Importing the final files from the data engineering side."
   ]
  },
  {
   "cell_type": "code",
   "execution_count": 51,
   "metadata": {},
   "outputs": [],
   "source": [
    "data = pd.read_csv('./data/Final_2.csv')"
   ]
  },
  {
   "cell_type": "code",
   "execution_count": 52,
   "metadata": {},
   "outputs": [],
   "source": [
    "data.drop(columns=['Unnamed: 0'],inplace=True)"
   ]
  },
  {
   "cell_type": "code",
   "execution_count": 59,
   "metadata": {
    "scrolled": false
   },
   "outputs": [
    {
     "data": {
      "text/plain": [
       "(472504, 12)"
      ]
     },
     "execution_count": 59,
     "metadata": {},
     "output_type": "execute_result"
    }
   ],
   "source": [
    "data.shape"
   ]
  },
  {
   "cell_type": "markdown",
   "metadata": {},
   "source": [
    "## Creating a new column which would have a different time then the lap time shown for rows where cars had pitstops. Without this column being updated, any modeling would just choose rows with a large amound of time to complete a lap as laps which are pit stops. The \"new\" variable creates a list of new lap times for the laps that have a pit stop. It takes the previous lap and adds a second to it and uses that as the new value for that lap. "
   ]
  },
  {
   "cell_type": "code",
   "execution_count": 117,
   "metadata": {},
   "outputs": [],
   "source": [
    "new=[data[(data.raceId == data.loc[i].raceId) & \n",
    "     (data.driverId == data.loc[i].driverId) & \n",
    "     (data.lt_lap == (data.loc[i].lt_lap-1))].milliseconds.values[0]+1000\n",
    "      if ((data.loc[i].target) and (data.loc[i].lt_lap != 1)) else data.loc[i].milliseconds for i in range(len(data))]"
   ]
  },
  {
   "cell_type": "markdown",
   "metadata": {},
   "source": [
    "## Creates the new column"
   ]
  },
  {
   "cell_type": "code",
   "execution_count": 118,
   "metadata": {},
   "outputs": [],
   "source": [
    "data['up_milli'] = new"
   ]
  },
  {
   "cell_type": "markdown",
   "metadata": {},
   "source": [
    "## To extract only the year for that column"
   ]
  },
  {
   "cell_type": "code",
   "execution_count": 129,
   "metadata": {},
   "outputs": [],
   "source": [
    "data.date = [x[:4] for x in data.date]"
   ]
  },
  {
   "cell_type": "markdown",
   "metadata": {},
   "source": [
    "## Exporting the data to the final csv"
   ]
  },
  {
   "cell_type": "code",
   "execution_count": 6,
   "metadata": {},
   "outputs": [],
   "source": [
    "data.to_csv(\"./data/For_models.csv\")"
   ]
  },
  {
   "cell_type": "code",
   "execution_count": 2,
   "metadata": {},
   "outputs": [],
   "source": [
    "data = pd.read_csv(\"./data/For_models.csv\")"
   ]
  },
  {
   "cell_type": "code",
   "execution_count": 107,
   "metadata": {},
   "outputs": [
    {
     "data": {
      "text/plain": [
       "465068"
      ]
     },
     "execution_count": 107,
     "metadata": {},
     "output_type": "execute_result"
    }
   ],
   "source": [
    "# Number of negative class observations\n",
    "n_false = data[data['target'] == False].shape[0]\n",
    "n_false"
   ]
  },
  {
   "cell_type": "code",
   "execution_count": 109,
   "metadata": {},
   "outputs": [
    {
     "data": {
      "text/html": [
       "<div>\n",
       "<style scoped>\n",
       "    .dataframe tbody tr th:only-of-type {\n",
       "        vertical-align: middle;\n",
       "    }\n",
       "\n",
       "    .dataframe tbody tr th {\n",
       "        vertical-align: top;\n",
       "    }\n",
       "\n",
       "    .dataframe thead th {\n",
       "        text-align: right;\n",
       "    }\n",
       "</style>\n",
       "<table border=\"1\" class=\"dataframe\">\n",
       "  <thead>\n",
       "    <tr style=\"text-align: right;\">\n",
       "      <th></th>\n",
       "      <th>Unnamed: 0</th>\n",
       "      <th>raceId</th>\n",
       "      <th>driverId</th>\n",
       "      <th>lt_lap</th>\n",
       "      <th>position</th>\n",
       "      <th>milliseconds</th>\n",
       "      <th>circuitId</th>\n",
       "      <th>date</th>\n",
       "      <th>ps_lap</th>\n",
       "      <th>pit_time</th>\n",
       "      <th>target</th>\n",
       "      <th>up_milli</th>\n",
       "    </tr>\n",
       "  </thead>\n",
       "  <tbody>\n",
       "    <tr>\n",
       "      <th>360</th>\n",
       "      <td>360</td>\n",
       "      <td>841</td>\n",
       "      <td>20</td>\n",
       "      <td>1</td>\n",
       "      <td>1</td>\n",
       "      <td>98109</td>\n",
       "      <td>1</td>\n",
       "      <td>2011</td>\n",
       "      <td>NaN</td>\n",
       "      <td>NaN</td>\n",
       "      <td>False</td>\n",
       "      <td>98109</td>\n",
       "    </tr>\n",
       "    <tr>\n",
       "      <th>361</th>\n",
       "      <td>361</td>\n",
       "      <td>841</td>\n",
       "      <td>20</td>\n",
       "      <td>2</td>\n",
       "      <td>1</td>\n",
       "      <td>93006</td>\n",
       "      <td>1</td>\n",
       "      <td>2011</td>\n",
       "      <td>NaN</td>\n",
       "      <td>NaN</td>\n",
       "      <td>False</td>\n",
       "      <td>93006</td>\n",
       "    </tr>\n",
       "    <tr>\n",
       "      <th>362</th>\n",
       "      <td>362</td>\n",
       "      <td>841</td>\n",
       "      <td>20</td>\n",
       "      <td>3</td>\n",
       "      <td>1</td>\n",
       "      <td>92713</td>\n",
       "      <td>1</td>\n",
       "      <td>2011</td>\n",
       "      <td>NaN</td>\n",
       "      <td>NaN</td>\n",
       "      <td>False</td>\n",
       "      <td>92713</td>\n",
       "    </tr>\n",
       "    <tr>\n",
       "      <th>363</th>\n",
       "      <td>363</td>\n",
       "      <td>841</td>\n",
       "      <td>20</td>\n",
       "      <td>4</td>\n",
       "      <td>1</td>\n",
       "      <td>92803</td>\n",
       "      <td>1</td>\n",
       "      <td>2011</td>\n",
       "      <td>NaN</td>\n",
       "      <td>NaN</td>\n",
       "      <td>False</td>\n",
       "      <td>92803</td>\n",
       "    </tr>\n",
       "    <tr>\n",
       "      <th>364</th>\n",
       "      <td>364</td>\n",
       "      <td>841</td>\n",
       "      <td>20</td>\n",
       "      <td>5</td>\n",
       "      <td>1</td>\n",
       "      <td>92342</td>\n",
       "      <td>1</td>\n",
       "      <td>2011</td>\n",
       "      <td>NaN</td>\n",
       "      <td>NaN</td>\n",
       "      <td>False</td>\n",
       "      <td>92342</td>\n",
       "    </tr>\n",
       "  </tbody>\n",
       "</table>\n",
       "</div>"
      ],
      "text/plain": [
       "     Unnamed: 0  raceId  driverId  lt_lap  position  milliseconds  circuitId  \\\n",
       "360         360     841        20       1         1         98109          1   \n",
       "361         361     841        20       2         1         93006          1   \n",
       "362         362     841        20       3         1         92713          1   \n",
       "363         363     841        20       4         1         92803          1   \n",
       "364         364     841        20       5         1         92342          1   \n",
       "\n",
       "     date  ps_lap  pit_time  target  up_milli  \n",
       "360  2011     NaN       NaN   False     98109  \n",
       "361  2011     NaN       NaN   False     93006  \n",
       "362  2011     NaN       NaN   False     92713  \n",
       "363  2011     NaN       NaN   False     92803  \n",
       "364  2011     NaN       NaN   False     92342  "
      ]
     },
     "execution_count": 109,
     "metadata": {},
     "output_type": "execute_result"
    }
   ],
   "source": [
    "data_false = data[data['target'] == False]\n",
    "data_false.head()"
   ]
  },
  {
   "cell_type": "code",
   "execution_count": 103,
   "metadata": {},
   "outputs": [
    {
     "data": {
      "text/plain": [
       "7436"
      ]
     },
     "execution_count": 103,
     "metadata": {},
     "output_type": "execute_result"
    }
   ],
   "source": [
    "# Number of positive class observations\n",
    "data[data['target'] == True].shape[0]"
   ]
  },
  {
   "cell_type": "code",
   "execution_count": 112,
   "metadata": {},
   "outputs": [
    {
     "data": {
      "text/html": [
       "<div>\n",
       "<style scoped>\n",
       "    .dataframe tbody tr th:only-of-type {\n",
       "        vertical-align: middle;\n",
       "    }\n",
       "\n",
       "    .dataframe tbody tr th {\n",
       "        vertical-align: top;\n",
       "    }\n",
       "\n",
       "    .dataframe thead th {\n",
       "        text-align: right;\n",
       "    }\n",
       "</style>\n",
       "<table border=\"1\" class=\"dataframe\">\n",
       "  <thead>\n",
       "    <tr style=\"text-align: right;\">\n",
       "      <th></th>\n",
       "      <th>Unnamed: 0</th>\n",
       "      <th>raceId</th>\n",
       "      <th>driverId</th>\n",
       "      <th>lt_lap</th>\n",
       "      <th>position</th>\n",
       "      <th>milliseconds</th>\n",
       "      <th>circuitId</th>\n",
       "      <th>date</th>\n",
       "      <th>ps_lap</th>\n",
       "      <th>pit_time</th>\n",
       "      <th>target</th>\n",
       "      <th>up_milli</th>\n",
       "    </tr>\n",
       "  </thead>\n",
       "  <tbody>\n",
       "    <tr>\n",
       "      <th>0</th>\n",
       "      <td>0</td>\n",
       "      <td>841</td>\n",
       "      <td>153</td>\n",
       "      <td>1</td>\n",
       "      <td>21</td>\n",
       "      <td>133879</td>\n",
       "      <td>1</td>\n",
       "      <td>2011</td>\n",
       "      <td>1.0</td>\n",
       "      <td>26898.0</td>\n",
       "      <td>True</td>\n",
       "      <td>133879</td>\n",
       "    </tr>\n",
       "    <tr>\n",
       "      <th>1</th>\n",
       "      <td>1</td>\n",
       "      <td>841</td>\n",
       "      <td>30</td>\n",
       "      <td>1</td>\n",
       "      <td>22</td>\n",
       "      <td>161428</td>\n",
       "      <td>1</td>\n",
       "      <td>2011</td>\n",
       "      <td>1.0</td>\n",
       "      <td>25021.0</td>\n",
       "      <td>True</td>\n",
       "      <td>161428</td>\n",
       "    </tr>\n",
       "    <tr>\n",
       "      <th>2</th>\n",
       "      <td>2</td>\n",
       "      <td>841</td>\n",
       "      <td>17</td>\n",
       "      <td>11</td>\n",
       "      <td>7</td>\n",
       "      <td>114995</td>\n",
       "      <td>1</td>\n",
       "      <td>2011</td>\n",
       "      <td>11.0</td>\n",
       "      <td>23426.0</td>\n",
       "      <td>True</td>\n",
       "      <td>95248</td>\n",
       "    </tr>\n",
       "    <tr>\n",
       "      <th>3</th>\n",
       "      <td>3</td>\n",
       "      <td>841</td>\n",
       "      <td>4</td>\n",
       "      <td>12</td>\n",
       "      <td>12</td>\n",
       "      <td>112624</td>\n",
       "      <td>1</td>\n",
       "      <td>2011</td>\n",
       "      <td>12.0</td>\n",
       "      <td>23251.0</td>\n",
       "      <td>True</td>\n",
       "      <td>95857</td>\n",
       "    </tr>\n",
       "    <tr>\n",
       "      <th>4</th>\n",
       "      <td>4</td>\n",
       "      <td>841</td>\n",
       "      <td>13</td>\n",
       "      <td>13</td>\n",
       "      <td>11</td>\n",
       "      <td>114060</td>\n",
       "      <td>1</td>\n",
       "      <td>2011</td>\n",
       "      <td>13.0</td>\n",
       "      <td>23842.0</td>\n",
       "      <td>True</td>\n",
       "      <td>95662</td>\n",
       "    </tr>\n",
       "  </tbody>\n",
       "</table>\n",
       "</div>"
      ],
      "text/plain": [
       "   Unnamed: 0  raceId  driverId  lt_lap  position  milliseconds  circuitId  \\\n",
       "0           0     841       153       1        21        133879          1   \n",
       "1           1     841        30       1        22        161428          1   \n",
       "2           2     841        17      11         7        114995          1   \n",
       "3           3     841         4      12        12        112624          1   \n",
       "4           4     841        13      13        11        114060          1   \n",
       "\n",
       "   date  ps_lap  pit_time  target  up_milli  \n",
       "0  2011     1.0   26898.0    True    133879  \n",
       "1  2011     1.0   25021.0    True    161428  \n",
       "2  2011    11.0   23426.0    True     95248  \n",
       "3  2011    12.0   23251.0    True     95857  \n",
       "4  2011    13.0   23842.0    True     95662  "
      ]
     },
     "execution_count": 112,
     "metadata": {},
     "output_type": "execute_result"
    }
   ],
   "source": [
    "data_true = data[data['target'] == True]\n",
    "data_true.head()"
   ]
  },
  {
   "cell_type": "code",
   "execution_count": 113,
   "metadata": {},
   "outputs": [
    {
     "data": {
      "text/html": [
       "<div>\n",
       "<style scoped>\n",
       "    .dataframe tbody tr th:only-of-type {\n",
       "        vertical-align: middle;\n",
       "    }\n",
       "\n",
       "    .dataframe tbody tr th {\n",
       "        vertical-align: top;\n",
       "    }\n",
       "\n",
       "    .dataframe thead th {\n",
       "        text-align: right;\n",
       "    }\n",
       "</style>\n",
       "<table border=\"1\" class=\"dataframe\">\n",
       "  <thead>\n",
       "    <tr style=\"text-align: right;\">\n",
       "      <th></th>\n",
       "      <th>Unnamed: 0</th>\n",
       "      <th>raceId</th>\n",
       "      <th>driverId</th>\n",
       "      <th>lt_lap</th>\n",
       "      <th>position</th>\n",
       "      <th>milliseconds</th>\n",
       "      <th>circuitId</th>\n",
       "      <th>date</th>\n",
       "      <th>ps_lap</th>\n",
       "      <th>pit_time</th>\n",
       "      <th>target</th>\n",
       "      <th>up_milli</th>\n",
       "    </tr>\n",
       "  </thead>\n",
       "  <tbody>\n",
       "    <tr>\n",
       "      <th>38725</th>\n",
       "      <td>38725</td>\n",
       "      <td>874</td>\n",
       "      <td>5</td>\n",
       "      <td>41</td>\n",
       "      <td>16</td>\n",
       "      <td>102321</td>\n",
       "      <td>22</td>\n",
       "      <td>2012</td>\n",
       "      <td>41.0</td>\n",
       "      <td>22678.0</td>\n",
       "      <td>True</td>\n",
       "      <td>101356</td>\n",
       "    </tr>\n",
       "    <tr>\n",
       "      <th>54023</th>\n",
       "      <td>54023</td>\n",
       "      <td>884</td>\n",
       "      <td>8</td>\n",
       "      <td>45</td>\n",
       "      <td>2</td>\n",
       "      <td>92851</td>\n",
       "      <td>4</td>\n",
       "      <td>2013</td>\n",
       "      <td>45.0</td>\n",
       "      <td>20184.0</td>\n",
       "      <td>True</td>\n",
       "      <td>90901</td>\n",
       "    </tr>\n",
       "    <tr>\n",
       "      <th>439633</th>\n",
       "      <td>439633</td>\n",
       "      <td>1007</td>\n",
       "      <td>844</td>\n",
       "      <td>13</td>\n",
       "      <td>7</td>\n",
       "      <td>88335</td>\n",
       "      <td>32</td>\n",
       "      <td>2018</td>\n",
       "      <td>13.0</td>\n",
       "      <td>22588.0</td>\n",
       "      <td>True</td>\n",
       "      <td>86636</td>\n",
       "    </tr>\n",
       "    <tr>\n",
       "      <th>470347</th>\n",
       "      <td>470347</td>\n",
       "      <td>1030</td>\n",
       "      <td>840</td>\n",
       "      <td>5</td>\n",
       "      <td>15</td>\n",
       "      <td>108982</td>\n",
       "      <td>24</td>\n",
       "      <td>2019</td>\n",
       "      <td>5.0</td>\n",
       "      <td>28842.0</td>\n",
       "      <td>True</td>\n",
       "      <td>107776</td>\n",
       "    </tr>\n",
       "    <tr>\n",
       "      <th>23453</th>\n",
       "      <td>23453</td>\n",
       "      <td>864</td>\n",
       "      <td>817</td>\n",
       "      <td>39</td>\n",
       "      <td>15</td>\n",
       "      <td>96177</td>\n",
       "      <td>4</td>\n",
       "      <td>2012</td>\n",
       "      <td>39.0</td>\n",
       "      <td>20059.0</td>\n",
       "      <td>True</td>\n",
       "      <td>92966</td>\n",
       "    </tr>\n",
       "    <tr>\n",
       "      <th>...</th>\n",
       "      <td>...</td>\n",
       "      <td>...</td>\n",
       "      <td>...</td>\n",
       "      <td>...</td>\n",
       "      <td>...</td>\n",
       "      <td>...</td>\n",
       "      <td>...</td>\n",
       "      <td>...</td>\n",
       "      <td>...</td>\n",
       "      <td>...</td>\n",
       "      <td>...</td>\n",
       "      <td>...</td>\n",
       "    </tr>\n",
       "    <tr>\n",
       "      <th>408760</th>\n",
       "      <td>408760</td>\n",
       "      <td>976</td>\n",
       "      <td>822</td>\n",
       "      <td>11</td>\n",
       "      <td>18</td>\n",
       "      <td>133418</td>\n",
       "      <td>73</td>\n",
       "      <td>2017</td>\n",
       "      <td>11.0</td>\n",
       "      <td>20407.0</td>\n",
       "      <td>True</td>\n",
       "      <td>109350</td>\n",
       "    </tr>\n",
       "    <tr>\n",
       "      <th>447321</th>\n",
       "      <td>447321</td>\n",
       "      <td>1013</td>\n",
       "      <td>20</td>\n",
       "      <td>11</td>\n",
       "      <td>5</td>\n",
       "      <td>114804</td>\n",
       "      <td>73</td>\n",
       "      <td>2019</td>\n",
       "      <td>11.0</td>\n",
       "      <td>19981.0</td>\n",
       "      <td>True</td>\n",
       "      <td>110490</td>\n",
       "    </tr>\n",
       "    <tr>\n",
       "      <th>92638</th>\n",
       "      <td>92638</td>\n",
       "      <td>929</td>\n",
       "      <td>154</td>\n",
       "      <td>31</td>\n",
       "      <td>7</td>\n",
       "      <td>105040</td>\n",
       "      <td>3</td>\n",
       "      <td>2015</td>\n",
       "      <td>31.0</td>\n",
       "      <td>25259.0</td>\n",
       "      <td>True</td>\n",
       "      <td>103275</td>\n",
       "    </tr>\n",
       "    <tr>\n",
       "      <th>84854</th>\n",
       "      <td>84854</td>\n",
       "      <td>911</td>\n",
       "      <td>820</td>\n",
       "      <td>29</td>\n",
       "      <td>18</td>\n",
       "      <td>123046</td>\n",
       "      <td>13</td>\n",
       "      <td>2014</td>\n",
       "      <td>29.0</td>\n",
       "      <td>24873.0</td>\n",
       "      <td>True</td>\n",
       "      <td>119526</td>\n",
       "    </tr>\n",
       "    <tr>\n",
       "      <th>61789</th>\n",
       "      <td>61789</td>\n",
       "      <td>893</td>\n",
       "      <td>17</td>\n",
       "      <td>13</td>\n",
       "      <td>6</td>\n",
       "      <td>120922</td>\n",
       "      <td>15</td>\n",
       "      <td>2013</td>\n",
       "      <td>13.0</td>\n",
       "      <td>29031.0</td>\n",
       "      <td>True</td>\n",
       "      <td>114590</td>\n",
       "    </tr>\n",
       "  </tbody>\n",
       "</table>\n",
       "<p>465068 rows × 12 columns</p>\n",
       "</div>"
      ],
      "text/plain": [
       "        Unnamed: 0  raceId  driverId  lt_lap  position  milliseconds  \\\n",
       "38725        38725     874         5      41        16        102321   \n",
       "54023        54023     884         8      45         2         92851   \n",
       "439633      439633    1007       844      13         7         88335   \n",
       "470347      470347    1030       840       5        15        108982   \n",
       "23453        23453     864       817      39        15         96177   \n",
       "...            ...     ...       ...     ...       ...           ...   \n",
       "408760      408760     976       822      11        18        133418   \n",
       "447321      447321    1013        20      11         5        114804   \n",
       "92638        92638     929       154      31         7        105040   \n",
       "84854        84854     911       820      29        18        123046   \n",
       "61789        61789     893        17      13         6        120922   \n",
       "\n",
       "        circuitId  date  ps_lap  pit_time  target  up_milli  \n",
       "38725          22  2012    41.0   22678.0    True    101356  \n",
       "54023           4  2013    45.0   20184.0    True     90901  \n",
       "439633         32  2018    13.0   22588.0    True     86636  \n",
       "470347         24  2019     5.0   28842.0    True    107776  \n",
       "23453           4  2012    39.0   20059.0    True     92966  \n",
       "...           ...   ...     ...       ...     ...       ...  \n",
       "408760         73  2017    11.0   20407.0    True    109350  \n",
       "447321         73  2019    11.0   19981.0    True    110490  \n",
       "92638           3  2015    31.0   25259.0    True    103275  \n",
       "84854          13  2014    29.0   24873.0    True    119526  \n",
       "61789          15  2013    13.0   29031.0    True    114590  \n",
       "\n",
       "[465068 rows x 12 columns]"
      ]
     },
     "execution_count": 113,
     "metadata": {},
     "output_type": "execute_result"
    }
   ],
   "source": [
    "# Bootstrap data_true so that we have a 50/50 baseline\n",
    "data_true = data_true.sample(n_false, replace = True)\n",
    "data_true"
   ]
  },
  {
   "cell_type": "code",
   "execution_count": 117,
   "metadata": {},
   "outputs": [],
   "source": [
    "split_=pd.concat([data_true, data_false])"
   ]
  },
  {
   "cell_type": "code",
   "execution_count": 125,
   "metadata": {},
   "outputs": [
    {
     "data": {
      "text/plain": [
       "Index(['Unnamed: 0', 'raceId', 'driverId', 'lt_lap', 'position',\n",
       "       'milliseconds', 'circuitId', 'date', 'ps_lap', 'pit_time', 'target',\n",
       "       'up_milli'],\n",
       "      dtype='object')"
      ]
     },
     "execution_count": 125,
     "metadata": {},
     "output_type": "execute_result"
    }
   ],
   "source": [
    "split_.columns"
   ]
  },
  {
   "cell_type": "code",
   "execution_count": 129,
   "metadata": {},
   "outputs": [
    {
     "data": {
      "text/html": [
       "<div>\n",
       "<style scoped>\n",
       "    .dataframe tbody tr th:only-of-type {\n",
       "        vertical-align: middle;\n",
       "    }\n",
       "\n",
       "    .dataframe tbody tr th {\n",
       "        vertical-align: top;\n",
       "    }\n",
       "\n",
       "    .dataframe thead th {\n",
       "        text-align: right;\n",
       "    }\n",
       "</style>\n",
       "<table border=\"1\" class=\"dataframe\">\n",
       "  <thead>\n",
       "    <tr style=\"text-align: right;\">\n",
       "      <th></th>\n",
       "      <th>Unnamed: 0</th>\n",
       "      <th>raceId</th>\n",
       "      <th>driverId</th>\n",
       "      <th>lt_lap</th>\n",
       "      <th>position</th>\n",
       "      <th>milliseconds</th>\n",
       "      <th>circuitId</th>\n",
       "      <th>date</th>\n",
       "      <th>ps_lap</th>\n",
       "      <th>pit_time</th>\n",
       "      <th>target</th>\n",
       "      <th>up_milli</th>\n",
       "    </tr>\n",
       "  </thead>\n",
       "  <tbody>\n",
       "    <tr>\n",
       "      <th>0</th>\n",
       "      <td>342881</td>\n",
       "      <td>1</td>\n",
       "      <td>1</td>\n",
       "      <td>1</td>\n",
       "      <td>13</td>\n",
       "      <td>109088</td>\n",
       "      <td>1</td>\n",
       "      <td>2009</td>\n",
       "      <td>NaN</td>\n",
       "      <td>NaN</td>\n",
       "      <td>False</td>\n",
       "      <td>109088</td>\n",
       "    </tr>\n",
       "    <tr>\n",
       "      <th>1</th>\n",
       "      <td>342939</td>\n",
       "      <td>1</td>\n",
       "      <td>13</td>\n",
       "      <td>1</td>\n",
       "      <td>3</td>\n",
       "      <td>100201</td>\n",
       "      <td>1</td>\n",
       "      <td>2009</td>\n",
       "      <td>NaN</td>\n",
       "      <td>NaN</td>\n",
       "      <td>False</td>\n",
       "      <td>100201</td>\n",
       "    </tr>\n",
       "    <tr>\n",
       "      <th>2</th>\n",
       "      <td>342984</td>\n",
       "      <td>1</td>\n",
       "      <td>8</td>\n",
       "      <td>1</td>\n",
       "      <td>5</td>\n",
       "      <td>101712</td>\n",
       "      <td>1</td>\n",
       "      <td>2009</td>\n",
       "      <td>NaN</td>\n",
       "      <td>NaN</td>\n",
       "      <td>False</td>\n",
       "      <td>101712</td>\n",
       "    </tr>\n",
       "    <tr>\n",
       "      <th>3</th>\n",
       "      <td>343039</td>\n",
       "      <td>1</td>\n",
       "      <td>9</td>\n",
       "      <td>1</td>\n",
       "      <td>4</td>\n",
       "      <td>101250</td>\n",
       "      <td>1</td>\n",
       "      <td>2009</td>\n",
       "      <td>NaN</td>\n",
       "      <td>NaN</td>\n",
       "      <td>False</td>\n",
       "      <td>101250</td>\n",
       "    </tr>\n",
       "    <tr>\n",
       "      <th>4</th>\n",
       "      <td>343094</td>\n",
       "      <td>1</td>\n",
       "      <td>2</td>\n",
       "      <td>1</td>\n",
       "      <td>17</td>\n",
       "      <td>157754</td>\n",
       "      <td>1</td>\n",
       "      <td>2009</td>\n",
       "      <td>NaN</td>\n",
       "      <td>NaN</td>\n",
       "      <td>False</td>\n",
       "      <td>157754</td>\n",
       "    </tr>\n",
       "    <tr>\n",
       "      <th>...</th>\n",
       "      <td>...</td>\n",
       "      <td>...</td>\n",
       "      <td>...</td>\n",
       "      <td>...</td>\n",
       "      <td>...</td>\n",
       "      <td>...</td>\n",
       "      <td>...</td>\n",
       "      <td>...</td>\n",
       "      <td>...</td>\n",
       "      <td>...</td>\n",
       "      <td>...</td>\n",
       "      <td>...</td>\n",
       "    </tr>\n",
       "    <tr>\n",
       "      <th>930131</th>\n",
       "      <td>452366</td>\n",
       "      <td>1013</td>\n",
       "      <td>830</td>\n",
       "      <td>51</td>\n",
       "      <td>4</td>\n",
       "      <td>106921</td>\n",
       "      <td>73</td>\n",
       "      <td>2019</td>\n",
       "      <td>NaN</td>\n",
       "      <td>NaN</td>\n",
       "      <td>False</td>\n",
       "      <td>106921</td>\n",
       "    </tr>\n",
       "    <tr>\n",
       "      <th>930132</th>\n",
       "      <td>452415</td>\n",
       "      <td>1013</td>\n",
       "      <td>846</td>\n",
       "      <td>51</td>\n",
       "      <td>8</td>\n",
       "      <td>107801</td>\n",
       "      <td>73</td>\n",
       "      <td>2019</td>\n",
       "      <td>NaN</td>\n",
       "      <td>NaN</td>\n",
       "      <td>False</td>\n",
       "      <td>107801</td>\n",
       "    </tr>\n",
       "    <tr>\n",
       "      <th>930133</th>\n",
       "      <td>452497</td>\n",
       "      <td>1013</td>\n",
       "      <td>832</td>\n",
       "      <td>51</td>\n",
       "      <td>7</td>\n",
       "      <td>107246</td>\n",
       "      <td>73</td>\n",
       "      <td>2019</td>\n",
       "      <td>NaN</td>\n",
       "      <td>NaN</td>\n",
       "      <td>False</td>\n",
       "      <td>107246</td>\n",
       "    </tr>\n",
       "    <tr>\n",
       "      <th>930134</th>\n",
       "      <td>452576</td>\n",
       "      <td>1013</td>\n",
       "      <td>844</td>\n",
       "      <td>51</td>\n",
       "      <td>5</td>\n",
       "      <td>106503</td>\n",
       "      <td>73</td>\n",
       "      <td>2019</td>\n",
       "      <td>NaN</td>\n",
       "      <td>NaN</td>\n",
       "      <td>False</td>\n",
       "      <td>106503</td>\n",
       "    </tr>\n",
       "    <tr>\n",
       "      <th>930135</th>\n",
       "      <td>452626</td>\n",
       "      <td>1013</td>\n",
       "      <td>840</td>\n",
       "      <td>51</td>\n",
       "      <td>9</td>\n",
       "      <td>107732</td>\n",
       "      <td>73</td>\n",
       "      <td>2019</td>\n",
       "      <td>NaN</td>\n",
       "      <td>NaN</td>\n",
       "      <td>False</td>\n",
       "      <td>107732</td>\n",
       "    </tr>\n",
       "  </tbody>\n",
       "</table>\n",
       "<p>930136 rows × 12 columns</p>\n",
       "</div>"
      ],
      "text/plain": [
       "        Unnamed: 0  raceId  driverId  lt_lap  position  milliseconds  \\\n",
       "0           342881       1         1       1        13        109088   \n",
       "1           342939       1        13       1         3        100201   \n",
       "2           342984       1         8       1         5        101712   \n",
       "3           343039       1         9       1         4        101250   \n",
       "4           343094       1         2       1        17        157754   \n",
       "...            ...     ...       ...     ...       ...           ...   \n",
       "930131      452366    1013       830      51         4        106921   \n",
       "930132      452415    1013       846      51         8        107801   \n",
       "930133      452497    1013       832      51         7        107246   \n",
       "930134      452576    1013       844      51         5        106503   \n",
       "930135      452626    1013       840      51         9        107732   \n",
       "\n",
       "        circuitId  date  ps_lap  pit_time  target  up_milli  \n",
       "0               1  2009     NaN       NaN   False    109088  \n",
       "1               1  2009     NaN       NaN   False    100201  \n",
       "2               1  2009     NaN       NaN   False    101712  \n",
       "3               1  2009     NaN       NaN   False    101250  \n",
       "4               1  2009     NaN       NaN   False    157754  \n",
       "...           ...   ...     ...       ...     ...       ...  \n",
       "930131         73  2019     NaN       NaN   False    106921  \n",
       "930132         73  2019     NaN       NaN   False    107801  \n",
       "930133         73  2019     NaN       NaN   False    107246  \n",
       "930134         73  2019     NaN       NaN   False    106503  \n",
       "930135         73  2019     NaN       NaN   False    107732  \n",
       "\n",
       "[930136 rows x 12 columns]"
      ]
     },
     "execution_count": 129,
     "metadata": {},
     "output_type": "execute_result"
    }
   ],
   "source": [
    "split_ = split_.sort_values(['circuitId', 'raceId', 'lt_lap'])\n",
    "split_.reset_index(drop = True, inplace = True)\n",
    "split_"
   ]
  },
  {
   "cell_type": "code",
   "execution_count": 7,
   "metadata": {},
   "outputs": [],
   "source": [
    "features = ['lt_lap', 'position', 'milliseconds', 'circuitId', 'date']"
   ]
  },
  {
   "cell_type": "code",
   "execution_count": 10,
   "metadata": {},
   "outputs": [],
   "source": [
    "X= data[features]\n",
    "y= data['target']"
   ]
  },
  {
   "cell_type": "markdown",
   "metadata": {},
   "source": [
    "## The data set is extemely unbalanced but not much can be changed as every race has an average of 2 pits out of 60-70 laps there will never be a balanced amount of data for it. "
   ]
  },
  {
   "cell_type": "code",
   "execution_count": 225,
   "metadata": {
    "scrolled": true
   },
   "outputs": [
    {
     "data": {
      "text/plain": [
       "False    0.984263\n",
       "True     0.015737\n",
       "Name: target, dtype: float64"
      ]
     },
     "execution_count": 225,
     "metadata": {},
     "output_type": "execute_result"
    }
   ],
   "source": [
    "y.value_counts(normalize=True)"
   ]
  },
  {
   "cell_type": "code",
   "execution_count": 223,
   "metadata": {},
   "outputs": [],
   "source": [
    "X_train, X_test, y_train, y_test = train_test_split(X,\n",
    "                                                    y,\n",
    "                                                    test_size=0.33,\n",
    "                                                    random_state=42)"
   ]
  },
  {
   "cell_type": "markdown",
   "metadata": {},
   "source": [
    "## Base model logistic regression"
   ]
  },
  {
   "cell_type": "code",
   "execution_count": 13,
   "metadata": {},
   "outputs": [
    {
     "data": {
      "text/plain": [
       "LogisticRegression(C=1.0, class_weight=None, dual=False, fit_intercept=True,\n",
       "                   intercept_scaling=1, l1_ratio=None, max_iter=100,\n",
       "                   multi_class='auto', n_jobs=None, penalty='l2',\n",
       "                   random_state=None, solver='lbfgs', tol=0.0001, verbose=0,\n",
       "                   warm_start=False)"
      ]
     },
     "execution_count": 13,
     "metadata": {},
     "output_type": "execute_result"
    }
   ],
   "source": [
    "logreg = LogisticRegression()\n",
    "logreg.fit(X_train, y_train)"
   ]
  },
  {
   "cell_type": "code",
   "execution_count": 14,
   "metadata": {},
   "outputs": [
    {
     "data": {
      "text/plain": [
       "0.984120774464974"
      ]
     },
     "execution_count": 14,
     "metadata": {},
     "output_type": "execute_result"
    }
   ],
   "source": [
    "logreg.score(X_test, y_test)"
   ]
  },
  {
   "cell_type": "markdown",
   "metadata": {},
   "source": [
    "## Features that include the updated time to have one second added."
   ]
  },
  {
   "cell_type": "code",
   "execution_count": 3,
   "metadata": {},
   "outputs": [],
   "source": [
    "features1 = ['lt_lap', 'position', 'up_milli', 'circuitId', 'date']\n",
    "X= data[features1]\n",
    "y= data['target']"
   ]
  },
  {
   "cell_type": "code",
   "execution_count": 12,
   "metadata": {},
   "outputs": [],
   "source": [
    "X_train, X_test, y_train, y_test = train_test_split(X,\n",
    "                                                    y,\n",
    "                                                    test_size=0.33,\n",
    "                                                    random_state=42)"
   ]
  },
  {
   "cell_type": "code",
   "execution_count": 192,
   "metadata": {
    "scrolled": true
   },
   "outputs": [
    {
     "data": {
      "text/plain": [
       "LogisticRegression(C=1.0, class_weight=None, dual=False, fit_intercept=True,\n",
       "                   intercept_scaling=1, l1_ratio=None, max_iter=100,\n",
       "                   multi_class='auto', n_jobs=None, penalty='l2',\n",
       "                   random_state=None, solver='lbfgs', tol=0.0001, verbose=0,\n",
       "                   warm_start=False)"
      ]
     },
     "execution_count": 192,
     "metadata": {},
     "output_type": "execute_result"
    }
   ],
   "source": [
    "logreg = LogisticRegression()\n",
    "logreg.fit(X_train, y_train)"
   ]
  },
  {
   "cell_type": "code",
   "execution_count": 193,
   "metadata": {},
   "outputs": [
    {
     "data": {
      "text/plain": [
       "0.9841400142374316"
      ]
     },
     "execution_count": 193,
     "metadata": {},
     "output_type": "execute_result"
    }
   ],
   "source": [
    "logreg.score(X_test, y_test)"
   ]
  },
  {
   "cell_type": "markdown",
   "metadata": {},
   "source": [
    "R**2"
   ]
  },
  {
   "cell_type": "code",
   "execution_count": 194,
   "metadata": {},
   "outputs": [],
   "source": [
    "pred = logreg.predict(X_test)"
   ]
  },
  {
   "cell_type": "code",
   "execution_count": 195,
   "metadata": {},
   "outputs": [
    {
     "name": "stdout",
     "output_type": "stream",
     "text": [
      "Sensitivity: 0.0\n",
      "Specificity: 1.0\n"
     ]
    }
   ],
   "source": [
    "senistivity_specificity(y_test,pred)"
   ]
  },
  {
   "cell_type": "code",
   "execution_count": 4,
   "metadata": {},
   "outputs": [],
   "source": [
    "dt1 = DecisionTreeClassifier(random_state = 42)"
   ]
  },
  {
   "cell_type": "code",
   "execution_count": 14,
   "metadata": {},
   "outputs": [
    {
     "data": {
      "text/plain": [
       "DecisionTreeClassifier(ccp_alpha=0.0, class_weight=None, criterion='gini',\n",
       "                       max_depth=None, max_features=None, max_leaf_nodes=None,\n",
       "                       min_impurity_decrease=0.0, min_impurity_split=None,\n",
       "                       min_samples_leaf=1, min_samples_split=2,\n",
       "                       min_weight_fraction_leaf=0.0, presort='deprecated',\n",
       "                       random_state=42, splitter='best')"
      ]
     },
     "execution_count": 14,
     "metadata": {},
     "output_type": "execute_result"
    }
   ],
   "source": [
    "dt1.fit(X_train, y_train)"
   ]
  },
  {
   "cell_type": "code",
   "execution_count": 15,
   "metadata": {},
   "outputs": [
    {
     "data": {
      "text/plain": [
       "0.978021766595907"
      ]
     },
     "execution_count": 15,
     "metadata": {},
     "output_type": "execute_result"
    }
   ],
   "source": [
    "dt1.score(X_test, y_test)"
   ]
  },
  {
   "cell_type": "code",
   "execution_count": 35,
   "metadata": {},
   "outputs": [],
   "source": [
    "out = dt1.predict(X_test)"
   ]
  },
  {
   "cell_type": "code",
   "execution_count": 38,
   "metadata": {},
   "outputs": [
    {
     "data": {
      "text/plain": [
       "array([False, False, False, False, False, False, False,  True, False,\n",
       "       False])"
      ]
     },
     "execution_count": 38,
     "metadata": {},
     "output_type": "execute_result"
    }
   ],
   "source": [
    "out[:10]"
   ]
  },
  {
   "cell_type": "code",
   "execution_count": 40,
   "metadata": {},
   "outputs": [],
   "source": [
    "out_=pd.Series(list(out))"
   ]
  },
  {
   "cell_type": "code",
   "execution_count": 43,
   "metadata": {},
   "outputs": [
    {
     "data": {
      "text/plain": [
       "0    False\n",
       "1    False\n",
       "2    False\n",
       "3    False\n",
       "4    False\n",
       "5    False\n",
       "6    False\n",
       "7     True\n",
       "8    False\n",
       "9    False\n",
       "dtype: bool"
      ]
     },
     "execution_count": 43,
     "metadata": {},
     "output_type": "execute_result"
    }
   ],
   "source": []
  },
  {
   "cell_type": "code",
   "execution_count": 47,
   "metadata": {},
   "outputs": [
    {
     "data": {
      "text/plain": [
       "(155927,)"
      ]
     },
     "execution_count": 47,
     "metadata": {},
     "output_type": "execute_result"
    }
   ],
   "source": [
    "out_.shape"
   ]
  },
  {
   "cell_type": "code",
   "execution_count": 48,
   "metadata": {},
   "outputs": [
    {
     "data": {
      "text/plain": [
       "(155927, 5)"
      ]
     },
     "execution_count": 48,
     "metadata": {},
     "output_type": "execute_result"
    }
   ],
   "source": [
    "X_test.shape"
   ]
  },
  {
   "cell_type": "code",
   "execution_count": 55,
   "metadata": {},
   "outputs": [],
   "source": [
    "X_test.reset_index(drop=True, inplace=True)\n",
    "out_.reset_index(drop=True, inplace=True)\n",
    "\n",
    "df = pd.concat( [X_test, out_], axis=1)"
   ]
  },
  {
   "cell_type": "code",
   "execution_count": 58,
   "metadata": {},
   "outputs": [],
   "source": [
    "df.to_csv(\"./data/pred__.csv\")\n"
   ]
  },
  {
   "cell_type": "code",
   "execution_count": 200,
   "metadata": {},
   "outputs": [
    {
     "name": "stdout",
     "output_type": "stream",
     "text": [
      "Sensitivity: 0.3085\n",
      "Specificity: 0.9888\n"
     ]
    }
   ],
   "source": [
    "senistivity_specificity(y_test,out)"
   ]
  },
  {
   "cell_type": "code",
   "execution_count": 206,
   "metadata": {},
   "outputs": [
    {
     "data": {
      "text/plain": [
       "2480"
      ]
     },
     "execution_count": 206,
     "metadata": {},
     "output_type": "execute_result"
    }
   ],
   "source": [
    "sum(list(out))"
   ]
  },
  {
   "cell_type": "code",
   "execution_count": null,
   "metadata": {},
   "outputs": [],
   "source": [
    "[]"
   ]
  },
  {
   "cell_type": "code",
   "execution_count": 207,
   "metadata": {},
   "outputs": [],
   "source": [
    "grid = GridSearchCV(estimator = DecisionTreeClassifier(),\n",
    "                    param_grid = {'max_depth': [10,15,20,25],\n",
    "                                  'min_samples_split': [20,25,30,35],\n",
    "                                  'min_samples_leaf': [2, 3, 4, 5, 6, 7]},\n",
    "                    cv = 5,\n",
    "                    verbose = 1)"
   ]
  },
  {
   "cell_type": "code",
   "execution_count": 208,
   "metadata": {},
   "outputs": [
    {
     "name": "stdout",
     "output_type": "stream",
     "text": [
      "Fitting 5 folds for each of 96 candidates, totalling 480 fits\n"
     ]
    },
    {
     "name": "stderr",
     "output_type": "stream",
     "text": [
      "[Parallel(n_jobs=1)]: Using backend SequentialBackend with 1 concurrent workers.\n",
      "[Parallel(n_jobs=1)]: Done 480 out of 480 | elapsed:  4.9min finished\n"
     ]
    },
    {
     "data": {
      "text/plain": [
       "GridSearchCV(cv=5, error_score=nan,\n",
       "             estimator=DecisionTreeClassifier(ccp_alpha=0.0, class_weight=None,\n",
       "                                              criterion='gini', max_depth=None,\n",
       "                                              max_features=None,\n",
       "                                              max_leaf_nodes=None,\n",
       "                                              min_impurity_decrease=0.0,\n",
       "                                              min_impurity_split=None,\n",
       "                                              min_samples_leaf=1,\n",
       "                                              min_samples_split=2,\n",
       "                                              min_weight_fraction_leaf=0.0,\n",
       "                                              presort='deprecated',\n",
       "                                              random_state=None,\n",
       "                                              splitter='best'),\n",
       "             iid='deprecated', n_jobs=None,\n",
       "             param_grid={'max_depth': [10, 15, 20, 25],\n",
       "                         'min_samples_leaf': [2, 3, 4, 5, 6, 7],\n",
       "                         'min_samples_split': [20, 25, 30, 35]},\n",
       "             pre_dispatch='2*n_jobs', refit=True, return_train_score=False,\n",
       "             scoring=None, verbose=1)"
      ]
     },
     "execution_count": 208,
     "metadata": {},
     "output_type": "execute_result"
    }
   ],
   "source": [
    "grid.fit(X_train, y_train)"
   ]
  },
  {
   "cell_type": "code",
   "execution_count": 209,
   "metadata": {},
   "outputs": [
    {
     "data": {
      "text/plain": [
       "0.9846261728549388"
      ]
     },
     "execution_count": 209,
     "metadata": {},
     "output_type": "execute_result"
    }
   ],
   "source": [
    "grid.best_score_"
   ]
  },
  {
   "cell_type": "code",
   "execution_count": 210,
   "metadata": {},
   "outputs": [],
   "source": [
    "dt = grid.best_estimator_"
   ]
  },
  {
   "cell_type": "code",
   "execution_count": 87,
   "metadata": {},
   "outputs": [],
   "source": [
    "def senistivity_specificity(y_t, predI):\n",
    "    tn, fp, fn, tp = confusion_matrix(y_t,\n",
    "                                  predI).ravel()\n",
    "    sens = tp / (tp + fn)\n",
    "    print(f'Sensitivity: {round(sens, 4)}')\n",
    "    spec = tn / (tn + fp)\n",
    "    print(f'Specificity: {round(spec, 4)}')"
   ]
  },
  {
   "cell_type": "code",
   "execution_count": 213,
   "metadata": {},
   "outputs": [],
   "source": [
    "preds = dt.predict(X_test)"
   ]
  },
  {
   "cell_type": "code",
   "execution_count": 227,
   "metadata": {},
   "outputs": [],
   "source": [
    "rf = RandomForestClassifier()"
   ]
  },
  {
   "cell_type": "code",
   "execution_count": 228,
   "metadata": {},
   "outputs": [
    {
     "data": {
      "text/plain": [
       "RandomForestClassifier(bootstrap=True, ccp_alpha=0.0, class_weight=None,\n",
       "                       criterion='gini', max_depth=None, max_features='auto',\n",
       "                       max_leaf_nodes=None, max_samples=None,\n",
       "                       min_impurity_decrease=0.0, min_impurity_split=None,\n",
       "                       min_samples_leaf=1, min_samples_split=2,\n",
       "                       min_weight_fraction_leaf=0.0, n_estimators=100,\n",
       "                       n_jobs=None, oob_score=False, random_state=None,\n",
       "                       verbose=0, warm_start=False)"
      ]
     },
     "execution_count": 228,
     "metadata": {},
     "output_type": "execute_result"
    }
   ],
   "source": [
    "rf.fit(X_train,y_train)"
   ]
  },
  {
   "cell_type": "code",
   "execution_count": 229,
   "metadata": {},
   "outputs": [],
   "source": [
    "preds = rf.predict(X_test)"
   ]
  },
  {
   "cell_type": "code",
   "execution_count": 230,
   "metadata": {},
   "outputs": [
    {
     "name": "stdout",
     "output_type": "stream",
     "text": [
      "Sensitivity: 0.1084\n",
      "Specificity: 0.9995\n"
     ]
    }
   ],
   "source": [
    "senistivity_specificity(y_test,preds)"
   ]
  },
  {
   "cell_type": "code",
   "execution_count": 232,
   "metadata": {},
   "outputs": [],
   "source": [
    "et = ExtraTreesClassifier()"
   ]
  },
  {
   "cell_type": "code",
   "execution_count": 233,
   "metadata": {},
   "outputs": [],
   "source": [
    "et.fit(X_train,y_train)\n",
    "preds=rf.predict(X_test)"
   ]
  },
  {
   "cell_type": "code",
   "execution_count": 234,
   "metadata": {},
   "outputs": [
    {
     "name": "stdout",
     "output_type": "stream",
     "text": [
      "Sensitivity: 0.1084\n",
      "Specificity: 0.9995\n"
     ]
    }
   ],
   "source": [
    "senistivity_specificity(y_test,preds)"
   ]
  },
  {
   "cell_type": "code",
   "execution_count": 5,
   "metadata": {},
   "outputs": [],
   "source": [
    "from tensorflow.keras.metrics import SpecificityAtSensitivity\n",
    "from tensorflow.keras.models import Sequential\n",
    "from tensorflow.keras.layers import Dense, Dropout, GRU\n",
    "from tensorflow.keras.utils import to_categorical\n",
    "from sklearn.preprocessing import StandardScaler"
   ]
  },
  {
   "cell_type": "code",
   "execution_count": 130,
   "metadata": {},
   "outputs": [],
   "source": [
    "features1 = ['lt_lap', 'position', 'up_milli', 'circuitId', 'date']\n",
    "X= split_[features1]\n",
    "y= split_['target'].astype('int')"
   ]
  },
  {
   "cell_type": "code",
   "execution_count": 119,
   "metadata": {},
   "outputs": [],
   "source": [
    "X_train, X_test, y_train, y_test = train_test_split(X,\n",
    "                                                    y,\n",
    "                                                    test_size=0.33,\n",
    "                                                    random_state=42)"
   ]
  },
  {
   "cell_type": "code",
   "execution_count": null,
   "metadata": {},
   "outputs": [],
   "source": []
  },
  {
   "cell_type": "code",
   "execution_count": 120,
   "metadata": {},
   "outputs": [],
   "source": [
    "ss = StandardScaler()\n",
    "X_train_sc = ss.fit_transform(X_train)\n",
    "X_test_sc = ss.transform(X_test)"
   ]
  },
  {
   "cell_type": "code",
   "execution_count": 9,
   "metadata": {},
   "outputs": [
    {
     "data": {
      "text/plain": [
       "0.9842625670893791"
      ]
     },
     "execution_count": 9,
     "metadata": {},
     "output_type": "execute_result"
    }
   ],
   "source": [
    "1-y.mean()"
   ]
  },
  {
   "cell_type": "code",
   "execution_count": 121,
   "metadata": {},
   "outputs": [],
   "source": [
    "model = Sequential()\n",
    "model.add(Dense(5, input_dim=5, activation='relu'))\n",
    "model.add(Dense(3, activation='relu'))\n",
    "model.add(Dense(2, activation='relu'))\n",
    "model.add(Dense(1, activation='sigmoid'))"
   ]
  },
  {
   "cell_type": "code",
   "execution_count": 122,
   "metadata": {},
   "outputs": [],
   "source": [
    "model.compile(loss='binary_crossentropy', optimizer='adam', metrics=['acc'])"
   ]
  },
  {
   "cell_type": "code",
   "execution_count": 123,
   "metadata": {
    "scrolled": false
   },
   "outputs": [
    {
     "name": "stdout",
     "output_type": "stream",
     "text": [
      "Train on 623191 samples, validate on 306945 samples\n",
      "Epoch 1/100\n",
      "623191/623191 - 1s - loss: 0.6932 - acc: 0.5001 - val_loss: 0.6931 - val_acc: 0.4994\n",
      "Epoch 2/100\n",
      "623191/623191 - 1s - loss: 0.6931 - acc: 0.4995 - val_loss: 0.6931 - val_acc: 0.5006\n",
      "Epoch 3/100\n",
      "623191/623191 - 1s - loss: 0.6932 - acc: 0.4998 - val_loss: 0.6931 - val_acc: 0.5006\n",
      "Epoch 4/100\n",
      "623191/623191 - 1s - loss: 0.6931 - acc: 0.4993 - val_loss: 0.6931 - val_acc: 0.5006\n",
      "Epoch 5/100\n",
      "623191/623191 - 1s - loss: 0.6931 - acc: 0.5005 - val_loss: 0.6932 - val_acc: 0.4994\n",
      "Epoch 6/100\n",
      "623191/623191 - 1s - loss: 0.6931 - acc: 0.5005 - val_loss: 0.6932 - val_acc: 0.4994\n",
      "Epoch 7/100\n",
      "623191/623191 - 1s - loss: 0.6932 - acc: 0.4995 - val_loss: 0.6932 - val_acc: 0.4994\n",
      "Epoch 8/100\n",
      "623191/623191 - 1s - loss: 0.6932 - acc: 0.5001 - val_loss: 0.6931 - val_acc: 0.5006\n",
      "Epoch 9/100\n",
      "623191/623191 - 1s - loss: 0.6931 - acc: 0.5004 - val_loss: 0.6932 - val_acc: 0.4994\n",
      "Epoch 10/100\n",
      "623191/623191 - 1s - loss: 0.6931 - acc: 0.5002 - val_loss: 0.6932 - val_acc: 0.4994\n",
      "Epoch 11/100\n",
      "623191/623191 - 1s - loss: 0.6932 - acc: 0.4995 - val_loss: 0.6931 - val_acc: 0.4994\n",
      "Epoch 12/100\n",
      "623191/623191 - 1s - loss: 0.6932 - acc: 0.4993 - val_loss: 0.6931 - val_acc: 0.5006\n",
      "Epoch 13/100\n",
      "623191/623191 - 1s - loss: 0.6932 - acc: 0.4984 - val_loss: 0.6931 - val_acc: 0.4994\n",
      "Epoch 14/100\n",
      "623191/623191 - 1s - loss: 0.6931 - acc: 0.5003 - val_loss: 0.6932 - val_acc: 0.4994\n",
      "Epoch 15/100\n",
      "623191/623191 - 1s - loss: 0.6931 - acc: 0.5000 - val_loss: 0.6931 - val_acc: 0.4994\n",
      "Epoch 16/100\n",
      "623191/623191 - 1s - loss: 0.6932 - acc: 0.5002 - val_loss: 0.6931 - val_acc: 0.5006\n",
      "Epoch 17/100\n",
      "623191/623191 - 1s - loss: 0.6932 - acc: 0.4991 - val_loss: 0.6932 - val_acc: 0.4994\n",
      "Epoch 18/100\n",
      "623191/623191 - 1s - loss: 0.6932 - acc: 0.4994 - val_loss: 0.6931 - val_acc: 0.4994\n",
      "Epoch 19/100\n",
      "623191/623191 - 1s - loss: 0.6932 - acc: 0.4993 - val_loss: 0.6931 - val_acc: 0.5006\n",
      "Epoch 20/100\n",
      "623191/623191 - 1s - loss: 0.6932 - acc: 0.4990 - val_loss: 0.6932 - val_acc: 0.4994\n",
      "Epoch 21/100\n",
      "623191/623191 - 1s - loss: 0.6932 - acc: 0.4995 - val_loss: 0.6931 - val_acc: 0.4994\n",
      "Epoch 22/100\n",
      "623191/623191 - 1s - loss: 0.6932 - acc: 0.4991 - val_loss: 0.6931 - val_acc: 0.4994\n",
      "Epoch 23/100\n",
      "623191/623191 - 1s - loss: 0.6932 - acc: 0.4990 - val_loss: 0.6931 - val_acc: 0.4994\n",
      "Epoch 24/100\n",
      "623191/623191 - 1s - loss: 0.6932 - acc: 0.5004 - val_loss: 0.6931 - val_acc: 0.4994\n",
      "Epoch 25/100\n",
      "623191/623191 - 1s - loss: 0.6932 - acc: 0.4993 - val_loss: 0.6931 - val_acc: 0.4994\n",
      "Epoch 26/100\n",
      "623191/623191 - 1s - loss: 0.6932 - acc: 0.5000 - val_loss: 0.6931 - val_acc: 0.5006\n",
      "Epoch 27/100\n",
      "623191/623191 - 1s - loss: 0.6932 - acc: 0.4991 - val_loss: 0.6931 - val_acc: 0.4994\n",
      "Epoch 28/100\n",
      "623191/623191 - 1s - loss: 0.6932 - acc: 0.4995 - val_loss: 0.6932 - val_acc: 0.4994\n",
      "Epoch 29/100\n",
      "623191/623191 - 1s - loss: 0.6932 - acc: 0.4999 - val_loss: 0.6931 - val_acc: 0.4994\n",
      "Epoch 30/100\n",
      "623191/623191 - 1s - loss: 0.6932 - acc: 0.4998 - val_loss: 0.6931 - val_acc: 0.4994\n",
      "Epoch 31/100\n",
      "623191/623191 - 1s - loss: 0.6932 - acc: 0.4995 - val_loss: 0.6931 - val_acc: 0.4994\n",
      "Epoch 32/100\n",
      "623191/623191 - 1s - loss: 0.6932 - acc: 0.5000 - val_loss: 0.6931 - val_acc: 0.5006\n",
      "Epoch 33/100\n",
      "623191/623191 - 1s - loss: 0.6932 - acc: 0.4993 - val_loss: 0.6931 - val_acc: 0.5006\n",
      "Epoch 34/100\n",
      "623191/623191 - 1s - loss: 0.6932 - acc: 0.4995 - val_loss: 0.6931 - val_acc: 0.5006\n",
      "Epoch 35/100\n",
      "623191/623191 - 1s - loss: 0.6931 - acc: 0.5004 - val_loss: 0.6932 - val_acc: 0.4994\n",
      "Epoch 36/100\n",
      "623191/623191 - 1s - loss: 0.6931 - acc: 0.5005 - val_loss: 0.6932 - val_acc: 0.4994\n",
      "Epoch 37/100\n",
      "623191/623191 - 1s - loss: 0.6932 - acc: 0.4993 - val_loss: 0.6931 - val_acc: 0.5006\n",
      "Epoch 38/100\n",
      "623191/623191 - 1s - loss: 0.6932 - acc: 0.4990 - val_loss: 0.6931 - val_acc: 0.4994\n",
      "Epoch 39/100\n",
      "623191/623191 - 1s - loss: 0.6931 - acc: 0.4994 - val_loss: 0.6931 - val_acc: 0.4994\n",
      "Epoch 40/100\n",
      "623191/623191 - 1s - loss: 0.6932 - acc: 0.4984 - val_loss: 0.6931 - val_acc: 0.4994\n",
      "Epoch 41/100\n",
      "623191/623191 - 1s - loss: 0.6932 - acc: 0.4991 - val_loss: 0.6932 - val_acc: 0.4994\n",
      "Epoch 42/100\n",
      "623191/623191 - 1s - loss: 0.6932 - acc: 0.4998 - val_loss: 0.6931 - val_acc: 0.5006\n",
      "Epoch 43/100\n",
      "623191/623191 - 1s - loss: 0.6931 - acc: 0.5005 - val_loss: 0.6931 - val_acc: 0.5006\n",
      "Epoch 44/100\n",
      "623191/623191 - 1s - loss: 0.6932 - acc: 0.4999 - val_loss: 0.6931 - val_acc: 0.5006\n",
      "Epoch 45/100\n",
      "623191/623191 - 1s - loss: 0.6931 - acc: 0.5002 - val_loss: 0.6931 - val_acc: 0.5006\n",
      "Epoch 46/100\n",
      "623191/623191 - 1s - loss: 0.6932 - acc: 0.4989 - val_loss: 0.6931 - val_acc: 0.5006\n",
      "Epoch 47/100\n",
      "623191/623191 - 1s - loss: 0.6932 - acc: 0.4992 - val_loss: 0.6931 - val_acc: 0.5006\n",
      "Epoch 48/100\n",
      "623191/623191 - 1s - loss: 0.6932 - acc: 0.4994 - val_loss: 0.6932 - val_acc: 0.4994\n",
      "Epoch 49/100\n",
      "623191/623191 - 1s - loss: 0.6932 - acc: 0.4997 - val_loss: 0.6931 - val_acc: 0.5006\n",
      "Epoch 50/100\n",
      "623191/623191 - 1s - loss: 0.6932 - acc: 0.4990 - val_loss: 0.6931 - val_acc: 0.4994\n",
      "Epoch 51/100\n",
      "623191/623191 - 1s - loss: 0.6932 - acc: 0.4995 - val_loss: 0.6931 - val_acc: 0.5006\n",
      "Epoch 52/100\n",
      "623191/623191 - 1s - loss: 0.6932 - acc: 0.4990 - val_loss: 0.6931 - val_acc: 0.4994\n",
      "Epoch 53/100\n",
      "623191/623191 - 1s - loss: 0.6931 - acc: 0.5005 - val_loss: 0.6932 - val_acc: 0.4994\n",
      "Epoch 54/100\n",
      "623191/623191 - 1s - loss: 0.6932 - acc: 0.4992 - val_loss: 0.6932 - val_acc: 0.4994\n",
      "Epoch 55/100\n",
      "623191/623191 - 1s - loss: 0.6932 - acc: 0.5004 - val_loss: 0.6931 - val_acc: 0.5006\n",
      "Epoch 56/100\n",
      "623191/623191 - 1s - loss: 0.6932 - acc: 0.5000 - val_loss: 0.6931 - val_acc: 0.4994\n",
      "Epoch 57/100\n",
      "623191/623191 - 1s - loss: 0.6932 - acc: 0.4992 - val_loss: 0.6932 - val_acc: 0.4994\n",
      "Epoch 58/100\n",
      "623191/623191 - 1s - loss: 0.6932 - acc: 0.5001 - val_loss: 0.6931 - val_acc: 0.5006\n",
      "Epoch 59/100\n",
      "623191/623191 - 1s - loss: 0.6932 - acc: 0.5000 - val_loss: 0.6931 - val_acc: 0.5006\n",
      "Epoch 60/100\n",
      "623191/623191 - 1s - loss: 0.6932 - acc: 0.4992 - val_loss: 0.6932 - val_acc: 0.4994\n",
      "Epoch 61/100\n",
      "623191/623191 - 1s - loss: 0.6932 - acc: 0.4997 - val_loss: 0.6931 - val_acc: 0.5006\n",
      "Epoch 62/100\n",
      "623191/623191 - 1s - loss: 0.6932 - acc: 0.4996 - val_loss: 0.6931 - val_acc: 0.5006\n",
      "Epoch 63/100\n",
      "623191/623191 - 1s - loss: 0.6932 - acc: 0.5001 - val_loss: 0.6932 - val_acc: 0.4994\n",
      "Epoch 64/100\n",
      "623191/623191 - 1s - loss: 0.6931 - acc: 0.5004 - val_loss: 0.6932 - val_acc: 0.4994\n",
      "Epoch 65/100\n",
      "623191/623191 - 1s - loss: 0.6931 - acc: 0.5008 - val_loss: 0.6931 - val_acc: 0.5006\n",
      "Epoch 66/100\n",
      "623191/623191 - 1s - loss: 0.6932 - acc: 0.4994 - val_loss: 0.6931 - val_acc: 0.4994\n",
      "Epoch 67/100\n",
      "623191/623191 - 1s - loss: 0.6932 - acc: 0.4996 - val_loss: 0.6931 - val_acc: 0.5006\n",
      "Epoch 68/100\n",
      "623191/623191 - 1s - loss: 0.6931 - acc: 0.4997 - val_loss: 0.6932 - val_acc: 0.4994\n",
      "Epoch 69/100\n",
      "623191/623191 - 1s - loss: 0.6932 - acc: 0.4999 - val_loss: 0.6931 - val_acc: 0.5006\n",
      "Epoch 70/100\n",
      "623191/623191 - 1s - loss: 0.6931 - acc: 0.5000 - val_loss: 0.6931 - val_acc: 0.4994\n",
      "Epoch 71/100\n",
      "623191/623191 - 1s - loss: 0.6931 - acc: 0.4996 - val_loss: 0.6931 - val_acc: 0.4994\n",
      "Epoch 72/100\n",
      "623191/623191 - 1s - loss: 0.6931 - acc: 0.5009 - val_loss: 0.6931 - val_acc: 0.5006\n",
      "Epoch 73/100\n",
      "623191/623191 - 1s - loss: 0.6932 - acc: 0.4995 - val_loss: 0.6932 - val_acc: 0.4994\n",
      "Epoch 74/100\n",
      "623191/623191 - 1s - loss: 0.6931 - acc: 0.5001 - val_loss: 0.6931 - val_acc: 0.5006\n",
      "Epoch 75/100\n",
      "623191/623191 - 1s - loss: 0.6932 - acc: 0.4987 - val_loss: 0.6931 - val_acc: 0.5006\n",
      "Epoch 76/100\n",
      "623191/623191 - 1s - loss: 0.6932 - acc: 0.4995 - val_loss: 0.6931 - val_acc: 0.4994\n",
      "Epoch 77/100\n",
      "623191/623191 - 1s - loss: 0.6932 - acc: 0.4990 - val_loss: 0.6931 - val_acc: 0.5006\n",
      "Epoch 78/100\n",
      "623191/623191 - 1s - loss: 0.6932 - acc: 0.4990 - val_loss: 0.6932 - val_acc: 0.4994\n",
      "Epoch 79/100\n",
      "623191/623191 - 1s - loss: 0.6931 - acc: 0.5004 - val_loss: 0.6932 - val_acc: 0.4994\n",
      "Epoch 80/100\n",
      "623191/623191 - 1s - loss: 0.6931 - acc: 0.5001 - val_loss: 0.6931 - val_acc: 0.5006\n",
      "Epoch 81/100\n",
      "623191/623191 - 1s - loss: 0.6932 - acc: 0.5000 - val_loss: 0.6931 - val_acc: 0.4994\n",
      "Epoch 82/100\n",
      "623191/623191 - 1s - loss: 0.6932 - acc: 0.4993 - val_loss: 0.6931 - val_acc: 0.4994\n",
      "Epoch 83/100\n",
      "623191/623191 - 1s - loss: 0.6932 - acc: 0.4998 - val_loss: 0.6932 - val_acc: 0.4994\n",
      "Epoch 84/100\n",
      "623191/623191 - 1s - loss: 0.6931 - acc: 0.4996 - val_loss: 0.6931 - val_acc: 0.5006\n"
     ]
    },
    {
     "name": "stdout",
     "output_type": "stream",
     "text": [
      "Epoch 85/100\n",
      "623191/623191 - 1s - loss: 0.6932 - acc: 0.4990 - val_loss: 0.6932 - val_acc: 0.4994\n",
      "Epoch 86/100\n",
      "623191/623191 - 1s - loss: 0.6932 - acc: 0.4999 - val_loss: 0.6932 - val_acc: 0.4994\n",
      "Epoch 87/100\n",
      "623191/623191 - 1s - loss: 0.6931 - acc: 0.5004 - val_loss: 0.6931 - val_acc: 0.5006\n",
      "Epoch 88/100\n",
      "623191/623191 - 1s - loss: 0.6932 - acc: 0.4998 - val_loss: 0.6931 - val_acc: 0.5006\n",
      "Epoch 89/100\n",
      "623191/623191 - 1s - loss: 0.6932 - acc: 0.5005 - val_loss: 0.6931 - val_acc: 0.5006\n",
      "Epoch 90/100\n",
      "623191/623191 - 1s - loss: 0.6931 - acc: 0.4999 - val_loss: 0.6931 - val_acc: 0.4994\n",
      "Epoch 91/100\n",
      "623191/623191 - 1s - loss: 0.6932 - acc: 0.4985 - val_loss: 0.6931 - val_acc: 0.4994\n",
      "Epoch 92/100\n",
      "623191/623191 - 1s - loss: 0.6932 - acc: 0.4994 - val_loss: 0.6931 - val_acc: 0.5006\n",
      "Epoch 93/100\n",
      "623191/623191 - 1s - loss: 0.6932 - acc: 0.5001 - val_loss: 0.6931 - val_acc: 0.5006\n",
      "Epoch 94/100\n",
      "623191/623191 - 1s - loss: 0.6932 - acc: 0.5003 - val_loss: 0.6931 - val_acc: 0.4994\n",
      "Epoch 95/100\n",
      "623191/623191 - 1s - loss: 0.6931 - acc: 0.5008 - val_loss: 0.6931 - val_acc: 0.5006\n",
      "Epoch 96/100\n",
      "623191/623191 - 1s - loss: 0.6932 - acc: 0.4986 - val_loss: 0.6931 - val_acc: 0.4994\n",
      "Epoch 97/100\n",
      "623191/623191 - 1s - loss: 0.6931 - acc: 0.4997 - val_loss: 0.6931 - val_acc: 0.4994\n",
      "Epoch 98/100\n",
      "623191/623191 - 1s - loss: 0.6932 - acc: 0.4985 - val_loss: 0.6931 - val_acc: 0.4994\n",
      "Epoch 99/100\n",
      "623191/623191 - 1s - loss: 0.6931 - acc: 0.5001 - val_loss: 0.6931 - val_acc: 0.4994\n",
      "Epoch 100/100\n",
      "623191/623191 - 1s - loss: 0.6931 - acc: 0.5007 - val_loss: 0.6932 - val_acc: 0.4994\n"
     ]
    },
    {
     "data": {
      "text/plain": [
       "<tensorflow.python.keras.callbacks.History at 0x7f60c56a6ad0>"
      ]
     },
     "execution_count": 123,
     "metadata": {},
     "output_type": "execute_result"
    }
   ],
   "source": [
    "model.fit(\n",
    "    X_train_sc,\n",
    "    y_train,\n",
    "    validation_data=(X_test, y_test),\n",
    "    epochs=100,\n",
    "    batch_size=2000,\n",
    "    verbose=2\n",
    ")"
   ]
  },
  {
   "cell_type": "code",
   "execution_count": 93,
   "metadata": {},
   "outputs": [],
   "source": [
    "pred_1=model.predict(X_test_sc)"
   ]
  },
  {
   "cell_type": "code",
   "execution_count": 94,
   "metadata": {},
   "outputs": [
    {
     "data": {
      "text/plain": [
       "array([[7.5022685e-03],\n",
       "       [4.4092657e-36],\n",
       "       [1.1617148e-02],\n",
       "       ...,\n",
       "       [7.5749308e-02],\n",
       "       [0.0000000e+00],\n",
       "       [2.4362797e-23]], dtype=float32)"
      ]
     },
     "execution_count": 94,
     "metadata": {},
     "output_type": "execute_result"
    }
   ],
   "source": [
    "pred_1"
   ]
  },
  {
   "cell_type": "code",
   "execution_count": 95,
   "metadata": {},
   "outputs": [],
   "source": [
    "pred_m = [pred_1[i][0] for i in range(len(pred_1))]"
   ]
  },
  {
   "cell_type": "code",
   "execution_count": 96,
   "metadata": {},
   "outputs": [],
   "source": [
    "final_pred = [False if i < .0599 else True for i in pred_m]"
   ]
  },
  {
   "cell_type": "code",
   "execution_count": 97,
   "metadata": {},
   "outputs": [
    {
     "name": "stdout",
     "output_type": "stream",
     "text": [
      "Sensitivity: 0.2952\n",
      "Specificity: 0.9347\n"
     ]
    }
   ],
   "source": [
    "senistivity_specificity(y_test,final_pred)"
   ]
  },
  {
   "cell_type": "code",
   "execution_count": 86,
   "metadata": {},
   "outputs": [
    {
     "data": {
      "text/plain": [
       "2393"
      ]
     },
     "execution_count": 86,
     "metadata": {},
     "output_type": "execute_result"
    }
   ],
   "source": [
    "sum(final_pred)"
   ]
  },
  {
   "cell_type": "code",
   "execution_count": 34,
   "metadata": {},
   "outputs": [],
   "source": [
    "output = model.predict(X_test_sc)"
   ]
  },
  {
   "cell_type": "code",
   "execution_count": 184,
   "metadata": {},
   "outputs": [],
   "source": [
    "pred_ = [pred2[i][0] for i in range(len(pred2))]"
   ]
  },
  {
   "cell_type": "markdown",
   "metadata": {},
   "source": [
    "## Only one value was being returned which meant that the model could not seem to predict an outcome of true. "
   ]
  },
  {
   "cell_type": "code",
   "execution_count": 185,
   "metadata": {},
   "outputs": [
    {
     "data": {
      "text/plain": [
       "{0.5}"
      ]
     },
     "execution_count": 185,
     "metadata": {},
     "output_type": "execute_result"
    }
   ],
   "source": [
    "set(pred_)"
   ]
  },
  {
   "cell_type": "code",
   "execution_count": 106,
   "metadata": {},
   "outputs": [
    {
     "data": {
      "text/plain": [
       "105394"
      ]
     },
     "execution_count": 106,
     "metadata": {},
     "output_type": "execute_result"
    }
   ],
   "source": [
    "sum(pred1)"
   ]
  },
  {
   "cell_type": "code",
   "execution_count": 107,
   "metadata": {},
   "outputs": [
    {
     "data": {
      "text/plain": [
       "2473"
      ]
     },
     "execution_count": 107,
     "metadata": {},
     "output_type": "execute_result"
    }
   ],
   "source": [
    "sum(y_test)"
   ]
  },
  {
   "cell_type": "code",
   "execution_count": 64,
   "metadata": {
    "scrolled": true
   },
   "outputs": [
    {
     "name": "stdout",
     "output_type": "stream",
     "text": [
      "Sensitivity: 1.0\n",
      "Specificity: 0.3293\n"
     ]
    }
   ],
   "source": [
    "senistivity_specificity(y_test,pred1_)"
   ]
  },
  {
   "cell_type": "markdown",
   "metadata": {},
   "source": [
    "## RNN"
   ]
  },
  {
   "cell_type": "code",
   "execution_count": 162,
   "metadata": {},
   "outputs": [],
   "source": [
    "from tensorflow.keras.preprocessing.sequence import TimeseriesGenerator"
   ]
  },
  {
   "cell_type": "code",
   "execution_count": 171,
   "metadata": {},
   "outputs": [],
   "source": [
    "features1 = ['lt_lap', 'position', 'up_milli', 'circuitId', 'date']\n",
    "X= split_[features1]\n",
    "y= split_['target'].astype('int')"
   ]
  },
  {
   "cell_type": "code",
   "execution_count": 172,
   "metadata": {},
   "outputs": [],
   "source": [
    "X_train, X_test, y_train, y_test = train_test_split(X, y, random_state = 42, shuffle = False)"
   ]
  },
  {
   "cell_type": "code",
   "execution_count": 173,
   "metadata": {},
   "outputs": [],
   "source": [
    "ss = StandardScaler()\n",
    "Z_train = ss.fit_transform(X_train)\n",
    "Z_test = ss.transform(X_test)"
   ]
  },
  {
   "cell_type": "code",
   "execution_count": 174,
   "metadata": {},
   "outputs": [],
   "source": [
    "train_sequences = TimeseriesGenerator(Z_train, y_train, length =  10, batch_size = 512)"
   ]
  },
  {
   "cell_type": "code",
   "execution_count": 175,
   "metadata": {},
   "outputs": [
    {
     "data": {
      "text/plain": [
       "(512, 10, 5)"
      ]
     },
     "execution_count": 175,
     "metadata": {},
     "output_type": "execute_result"
    }
   ],
   "source": [
    "train_sequences[0][0].shape"
   ]
  },
  {
   "cell_type": "code",
   "execution_count": 176,
   "metadata": {},
   "outputs": [],
   "source": [
    "test_sequences = TimeseriesGenerator(Z_test, y_test, length = 10, batch_size=512)"
   ]
  },
  {
   "cell_type": "code",
   "execution_count": 177,
   "metadata": {},
   "outputs": [],
   "source": [
    "# creating the topology\n",
    "\n",
    "rnn = Sequential()\n",
    "\n",
    "rnn.add(GRU(train_sequences[0][0].shape[2],\n",
    "          input_shape = (train_sequences[0][0].shape[1], train_sequences[0][0].shape[2]),\n",
    "         return_sequences = True))\n",
    "\n",
    "rnn.add(GRU(train_sequences[0][0].shape[2], return_sequences = False))\n",
    "\n",
    "rnn.add(Dense(128, activation = 'relu'))\n",
    "\n",
    "rnn.add(Dense(2, activation = 'sigmoid'))\n",
    "\n",
    "rnn.compile(loss = 'binary_crossentropy', optimizer = 'adam', metrics = ['accuracy'])"
   ]
  },
  {
   "cell_type": "code",
   "execution_count": 178,
   "metadata": {},
   "outputs": [
    {
     "name": "stdout",
     "output_type": "stream",
     "text": [
      "WARNING:tensorflow:sample_weight modes were coerced from\n",
      "  ...\n",
      "    to  \n",
      "  ['...']\n"
     ]
    },
    {
     "ename": "KeyError",
     "evalue": "10",
     "output_type": "error",
     "traceback": [
      "\u001b[0;31m---------------------------------------------------------------------------\u001b[0m",
      "\u001b[0;31mKeyError\u001b[0m                                  Traceback (most recent call last)",
      "\u001b[0;32m<ipython-input-178-b16d90bbfc97>\u001b[0m in \u001b[0;36m<module>\u001b[0;34m\u001b[0m\n\u001b[0;32m----> 1\u001b[0;31m \u001b[0mhist\u001b[0m \u001b[0;34m=\u001b[0m \u001b[0mrnn\u001b[0m\u001b[0;34m.\u001b[0m\u001b[0mfit_generator\u001b[0m\u001b[0;34m(\u001b[0m\u001b[0mtrain_sequences\u001b[0m\u001b[0;34m,\u001b[0m \u001b[0mepochs\u001b[0m \u001b[0;34m=\u001b[0m \u001b[0;36m3\u001b[0m\u001b[0;34m,\u001b[0m \u001b[0mvalidation_data\u001b[0m\u001b[0;34m=\u001b[0m\u001b[0mtest_sequences\u001b[0m\u001b[0;34m)\u001b[0m\u001b[0;34m\u001b[0m\u001b[0;34m\u001b[0m\u001b[0m\n\u001b[0m",
      "\u001b[0;32m~/.local/lib/python3.7/site-packages/tensorflow_core/python/util/deprecation.py\u001b[0m in \u001b[0;36mnew_func\u001b[0;34m(*args, **kwargs)\u001b[0m\n\u001b[1;32m    322\u001b[0m               \u001b[0;34m'in a future version'\u001b[0m \u001b[0;32mif\u001b[0m \u001b[0mdate\u001b[0m \u001b[0;32mis\u001b[0m \u001b[0;32mNone\u001b[0m \u001b[0;32melse\u001b[0m \u001b[0;34m(\u001b[0m\u001b[0;34m'after %s'\u001b[0m \u001b[0;34m%\u001b[0m \u001b[0mdate\u001b[0m\u001b[0;34m)\u001b[0m\u001b[0;34m,\u001b[0m\u001b[0;34m\u001b[0m\u001b[0;34m\u001b[0m\u001b[0m\n\u001b[1;32m    323\u001b[0m               instructions)\n\u001b[0;32m--> 324\u001b[0;31m       \u001b[0;32mreturn\u001b[0m \u001b[0mfunc\u001b[0m\u001b[0;34m(\u001b[0m\u001b[0;34m*\u001b[0m\u001b[0margs\u001b[0m\u001b[0;34m,\u001b[0m \u001b[0;34m**\u001b[0m\u001b[0mkwargs\u001b[0m\u001b[0;34m)\u001b[0m\u001b[0;34m\u001b[0m\u001b[0;34m\u001b[0m\u001b[0m\n\u001b[0m\u001b[1;32m    325\u001b[0m     return tf_decorator.make_decorator(\n\u001b[1;32m    326\u001b[0m         \u001b[0mfunc\u001b[0m\u001b[0;34m,\u001b[0m \u001b[0mnew_func\u001b[0m\u001b[0;34m,\u001b[0m \u001b[0;34m'deprecated'\u001b[0m\u001b[0;34m,\u001b[0m\u001b[0;34m\u001b[0m\u001b[0;34m\u001b[0m\u001b[0m\n",
      "\u001b[0;32m~/.local/lib/python3.7/site-packages/tensorflow_core/python/keras/engine/training.py\u001b[0m in \u001b[0;36mfit_generator\u001b[0;34m(self, generator, steps_per_epoch, epochs, verbose, callbacks, validation_data, validation_steps, validation_freq, class_weight, max_queue_size, workers, use_multiprocessing, shuffle, initial_epoch)\u001b[0m\n\u001b[1;32m   1304\u001b[0m         \u001b[0muse_multiprocessing\u001b[0m\u001b[0;34m=\u001b[0m\u001b[0muse_multiprocessing\u001b[0m\u001b[0;34m,\u001b[0m\u001b[0;34m\u001b[0m\u001b[0;34m\u001b[0m\u001b[0m\n\u001b[1;32m   1305\u001b[0m         \u001b[0mshuffle\u001b[0m\u001b[0;34m=\u001b[0m\u001b[0mshuffle\u001b[0m\u001b[0;34m,\u001b[0m\u001b[0;34m\u001b[0m\u001b[0;34m\u001b[0m\u001b[0m\n\u001b[0;32m-> 1306\u001b[0;31m         initial_epoch=initial_epoch)\n\u001b[0m\u001b[1;32m   1307\u001b[0m \u001b[0;34m\u001b[0m\u001b[0m\n\u001b[1;32m   1308\u001b[0m   @deprecation.deprecated(\n",
      "\u001b[0;32m~/.local/lib/python3.7/site-packages/tensorflow_core/python/keras/engine/training.py\u001b[0m in \u001b[0;36mfit\u001b[0;34m(self, x, y, batch_size, epochs, verbose, callbacks, validation_split, validation_data, shuffle, class_weight, sample_weight, initial_epoch, steps_per_epoch, validation_steps, validation_freq, max_queue_size, workers, use_multiprocessing, **kwargs)\u001b[0m\n\u001b[1;32m    817\u001b[0m         \u001b[0mmax_queue_size\u001b[0m\u001b[0;34m=\u001b[0m\u001b[0mmax_queue_size\u001b[0m\u001b[0;34m,\u001b[0m\u001b[0;34m\u001b[0m\u001b[0;34m\u001b[0m\u001b[0m\n\u001b[1;32m    818\u001b[0m         \u001b[0mworkers\u001b[0m\u001b[0;34m=\u001b[0m\u001b[0mworkers\u001b[0m\u001b[0;34m,\u001b[0m\u001b[0;34m\u001b[0m\u001b[0;34m\u001b[0m\u001b[0m\n\u001b[0;32m--> 819\u001b[0;31m         use_multiprocessing=use_multiprocessing)\n\u001b[0m\u001b[1;32m    820\u001b[0m \u001b[0;34m\u001b[0m\u001b[0m\n\u001b[1;32m    821\u001b[0m   def evaluate(self,\n",
      "\u001b[0;32m~/.local/lib/python3.7/site-packages/tensorflow_core/python/keras/engine/training_v2.py\u001b[0m in \u001b[0;36mfit\u001b[0;34m(self, model, x, y, batch_size, epochs, verbose, callbacks, validation_split, validation_data, shuffle, class_weight, sample_weight, initial_epoch, steps_per_epoch, validation_steps, validation_freq, max_queue_size, workers, use_multiprocessing, **kwargs)\u001b[0m\n\u001b[1;32m    233\u001b[0m           \u001b[0mmax_queue_size\u001b[0m\u001b[0;34m=\u001b[0m\u001b[0mmax_queue_size\u001b[0m\u001b[0;34m,\u001b[0m\u001b[0;34m\u001b[0m\u001b[0;34m\u001b[0m\u001b[0m\n\u001b[1;32m    234\u001b[0m           \u001b[0mworkers\u001b[0m\u001b[0;34m=\u001b[0m\u001b[0mworkers\u001b[0m\u001b[0;34m,\u001b[0m\u001b[0;34m\u001b[0m\u001b[0;34m\u001b[0m\u001b[0m\n\u001b[0;32m--> 235\u001b[0;31m           use_multiprocessing=use_multiprocessing)\n\u001b[0m\u001b[1;32m    236\u001b[0m \u001b[0;34m\u001b[0m\u001b[0m\n\u001b[1;32m    237\u001b[0m       \u001b[0mtotal_samples\u001b[0m \u001b[0;34m=\u001b[0m \u001b[0m_get_total_number_of_samples\u001b[0m\u001b[0;34m(\u001b[0m\u001b[0mtraining_data_adapter\u001b[0m\u001b[0;34m)\u001b[0m\u001b[0;34m\u001b[0m\u001b[0;34m\u001b[0m\u001b[0m\n",
      "\u001b[0;32m~/.local/lib/python3.7/site-packages/tensorflow_core/python/keras/engine/training_v2.py\u001b[0m in \u001b[0;36m_process_training_inputs\u001b[0;34m(model, x, y, batch_size, epochs, sample_weights, class_weights, steps_per_epoch, validation_split, validation_data, validation_steps, shuffle, distribution_strategy, max_queue_size, workers, use_multiprocessing)\u001b[0m\n\u001b[1;32m    612\u001b[0m           \u001b[0mclass_weights\u001b[0m\u001b[0;34m=\u001b[0m\u001b[0mclass_weights\u001b[0m\u001b[0;34m,\u001b[0m\u001b[0;34m\u001b[0m\u001b[0;34m\u001b[0m\u001b[0m\n\u001b[1;32m    613\u001b[0m           \u001b[0msteps\u001b[0m\u001b[0;34m=\u001b[0m\u001b[0mvalidation_steps\u001b[0m\u001b[0;34m,\u001b[0m\u001b[0;34m\u001b[0m\u001b[0;34m\u001b[0m\u001b[0m\n\u001b[0;32m--> 614\u001b[0;31m           distribution_strategy=distribution_strategy)\n\u001b[0m\u001b[1;32m    615\u001b[0m     \u001b[0;32melif\u001b[0m \u001b[0mvalidation_steps\u001b[0m\u001b[0;34m:\u001b[0m\u001b[0;34m\u001b[0m\u001b[0;34m\u001b[0m\u001b[0m\n\u001b[1;32m    616\u001b[0m       raise ValueError('`validation_steps` should not be specified if '\n",
      "\u001b[0;32m~/.local/lib/python3.7/site-packages/tensorflow_core/python/keras/engine/training_v2.py\u001b[0m in \u001b[0;36m_process_inputs\u001b[0;34m(model, mode, x, y, batch_size, epochs, sample_weights, class_weights, shuffle, steps, distribution_strategy, max_queue_size, workers, use_multiprocessing)\u001b[0m\n\u001b[1;32m    704\u001b[0m       \u001b[0mmax_queue_size\u001b[0m\u001b[0;34m=\u001b[0m\u001b[0mmax_queue_size\u001b[0m\u001b[0;34m,\u001b[0m\u001b[0;34m\u001b[0m\u001b[0;34m\u001b[0m\u001b[0m\n\u001b[1;32m    705\u001b[0m       \u001b[0mworkers\u001b[0m\u001b[0;34m=\u001b[0m\u001b[0mworkers\u001b[0m\u001b[0;34m,\u001b[0m\u001b[0;34m\u001b[0m\u001b[0;34m\u001b[0m\u001b[0m\n\u001b[0;32m--> 706\u001b[0;31m       use_multiprocessing=use_multiprocessing)\n\u001b[0m\u001b[1;32m    707\u001b[0m \u001b[0;34m\u001b[0m\u001b[0m\n\u001b[1;32m    708\u001b[0m   \u001b[0;32mreturn\u001b[0m \u001b[0madapter\u001b[0m\u001b[0;34m\u001b[0m\u001b[0;34m\u001b[0m\u001b[0m\n",
      "\u001b[0;32m~/.local/lib/python3.7/site-packages/tensorflow_core/python/keras/engine/data_adapter.py\u001b[0m in \u001b[0;36m__init__\u001b[0;34m(self, x, y, sample_weights, standardize_function, shuffle, workers, use_multiprocessing, max_queue_size, **kwargs)\u001b[0m\n\u001b[1;32m    950\u001b[0m         \u001b[0muse_multiprocessing\u001b[0m\u001b[0;34m=\u001b[0m\u001b[0muse_multiprocessing\u001b[0m\u001b[0;34m,\u001b[0m\u001b[0;34m\u001b[0m\u001b[0;34m\u001b[0m\u001b[0m\n\u001b[1;32m    951\u001b[0m         \u001b[0mmax_queue_size\u001b[0m\u001b[0;34m=\u001b[0m\u001b[0mmax_queue_size\u001b[0m\u001b[0;34m,\u001b[0m\u001b[0;34m\u001b[0m\u001b[0;34m\u001b[0m\u001b[0m\n\u001b[0;32m--> 952\u001b[0;31m         **kwargs)\n\u001b[0m\u001b[1;32m    953\u001b[0m \u001b[0;34m\u001b[0m\u001b[0m\n\u001b[1;32m    954\u001b[0m   \u001b[0;34m@\u001b[0m\u001b[0mstaticmethod\u001b[0m\u001b[0;34m\u001b[0m\u001b[0;34m\u001b[0m\u001b[0m\n",
      "\u001b[0;32m~/.local/lib/python3.7/site-packages/tensorflow_core/python/keras/engine/data_adapter.py\u001b[0m in \u001b[0;36m__init__\u001b[0;34m(self, x, y, sample_weights, standardize_function, workers, use_multiprocessing, max_queue_size, **kwargs)\u001b[0m\n\u001b[1;32m    745\u001b[0m     \u001b[0;31m# Since we have to know the dtype of the python generator when we build the\u001b[0m\u001b[0;34m\u001b[0m\u001b[0;34m\u001b[0m\u001b[0;34m\u001b[0m\u001b[0m\n\u001b[1;32m    746\u001b[0m     \u001b[0;31m# dataset, we have to look at a batch to infer the structure.\u001b[0m\u001b[0;34m\u001b[0m\u001b[0;34m\u001b[0m\u001b[0;34m\u001b[0m\u001b[0m\n\u001b[0;32m--> 747\u001b[0;31m     \u001b[0mpeek\u001b[0m\u001b[0;34m,\u001b[0m \u001b[0mx\u001b[0m \u001b[0;34m=\u001b[0m \u001b[0mself\u001b[0m\u001b[0;34m.\u001b[0m\u001b[0m_peek_and_restore\u001b[0m\u001b[0;34m(\u001b[0m\u001b[0mx\u001b[0m\u001b[0;34m)\u001b[0m\u001b[0;34m\u001b[0m\u001b[0;34m\u001b[0m\u001b[0m\n\u001b[0m\u001b[1;32m    748\u001b[0m     \u001b[0massert_not_namedtuple\u001b[0m\u001b[0;34m(\u001b[0m\u001b[0mpeek\u001b[0m\u001b[0;34m)\u001b[0m\u001b[0;34m\u001b[0m\u001b[0;34m\u001b[0m\u001b[0m\n\u001b[1;32m    749\u001b[0m \u001b[0;34m\u001b[0m\u001b[0m\n",
      "\u001b[0;32m~/.local/lib/python3.7/site-packages/tensorflow_core/python/keras/engine/data_adapter.py\u001b[0m in \u001b[0;36m_peek_and_restore\u001b[0;34m(x)\u001b[0m\n\u001b[1;32m    954\u001b[0m   \u001b[0;34m@\u001b[0m\u001b[0mstaticmethod\u001b[0m\u001b[0;34m\u001b[0m\u001b[0;34m\u001b[0m\u001b[0m\n\u001b[1;32m    955\u001b[0m   \u001b[0;32mdef\u001b[0m \u001b[0m_peek_and_restore\u001b[0m\u001b[0;34m(\u001b[0m\u001b[0mx\u001b[0m\u001b[0;34m)\u001b[0m\u001b[0;34m:\u001b[0m\u001b[0;34m\u001b[0m\u001b[0;34m\u001b[0m\u001b[0m\n\u001b[0;32m--> 956\u001b[0;31m     \u001b[0;32mreturn\u001b[0m \u001b[0mx\u001b[0m\u001b[0;34m[\u001b[0m\u001b[0;36m0\u001b[0m\u001b[0;34m]\u001b[0m\u001b[0;34m,\u001b[0m \u001b[0mx\u001b[0m\u001b[0;34m\u001b[0m\u001b[0;34m\u001b[0m\u001b[0m\n\u001b[0m\u001b[1;32m    957\u001b[0m \u001b[0;34m\u001b[0m\u001b[0m\n\u001b[1;32m    958\u001b[0m   \u001b[0;32mdef\u001b[0m \u001b[0m_make_callable\u001b[0m\u001b[0;34m(\u001b[0m\u001b[0mself\u001b[0m\u001b[0;34m,\u001b[0m \u001b[0mx\u001b[0m\u001b[0;34m,\u001b[0m \u001b[0mworkers\u001b[0m\u001b[0;34m,\u001b[0m \u001b[0muse_multiprocessing\u001b[0m\u001b[0;34m,\u001b[0m \u001b[0mmax_queue_size\u001b[0m\u001b[0;34m)\u001b[0m\u001b[0;34m:\u001b[0m\u001b[0;34m\u001b[0m\u001b[0;34m\u001b[0m\u001b[0m\n",
      "\u001b[0;32m/usr/local/lib/python3.7/site-packages/keras_preprocessing/sequence.py\u001b[0m in \u001b[0;36m__getitem__\u001b[0;34m(self, index)\u001b[0m\n\u001b[1;32m    370\u001b[0m         samples = np.array([self.data[row - self.length:row:self.sampling_rate]\n\u001b[1;32m    371\u001b[0m                             for row in rows])\n\u001b[0;32m--> 372\u001b[0;31m         \u001b[0mtargets\u001b[0m \u001b[0;34m=\u001b[0m \u001b[0mnp\u001b[0m\u001b[0;34m.\u001b[0m\u001b[0marray\u001b[0m\u001b[0;34m(\u001b[0m\u001b[0;34m[\u001b[0m\u001b[0mself\u001b[0m\u001b[0;34m.\u001b[0m\u001b[0mtargets\u001b[0m\u001b[0;34m[\u001b[0m\u001b[0mrow\u001b[0m\u001b[0;34m]\u001b[0m \u001b[0;32mfor\u001b[0m \u001b[0mrow\u001b[0m \u001b[0;32min\u001b[0m \u001b[0mrows\u001b[0m\u001b[0;34m]\u001b[0m\u001b[0;34m)\u001b[0m\u001b[0;34m\u001b[0m\u001b[0;34m\u001b[0m\u001b[0m\n\u001b[0m\u001b[1;32m    373\u001b[0m \u001b[0;34m\u001b[0m\u001b[0m\n\u001b[1;32m    374\u001b[0m         \u001b[0;32mif\u001b[0m \u001b[0mself\u001b[0m\u001b[0;34m.\u001b[0m\u001b[0mreverse\u001b[0m\u001b[0;34m:\u001b[0m\u001b[0;34m\u001b[0m\u001b[0;34m\u001b[0m\u001b[0m\n",
      "\u001b[0;32m/usr/local/lib/python3.7/site-packages/keras_preprocessing/sequence.py\u001b[0m in \u001b[0;36m<listcomp>\u001b[0;34m(.0)\u001b[0m\n\u001b[1;32m    370\u001b[0m         samples = np.array([self.data[row - self.length:row:self.sampling_rate]\n\u001b[1;32m    371\u001b[0m                             for row in rows])\n\u001b[0;32m--> 372\u001b[0;31m         \u001b[0mtargets\u001b[0m \u001b[0;34m=\u001b[0m \u001b[0mnp\u001b[0m\u001b[0;34m.\u001b[0m\u001b[0marray\u001b[0m\u001b[0;34m(\u001b[0m\u001b[0;34m[\u001b[0m\u001b[0mself\u001b[0m\u001b[0;34m.\u001b[0m\u001b[0mtargets\u001b[0m\u001b[0;34m[\u001b[0m\u001b[0mrow\u001b[0m\u001b[0;34m]\u001b[0m \u001b[0;32mfor\u001b[0m \u001b[0mrow\u001b[0m \u001b[0;32min\u001b[0m \u001b[0mrows\u001b[0m\u001b[0;34m]\u001b[0m\u001b[0;34m)\u001b[0m\u001b[0;34m\u001b[0m\u001b[0;34m\u001b[0m\u001b[0m\n\u001b[0m\u001b[1;32m    373\u001b[0m \u001b[0;34m\u001b[0m\u001b[0m\n\u001b[1;32m    374\u001b[0m         \u001b[0;32mif\u001b[0m \u001b[0mself\u001b[0m\u001b[0;34m.\u001b[0m\u001b[0mreverse\u001b[0m\u001b[0;34m:\u001b[0m\u001b[0;34m\u001b[0m\u001b[0;34m\u001b[0m\u001b[0m\n",
      "\u001b[0;32m/usr/local/lib64/python3.7/site-packages/pandas/core/series.py\u001b[0m in \u001b[0;36m__getitem__\u001b[0;34m(self, key)\u001b[0m\n\u001b[1;32m    869\u001b[0m         \u001b[0mkey\u001b[0m \u001b[0;34m=\u001b[0m \u001b[0mcom\u001b[0m\u001b[0;34m.\u001b[0m\u001b[0mapply_if_callable\u001b[0m\u001b[0;34m(\u001b[0m\u001b[0mkey\u001b[0m\u001b[0;34m,\u001b[0m \u001b[0mself\u001b[0m\u001b[0;34m)\u001b[0m\u001b[0;34m\u001b[0m\u001b[0;34m\u001b[0m\u001b[0m\n\u001b[1;32m    870\u001b[0m         \u001b[0;32mtry\u001b[0m\u001b[0;34m:\u001b[0m\u001b[0;34m\u001b[0m\u001b[0;34m\u001b[0m\u001b[0m\n\u001b[0;32m--> 871\u001b[0;31m             \u001b[0mresult\u001b[0m \u001b[0;34m=\u001b[0m \u001b[0mself\u001b[0m\u001b[0;34m.\u001b[0m\u001b[0mindex\u001b[0m\u001b[0;34m.\u001b[0m\u001b[0mget_value\u001b[0m\u001b[0;34m(\u001b[0m\u001b[0mself\u001b[0m\u001b[0;34m,\u001b[0m \u001b[0mkey\u001b[0m\u001b[0;34m)\u001b[0m\u001b[0;34m\u001b[0m\u001b[0;34m\u001b[0m\u001b[0m\n\u001b[0m\u001b[1;32m    872\u001b[0m \u001b[0;34m\u001b[0m\u001b[0m\n\u001b[1;32m    873\u001b[0m             \u001b[0;32mif\u001b[0m \u001b[0;32mnot\u001b[0m \u001b[0mis_scalar\u001b[0m\u001b[0;34m(\u001b[0m\u001b[0mresult\u001b[0m\u001b[0;34m)\u001b[0m\u001b[0;34m:\u001b[0m\u001b[0;34m\u001b[0m\u001b[0;34m\u001b[0m\u001b[0m\n",
      "\u001b[0;32m/usr/local/lib64/python3.7/site-packages/pandas/core/indexes/base.py\u001b[0m in \u001b[0;36mget_value\u001b[0;34m(self, series, key)\u001b[0m\n\u001b[1;32m   4403\u001b[0m         \u001b[0mk\u001b[0m \u001b[0;34m=\u001b[0m \u001b[0mself\u001b[0m\u001b[0;34m.\u001b[0m\u001b[0m_convert_scalar_indexer\u001b[0m\u001b[0;34m(\u001b[0m\u001b[0mk\u001b[0m\u001b[0;34m,\u001b[0m \u001b[0mkind\u001b[0m\u001b[0;34m=\u001b[0m\u001b[0;34m\"getitem\"\u001b[0m\u001b[0;34m)\u001b[0m\u001b[0;34m\u001b[0m\u001b[0;34m\u001b[0m\u001b[0m\n\u001b[1;32m   4404\u001b[0m         \u001b[0;32mtry\u001b[0m\u001b[0;34m:\u001b[0m\u001b[0;34m\u001b[0m\u001b[0;34m\u001b[0m\u001b[0m\n\u001b[0;32m-> 4405\u001b[0;31m             \u001b[0;32mreturn\u001b[0m \u001b[0mself\u001b[0m\u001b[0;34m.\u001b[0m\u001b[0m_engine\u001b[0m\u001b[0;34m.\u001b[0m\u001b[0mget_value\u001b[0m\u001b[0;34m(\u001b[0m\u001b[0ms\u001b[0m\u001b[0;34m,\u001b[0m \u001b[0mk\u001b[0m\u001b[0;34m,\u001b[0m \u001b[0mtz\u001b[0m\u001b[0;34m=\u001b[0m\u001b[0mgetattr\u001b[0m\u001b[0;34m(\u001b[0m\u001b[0mseries\u001b[0m\u001b[0;34m.\u001b[0m\u001b[0mdtype\u001b[0m\u001b[0;34m,\u001b[0m \u001b[0;34m\"tz\"\u001b[0m\u001b[0;34m,\u001b[0m \u001b[0;32mNone\u001b[0m\u001b[0;34m)\u001b[0m\u001b[0;34m)\u001b[0m\u001b[0;34m\u001b[0m\u001b[0;34m\u001b[0m\u001b[0m\n\u001b[0m\u001b[1;32m   4406\u001b[0m         \u001b[0;32mexcept\u001b[0m \u001b[0mKeyError\u001b[0m \u001b[0;32mas\u001b[0m \u001b[0me1\u001b[0m\u001b[0;34m:\u001b[0m\u001b[0;34m\u001b[0m\u001b[0;34m\u001b[0m\u001b[0m\n\u001b[1;32m   4407\u001b[0m             \u001b[0;32mif\u001b[0m \u001b[0mlen\u001b[0m\u001b[0;34m(\u001b[0m\u001b[0mself\u001b[0m\u001b[0;34m)\u001b[0m \u001b[0;34m>\u001b[0m \u001b[0;36m0\u001b[0m \u001b[0;32mand\u001b[0m \u001b[0;34m(\u001b[0m\u001b[0mself\u001b[0m\u001b[0;34m.\u001b[0m\u001b[0mholds_integer\u001b[0m\u001b[0;34m(\u001b[0m\u001b[0;34m)\u001b[0m \u001b[0;32mor\u001b[0m \u001b[0mself\u001b[0m\u001b[0;34m.\u001b[0m\u001b[0mis_boolean\u001b[0m\u001b[0;34m(\u001b[0m\u001b[0;34m)\u001b[0m\u001b[0;34m)\u001b[0m\u001b[0;34m:\u001b[0m\u001b[0;34m\u001b[0m\u001b[0;34m\u001b[0m\u001b[0m\n",
      "\u001b[0;32mpandas/_libs/index.pyx\u001b[0m in \u001b[0;36mpandas._libs.index.IndexEngine.get_value\u001b[0;34m()\u001b[0m\n",
      "\u001b[0;32mpandas/_libs/index.pyx\u001b[0m in \u001b[0;36mpandas._libs.index.IndexEngine.get_value\u001b[0;34m()\u001b[0m\n",
      "\u001b[0;32mpandas/_libs/index.pyx\u001b[0m in \u001b[0;36mpandas._libs.index.IndexEngine.get_loc\u001b[0;34m()\u001b[0m\n",
      "\u001b[0;32mpandas/_libs/hashtable_class_helper.pxi\u001b[0m in \u001b[0;36mpandas._libs.hashtable.Int64HashTable.get_item\u001b[0;34m()\u001b[0m\n",
      "\u001b[0;32mpandas/_libs/hashtable_class_helper.pxi\u001b[0m in \u001b[0;36mpandas._libs.hashtable.Int64HashTable.get_item\u001b[0;34m()\u001b[0m\n",
      "\u001b[0;31mKeyError\u001b[0m: 10"
     ]
    }
   ],
   "source": [
    "# Not working\n",
    "hist = rnn.fit_generator(train_sequences, epochs = 3, validation_data=test_sequences)"
   ]
  },
  {
   "cell_type": "code",
   "execution_count": null,
   "metadata": {},
   "outputs": [],
   "source": []
  }
 ],
 "metadata": {
  "kernelspec": {
   "display_name": "Python 3",
   "language": "python",
   "name": "python3"
  },
  "language_info": {
   "codemirror_mode": {
    "name": "ipython",
    "version": 3
   },
   "file_extension": ".py",
   "mimetype": "text/x-python",
   "name": "python",
   "nbconvert_exporter": "python",
   "pygments_lexer": "ipython3",
   "version": "3.7.6"
  }
 },
 "nbformat": 4,
 "nbformat_minor": 2
}
