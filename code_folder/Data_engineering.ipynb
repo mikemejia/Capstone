{
 "cells": [
  {
   "cell_type": "code",
   "execution_count": 1,
   "metadata": {},
   "outputs": [],
   "source": [
    "import pymysql\n",
    "import pandas as pd\n",
    "import numpy as np\n",
    "from datetime import datetime"
   ]
  },
  {
   "cell_type": "code",
   "execution_count": 2,
   "metadata": {},
   "outputs": [],
   "source": [
    "prod_conn = pymysql.connect(\n",
    "  host='localhost',\n",
    "  user='root',\n",
    "  password='Mike4568!',\n",
    "  port=3306,\n",
    "  database='FORMULA1')\n",
    "with prod_conn:\n",
    "    cur = prod_conn.cursor()"
   ]
  },
  {
   "cell_type": "code",
   "execution_count": 282,
   "metadata": {},
   "outputs": [
    {
     "data": {
      "text/plain": [
       "4"
      ]
     },
     "execution_count": 282,
     "metadata": {},
     "output_type": "execute_result"
    }
   ],
   "source": [
    "cur.execute(\"SHOW DATABASES;\")"
   ]
  },
  {
   "cell_type": "code",
   "execution_count": 8,
   "metadata": {},
   "outputs": [
    {
     "name": "stdout",
     "output_type": "stream",
     "text": [
      "(('FORMULA1',), ('information_schema',), ('mysql',), ('performance_schema',))\n"
     ]
    }
   ],
   "source": [
    "print(cur.fetchall())"
   ]
  },
  {
   "cell_type": "code",
   "execution_count": 9,
   "metadata": {},
   "outputs": [
    {
     "data": {
      "text/plain": [
       "12"
      ]
     },
     "execution_count": 9,
     "metadata": {},
     "output_type": "execute_result"
    }
   ],
   "source": [
    "cur.execute(\"SHOW TABLES;\")"
   ]
  },
  {
   "cell_type": "code",
   "execution_count": 10,
   "metadata": {
    "scrolled": true
   },
   "outputs": [
    {
     "name": "stdout",
     "output_type": "stream",
     "text": [
      "(('circuits',), ('constructor_results',), ('constructor_standings',), ('constructors',), ('driver_standings',), ('drivers',), ('lap_times',), ('pit_stops',), ('qualifying',), ('races',), ('results',), ('status',))\n"
     ]
    }
   ],
   "source": [
    "print(cur.fetchall())"
   ]
  },
  {
   "cell_type": "code",
   "execution_count": 304,
   "metadata": {},
   "outputs": [],
   "source": [
    "test1 = \"\"\"\n",
    "            SELECT lt.raceId, lt.driverId, lt.lap AS lt_lap, lt.position, lt.milliseconds, ps.lap AS ps_lap\n",
    "            FROM lap_times lt\n",
    "            INNER JOIN races rs on lt.raceId = rs.raceId \n",
    "            LEFT JOIN pit_stops ps ON lt.raceId=ps.raceId\n",
    "            WHERE (lt.raceId = 944) AND (ps.raceId IS NULL)\n",
    "            LIMIT 100;\n",
    "\"\"\""
   ]
  },
  {
   "cell_type": "code",
   "execution_count": 7,
   "metadata": {},
   "outputs": [],
   "source": [
    "another_one = \"\"\"\n",
    "SELECT *\n",
    "FROM (\n",
    "    SELECT lt.raceId, lt.driverId, lt.lap AS lt_lap, lt.position, lt.milliseconds, lt.lap, rs.circuitId, rs.date \n",
    "    FROM lap_times lt\n",
    "    INNER JOIN races rs on lt.raceId = rs.raceId\n",
    ") a\n",
    "\n",
    "LEFT JOIN\n",
    "\n",
    "(\n",
    "   SELECT ps.raceId AS rd, ps.lap AS ps_lap, ps.driverId AS di, ps.millisec as pit_time\n",
    "    FROM pit_stops ps\n",
    ") b\n",
    "\n",
    "ON (a.raceId = b.rd) AND (a.driverid = b.di) AND (a.lap = b.ps_lap);\n",
    "\"\"\""
   ]
  },
  {
   "cell_type": "code",
   "execution_count": 8,
   "metadata": {},
   "outputs": [],
   "source": [
    "res1 = data_retr(another_one)"
   ]
  },
  {
   "cell_type": "code",
   "execution_count": 9,
   "metadata": {},
   "outputs": [
    {
     "data": {
      "text/html": [
       "<div>\n",
       "<style scoped>\n",
       "    .dataframe tbody tr th:only-of-type {\n",
       "        vertical-align: middle;\n",
       "    }\n",
       "\n",
       "    .dataframe tbody tr th {\n",
       "        vertical-align: top;\n",
       "    }\n",
       "\n",
       "    .dataframe thead th {\n",
       "        text-align: right;\n",
       "    }\n",
       "</style>\n",
       "<table border=\"1\" class=\"dataframe\">\n",
       "  <thead>\n",
       "    <tr style=\"text-align: right;\">\n",
       "      <th></th>\n",
       "      <th>raceId</th>\n",
       "      <th>driverId</th>\n",
       "      <th>lt_lap</th>\n",
       "      <th>position</th>\n",
       "      <th>milliseconds</th>\n",
       "      <th>lap</th>\n",
       "      <th>circuitId</th>\n",
       "      <th>date</th>\n",
       "      <th>rd</th>\n",
       "      <th>ps_lap</th>\n",
       "      <th>di</th>\n",
       "      <th>pit_time</th>\n",
       "    </tr>\n",
       "  </thead>\n",
       "  <tbody>\n",
       "    <tr>\n",
       "      <th>0</th>\n",
       "      <td>841</td>\n",
       "      <td>153</td>\n",
       "      <td>1</td>\n",
       "      <td>21</td>\n",
       "      <td>133879</td>\n",
       "      <td>1</td>\n",
       "      <td>1</td>\n",
       "      <td>2011-03-27</td>\n",
       "      <td>841.0</td>\n",
       "      <td>1.0</td>\n",
       "      <td>153.0</td>\n",
       "      <td>26898.0</td>\n",
       "    </tr>\n",
       "    <tr>\n",
       "      <th>1</th>\n",
       "      <td>841</td>\n",
       "      <td>30</td>\n",
       "      <td>1</td>\n",
       "      <td>22</td>\n",
       "      <td>161428</td>\n",
       "      <td>1</td>\n",
       "      <td>1</td>\n",
       "      <td>2011-03-27</td>\n",
       "      <td>841.0</td>\n",
       "      <td>1.0</td>\n",
       "      <td>30.0</td>\n",
       "      <td>25021.0</td>\n",
       "    </tr>\n",
       "    <tr>\n",
       "      <th>2</th>\n",
       "      <td>841</td>\n",
       "      <td>17</td>\n",
       "      <td>11</td>\n",
       "      <td>7</td>\n",
       "      <td>114995</td>\n",
       "      <td>11</td>\n",
       "      <td>1</td>\n",
       "      <td>2011-03-27</td>\n",
       "      <td>841.0</td>\n",
       "      <td>11.0</td>\n",
       "      <td>17.0</td>\n",
       "      <td>23426.0</td>\n",
       "    </tr>\n",
       "    <tr>\n",
       "      <th>3</th>\n",
       "      <td>841</td>\n",
       "      <td>4</td>\n",
       "      <td>12</td>\n",
       "      <td>12</td>\n",
       "      <td>112624</td>\n",
       "      <td>12</td>\n",
       "      <td>1</td>\n",
       "      <td>2011-03-27</td>\n",
       "      <td>841.0</td>\n",
       "      <td>12.0</td>\n",
       "      <td>4.0</td>\n",
       "      <td>23251.0</td>\n",
       "    </tr>\n",
       "    <tr>\n",
       "      <th>4</th>\n",
       "      <td>841</td>\n",
       "      <td>13</td>\n",
       "      <td>13</td>\n",
       "      <td>11</td>\n",
       "      <td>114060</td>\n",
       "      <td>13</td>\n",
       "      <td>1</td>\n",
       "      <td>2011-03-27</td>\n",
       "      <td>841.0</td>\n",
       "      <td>13.0</td>\n",
       "      <td>13.0</td>\n",
       "      <td>23842.0</td>\n",
       "    </tr>\n",
       "  </tbody>\n",
       "</table>\n",
       "</div>"
      ],
      "text/plain": [
       "   raceId  driverId  lt_lap  position  milliseconds  lap  circuitId  \\\n",
       "0     841       153       1        21        133879    1          1   \n",
       "1     841        30       1        22        161428    1          1   \n",
       "2     841        17      11         7        114995   11          1   \n",
       "3     841         4      12        12        112624   12          1   \n",
       "4     841        13      13        11        114060   13          1   \n",
       "\n",
       "         date     rd  ps_lap     di  pit_time  \n",
       "0  2011-03-27  841.0     1.0  153.0   26898.0  \n",
       "1  2011-03-27  841.0     1.0   30.0   25021.0  \n",
       "2  2011-03-27  841.0    11.0   17.0   23426.0  \n",
       "3  2011-03-27  841.0    12.0    4.0   23251.0  \n",
       "4  2011-03-27  841.0    13.0   13.0   23842.0  "
      ]
     },
     "execution_count": 9,
     "metadata": {},
     "output_type": "execute_result"
    }
   ],
   "source": [
    "res1.head()"
   ]
  },
  {
   "cell_type": "code",
   "execution_count": 10,
   "metadata": {},
   "outputs": [],
   "source": [
    "final = res1.drop(columns=['rd', 'di','lap'])"
   ]
  },
  {
   "cell_type": "code",
   "execution_count": 11,
   "metadata": {},
   "outputs": [
    {
     "data": {
      "text/html": [
       "<div>\n",
       "<style scoped>\n",
       "    .dataframe tbody tr th:only-of-type {\n",
       "        vertical-align: middle;\n",
       "    }\n",
       "\n",
       "    .dataframe tbody tr th {\n",
       "        vertical-align: top;\n",
       "    }\n",
       "\n",
       "    .dataframe thead th {\n",
       "        text-align: right;\n",
       "    }\n",
       "</style>\n",
       "<table border=\"1\" class=\"dataframe\">\n",
       "  <thead>\n",
       "    <tr style=\"text-align: right;\">\n",
       "      <th></th>\n",
       "      <th>raceId</th>\n",
       "      <th>driverId</th>\n",
       "      <th>lt_lap</th>\n",
       "      <th>position</th>\n",
       "      <th>milliseconds</th>\n",
       "      <th>circuitId</th>\n",
       "      <th>date</th>\n",
       "      <th>ps_lap</th>\n",
       "      <th>pit_time</th>\n",
       "    </tr>\n",
       "  </thead>\n",
       "  <tbody>\n",
       "    <tr>\n",
       "      <th>0</th>\n",
       "      <td>841</td>\n",
       "      <td>153</td>\n",
       "      <td>1</td>\n",
       "      <td>21</td>\n",
       "      <td>133879</td>\n",
       "      <td>1</td>\n",
       "      <td>2011-03-27</td>\n",
       "      <td>1.0</td>\n",
       "      <td>26898.0</td>\n",
       "    </tr>\n",
       "    <tr>\n",
       "      <th>1</th>\n",
       "      <td>841</td>\n",
       "      <td>30</td>\n",
       "      <td>1</td>\n",
       "      <td>22</td>\n",
       "      <td>161428</td>\n",
       "      <td>1</td>\n",
       "      <td>2011-03-27</td>\n",
       "      <td>1.0</td>\n",
       "      <td>25021.0</td>\n",
       "    </tr>\n",
       "    <tr>\n",
       "      <th>2</th>\n",
       "      <td>841</td>\n",
       "      <td>17</td>\n",
       "      <td>11</td>\n",
       "      <td>7</td>\n",
       "      <td>114995</td>\n",
       "      <td>1</td>\n",
       "      <td>2011-03-27</td>\n",
       "      <td>11.0</td>\n",
       "      <td>23426.0</td>\n",
       "    </tr>\n",
       "    <tr>\n",
       "      <th>3</th>\n",
       "      <td>841</td>\n",
       "      <td>4</td>\n",
       "      <td>12</td>\n",
       "      <td>12</td>\n",
       "      <td>112624</td>\n",
       "      <td>1</td>\n",
       "      <td>2011-03-27</td>\n",
       "      <td>12.0</td>\n",
       "      <td>23251.0</td>\n",
       "    </tr>\n",
       "    <tr>\n",
       "      <th>4</th>\n",
       "      <td>841</td>\n",
       "      <td>13</td>\n",
       "      <td>13</td>\n",
       "      <td>11</td>\n",
       "      <td>114060</td>\n",
       "      <td>1</td>\n",
       "      <td>2011-03-27</td>\n",
       "      <td>13.0</td>\n",
       "      <td>23842.0</td>\n",
       "    </tr>\n",
       "  </tbody>\n",
       "</table>\n",
       "</div>"
      ],
      "text/plain": [
       "   raceId  driverId  lt_lap  position  milliseconds  circuitId        date  \\\n",
       "0     841       153       1        21        133879          1  2011-03-27   \n",
       "1     841        30       1        22        161428          1  2011-03-27   \n",
       "2     841        17      11         7        114995          1  2011-03-27   \n",
       "3     841         4      12        12        112624          1  2011-03-27   \n",
       "4     841        13      13        11        114060          1  2011-03-27   \n",
       "\n",
       "   ps_lap  pit_time  \n",
       "0     1.0   26898.0  \n",
       "1     1.0   25021.0  \n",
       "2    11.0   23426.0  \n",
       "3    12.0   23251.0  \n",
       "4    13.0   23842.0  "
      ]
     },
     "execution_count": 11,
     "metadata": {},
     "output_type": "execute_result"
    }
   ],
   "source": [
    "final.head()"
   ]
  },
  {
   "cell_type": "code",
   "execution_count": 466,
   "metadata": {},
   "outputs": [
    {
     "data": {
      "text/plain": [
       "raceId               0\n",
       "driverId             0\n",
       "lt_lap               0\n",
       "position             0\n",
       "milliseconds         0\n",
       "circuitId            0\n",
       "date                 0\n",
       "ps_lap          465068\n",
       "dtype: int64"
      ]
     },
     "execution_count": 466,
     "metadata": {},
     "output_type": "execute_result"
    }
   ],
   "source": [
    "final.isnull().sum()"
   ]
  },
  {
   "cell_type": "code",
   "execution_count": 471,
   "metadata": {},
   "outputs": [
    {
     "data": {
      "text/html": [
       "<div>\n",
       "<style scoped>\n",
       "    .dataframe tbody tr th:only-of-type {\n",
       "        vertical-align: middle;\n",
       "    }\n",
       "\n",
       "    .dataframe tbody tr th {\n",
       "        vertical-align: top;\n",
       "    }\n",
       "\n",
       "    .dataframe thead th {\n",
       "        text-align: right;\n",
       "    }\n",
       "</style>\n",
       "<table border=\"1\" class=\"dataframe\">\n",
       "  <thead>\n",
       "    <tr style=\"text-align: right;\">\n",
       "      <th></th>\n",
       "      <th>raceId</th>\n",
       "      <th>driverId</th>\n",
       "      <th>lt_lap</th>\n",
       "      <th>position</th>\n",
       "      <th>milliseconds</th>\n",
       "      <th>circuitId</th>\n",
       "      <th>date</th>\n",
       "      <th>ps_lap</th>\n",
       "    </tr>\n",
       "  </thead>\n",
       "  <tbody>\n",
       "    <tr>\n",
       "      <th>360</th>\n",
       "      <td>841</td>\n",
       "      <td>20</td>\n",
       "      <td>1</td>\n",
       "      <td>1</td>\n",
       "      <td>98109</td>\n",
       "      <td>1</td>\n",
       "      <td>2011-03-27</td>\n",
       "      <td>NaN</td>\n",
       "    </tr>\n",
       "    <tr>\n",
       "      <th>361</th>\n",
       "      <td>841</td>\n",
       "      <td>20</td>\n",
       "      <td>2</td>\n",
       "      <td>1</td>\n",
       "      <td>93006</td>\n",
       "      <td>1</td>\n",
       "      <td>2011-03-27</td>\n",
       "      <td>NaN</td>\n",
       "    </tr>\n",
       "    <tr>\n",
       "      <th>362</th>\n",
       "      <td>841</td>\n",
       "      <td>20</td>\n",
       "      <td>3</td>\n",
       "      <td>1</td>\n",
       "      <td>92713</td>\n",
       "      <td>1</td>\n",
       "      <td>2011-03-27</td>\n",
       "      <td>NaN</td>\n",
       "    </tr>\n",
       "    <tr>\n",
       "      <th>363</th>\n",
       "      <td>841</td>\n",
       "      <td>20</td>\n",
       "      <td>4</td>\n",
       "      <td>1</td>\n",
       "      <td>92803</td>\n",
       "      <td>1</td>\n",
       "      <td>2011-03-27</td>\n",
       "      <td>NaN</td>\n",
       "    </tr>\n",
       "    <tr>\n",
       "      <th>364</th>\n",
       "      <td>841</td>\n",
       "      <td>20</td>\n",
       "      <td>5</td>\n",
       "      <td>1</td>\n",
       "      <td>92342</td>\n",
       "      <td>1</td>\n",
       "      <td>2011-03-27</td>\n",
       "      <td>NaN</td>\n",
       "    </tr>\n",
       "    <tr>\n",
       "      <th>...</th>\n",
       "      <td>...</td>\n",
       "      <td>...</td>\n",
       "      <td>...</td>\n",
       "      <td>...</td>\n",
       "      <td>...</td>\n",
       "      <td>...</td>\n",
       "      <td>...</td>\n",
       "      <td>...</td>\n",
       "    </tr>\n",
       "    <tr>\n",
       "      <th>472499</th>\n",
       "      <td>1030</td>\n",
       "      <td>842</td>\n",
       "      <td>49</td>\n",
       "      <td>18</td>\n",
       "      <td>103719</td>\n",
       "      <td>24</td>\n",
       "      <td>2019-12-01</td>\n",
       "      <td>NaN</td>\n",
       "    </tr>\n",
       "    <tr>\n",
       "      <th>472500</th>\n",
       "      <td>1030</td>\n",
       "      <td>842</td>\n",
       "      <td>50</td>\n",
       "      <td>18</td>\n",
       "      <td>102820</td>\n",
       "      <td>24</td>\n",
       "      <td>2019-12-01</td>\n",
       "      <td>NaN</td>\n",
       "    </tr>\n",
       "    <tr>\n",
       "      <th>472501</th>\n",
       "      <td>1030</td>\n",
       "      <td>842</td>\n",
       "      <td>51</td>\n",
       "      <td>18</td>\n",
       "      <td>102814</td>\n",
       "      <td>24</td>\n",
       "      <td>2019-12-01</td>\n",
       "      <td>NaN</td>\n",
       "    </tr>\n",
       "    <tr>\n",
       "      <th>472502</th>\n",
       "      <td>1030</td>\n",
       "      <td>842</td>\n",
       "      <td>52</td>\n",
       "      <td>18</td>\n",
       "      <td>105254</td>\n",
       "      <td>24</td>\n",
       "      <td>2019-12-01</td>\n",
       "      <td>NaN</td>\n",
       "    </tr>\n",
       "    <tr>\n",
       "      <th>472503</th>\n",
       "      <td>1030</td>\n",
       "      <td>842</td>\n",
       "      <td>53</td>\n",
       "      <td>18</td>\n",
       "      <td>102414</td>\n",
       "      <td>24</td>\n",
       "      <td>2019-12-01</td>\n",
       "      <td>NaN</td>\n",
       "    </tr>\n",
       "  </tbody>\n",
       "</table>\n",
       "<p>465068 rows × 8 columns</p>\n",
       "</div>"
      ],
      "text/plain": [
       "        raceId  driverId  lt_lap  position  milliseconds  circuitId  \\\n",
       "360        841        20       1         1         98109          1   \n",
       "361        841        20       2         1         93006          1   \n",
       "362        841        20       3         1         92713          1   \n",
       "363        841        20       4         1         92803          1   \n",
       "364        841        20       5         1         92342          1   \n",
       "...        ...       ...     ...       ...           ...        ...   \n",
       "472499    1030       842      49        18        103719         24   \n",
       "472500    1030       842      50        18        102820         24   \n",
       "472501    1030       842      51        18        102814         24   \n",
       "472502    1030       842      52        18        105254         24   \n",
       "472503    1030       842      53        18        102414         24   \n",
       "\n",
       "              date  ps_lap  \n",
       "360     2011-03-27     NaN  \n",
       "361     2011-03-27     NaN  \n",
       "362     2011-03-27     NaN  \n",
       "363     2011-03-27     NaN  \n",
       "364     2011-03-27     NaN  \n",
       "...            ...     ...  \n",
       "472499  2019-12-01     NaN  \n",
       "472500  2019-12-01     NaN  \n",
       "472501  2019-12-01     NaN  \n",
       "472502  2019-12-01     NaN  \n",
       "472503  2019-12-01     NaN  \n",
       "\n",
       "[465068 rows x 8 columns]"
      ]
     },
     "execution_count": 471,
     "metadata": {},
     "output_type": "execute_result"
    }
   ],
   "source": [
    "final.loc[final['ps_lap'].isnull()]"
   ]
  },
  {
   "cell_type": "code",
   "execution_count": 491,
   "metadata": {},
   "outputs": [
    {
     "data": {
      "text/plain": [
       "1.0"
      ]
     },
     "execution_count": 491,
     "metadata": {},
     "output_type": "execute_result"
    }
   ],
   "source": [
    "final['ps_lap'].values[0]"
   ]
  },
  {
   "cell_type": "code",
   "execution_count": 495,
   "metadata": {},
   "outputs": [
    {
     "data": {
      "text/plain": [
       "True"
      ]
     },
     "execution_count": 495,
     "metadata": {},
     "output_type": "execute_result"
    }
   ],
   "source": [
    "pd.notna(final['ps_lap'].values[0])"
   ]
  },
  {
   "cell_type": "code",
   "execution_count": 12,
   "metadata": {},
   "outputs": [
    {
     "data": {
      "text/html": [
       "<div>\n",
       "<style scoped>\n",
       "    .dataframe tbody tr th:only-of-type {\n",
       "        vertical-align: middle;\n",
       "    }\n",
       "\n",
       "    .dataframe tbody tr th {\n",
       "        vertical-align: top;\n",
       "    }\n",
       "\n",
       "    .dataframe thead th {\n",
       "        text-align: right;\n",
       "    }\n",
       "</style>\n",
       "<table border=\"1\" class=\"dataframe\">\n",
       "  <thead>\n",
       "    <tr style=\"text-align: right;\">\n",
       "      <th></th>\n",
       "      <th>raceId</th>\n",
       "      <th>driverId</th>\n",
       "      <th>lt_lap</th>\n",
       "      <th>position</th>\n",
       "      <th>milliseconds</th>\n",
       "      <th>circuitId</th>\n",
       "      <th>date</th>\n",
       "      <th>ps_lap</th>\n",
       "      <th>pit_time</th>\n",
       "      <th>target</th>\n",
       "    </tr>\n",
       "  </thead>\n",
       "  <tbody>\n",
       "    <tr>\n",
       "      <th>0</th>\n",
       "      <td>841</td>\n",
       "      <td>153</td>\n",
       "      <td>1</td>\n",
       "      <td>21</td>\n",
       "      <td>133879</td>\n",
       "      <td>1</td>\n",
       "      <td>2011-03-27</td>\n",
       "      <td>1.0</td>\n",
       "      <td>26898.0</td>\n",
       "      <td>True</td>\n",
       "    </tr>\n",
       "    <tr>\n",
       "      <th>1</th>\n",
       "      <td>841</td>\n",
       "      <td>30</td>\n",
       "      <td>1</td>\n",
       "      <td>22</td>\n",
       "      <td>161428</td>\n",
       "      <td>1</td>\n",
       "      <td>2011-03-27</td>\n",
       "      <td>1.0</td>\n",
       "      <td>25021.0</td>\n",
       "      <td>True</td>\n",
       "    </tr>\n",
       "    <tr>\n",
       "      <th>2</th>\n",
       "      <td>841</td>\n",
       "      <td>17</td>\n",
       "      <td>11</td>\n",
       "      <td>7</td>\n",
       "      <td>114995</td>\n",
       "      <td>1</td>\n",
       "      <td>2011-03-27</td>\n",
       "      <td>11.0</td>\n",
       "      <td>23426.0</td>\n",
       "      <td>True</td>\n",
       "    </tr>\n",
       "    <tr>\n",
       "      <th>3</th>\n",
       "      <td>841</td>\n",
       "      <td>4</td>\n",
       "      <td>12</td>\n",
       "      <td>12</td>\n",
       "      <td>112624</td>\n",
       "      <td>1</td>\n",
       "      <td>2011-03-27</td>\n",
       "      <td>12.0</td>\n",
       "      <td>23251.0</td>\n",
       "      <td>True</td>\n",
       "    </tr>\n",
       "    <tr>\n",
       "      <th>4</th>\n",
       "      <td>841</td>\n",
       "      <td>13</td>\n",
       "      <td>13</td>\n",
       "      <td>11</td>\n",
       "      <td>114060</td>\n",
       "      <td>1</td>\n",
       "      <td>2011-03-27</td>\n",
       "      <td>13.0</td>\n",
       "      <td>23842.0</td>\n",
       "      <td>True</td>\n",
       "    </tr>\n",
       "  </tbody>\n",
       "</table>\n",
       "</div>"
      ],
      "text/plain": [
       "   raceId  driverId  lt_lap  position  milliseconds  circuitId        date  \\\n",
       "0     841       153       1        21        133879          1  2011-03-27   \n",
       "1     841        30       1        22        161428          1  2011-03-27   \n",
       "2     841        17      11         7        114995          1  2011-03-27   \n",
       "3     841         4      12        12        112624          1  2011-03-27   \n",
       "4     841        13      13        11        114060          1  2011-03-27   \n",
       "\n",
       "   ps_lap  pit_time  target  \n",
       "0     1.0   26898.0    True  \n",
       "1     1.0   25021.0    True  \n",
       "2    11.0   23426.0    True  \n",
       "3    12.0   23251.0    True  \n",
       "4    13.0   23842.0    True  "
      ]
     },
     "execution_count": 12,
     "metadata": {},
     "output_type": "execute_result"
    }
   ],
   "source": [
    "final['target'] = final['ps_lap'].map(pd.notna)\n",
    "final.head()"
   ]
  },
  {
   "cell_type": "code",
   "execution_count": 516,
   "metadata": {},
   "outputs": [
    {
     "data": {
      "text/html": [
       "<div>\n",
       "<style scoped>\n",
       "    .dataframe tbody tr th:only-of-type {\n",
       "        vertical-align: middle;\n",
       "    }\n",
       "\n",
       "    .dataframe tbody tr th {\n",
       "        vertical-align: top;\n",
       "    }\n",
       "\n",
       "    .dataframe thead th {\n",
       "        text-align: right;\n",
       "    }\n",
       "</style>\n",
       "<table border=\"1\" class=\"dataframe\">\n",
       "  <thead>\n",
       "    <tr style=\"text-align: right;\">\n",
       "      <th></th>\n",
       "      <th>raceId</th>\n",
       "      <th>driverId</th>\n",
       "      <th>lt_lap</th>\n",
       "      <th>position</th>\n",
       "      <th>milliseconds</th>\n",
       "      <th>circuitId</th>\n",
       "      <th>date</th>\n",
       "      <th>ps_lap</th>\n",
       "      <th>target</th>\n",
       "    </tr>\n",
       "  </thead>\n",
       "  <tbody>\n",
       "    <tr>\n",
       "      <th>0</th>\n",
       "      <td>841</td>\n",
       "      <td>153</td>\n",
       "      <td>1</td>\n",
       "      <td>21</td>\n",
       "      <td>133879</td>\n",
       "      <td>1</td>\n",
       "      <td>2011</td>\n",
       "      <td>1.0</td>\n",
       "      <td>True</td>\n",
       "    </tr>\n",
       "    <tr>\n",
       "      <th>1</th>\n",
       "      <td>841</td>\n",
       "      <td>30</td>\n",
       "      <td>1</td>\n",
       "      <td>22</td>\n",
       "      <td>161428</td>\n",
       "      <td>1</td>\n",
       "      <td>2011</td>\n",
       "      <td>1.0</td>\n",
       "      <td>True</td>\n",
       "    </tr>\n",
       "    <tr>\n",
       "      <th>2</th>\n",
       "      <td>841</td>\n",
       "      <td>17</td>\n",
       "      <td>11</td>\n",
       "      <td>7</td>\n",
       "      <td>114995</td>\n",
       "      <td>1</td>\n",
       "      <td>2011</td>\n",
       "      <td>11.0</td>\n",
       "      <td>True</td>\n",
       "    </tr>\n",
       "    <tr>\n",
       "      <th>3</th>\n",
       "      <td>841</td>\n",
       "      <td>4</td>\n",
       "      <td>12</td>\n",
       "      <td>12</td>\n",
       "      <td>112624</td>\n",
       "      <td>1</td>\n",
       "      <td>2011</td>\n",
       "      <td>12.0</td>\n",
       "      <td>True</td>\n",
       "    </tr>\n",
       "    <tr>\n",
       "      <th>4</th>\n",
       "      <td>841</td>\n",
       "      <td>13</td>\n",
       "      <td>13</td>\n",
       "      <td>11</td>\n",
       "      <td>114060</td>\n",
       "      <td>1</td>\n",
       "      <td>2011</td>\n",
       "      <td>13.0</td>\n",
       "      <td>True</td>\n",
       "    </tr>\n",
       "  </tbody>\n",
       "</table>\n",
       "</div>"
      ],
      "text/plain": [
       "   raceId  driverId  lt_lap  position  milliseconds  circuitId  date  ps_lap  \\\n",
       "0     841       153       1        21        133879          1  2011     1.0   \n",
       "1     841        30       1        22        161428          1  2011     1.0   \n",
       "2     841        17      11         7        114995          1  2011    11.0   \n",
       "3     841         4      12        12        112624          1  2011    12.0   \n",
       "4     841        13      13        11        114060          1  2011    13.0   \n",
       "\n",
       "   target  \n",
       "0    True  \n",
       "1    True  \n",
       "2    True  \n",
       "3    True  \n",
       "4    True  "
      ]
     },
     "execution_count": 516,
     "metadata": {},
     "output_type": "execute_result"
    }
   ],
   "source": [
    "final.head()"
   ]
  },
  {
   "cell_type": "code",
   "execution_count": 13,
   "metadata": {},
   "outputs": [],
   "source": [
    "final.to_csv(\"./data/Final_2.csv\")"
   ]
  },
  {
   "cell_type": "code",
   "execution_count": 509,
   "metadata": {
    "scrolled": true
   },
   "outputs": [
    {
     "name": "stdout",
     "output_type": "stream",
     "text": [
      "<class 'pandas.core.frame.DataFrame'>\n",
      "RangeIndex: 472504 entries, 0 to 472503\n",
      "Data columns (total 9 columns):\n",
      " #   Column        Non-Null Count   Dtype  \n",
      "---  ------        --------------   -----  \n",
      " 0   raceId        472504 non-null  int64  \n",
      " 1   driverId      472504 non-null  int64  \n",
      " 2   lt_lap        472504 non-null  int64  \n",
      " 3   position      472504 non-null  int64  \n",
      " 4   milliseconds  472504 non-null  int64  \n",
      " 5   circuitId     472504 non-null  int64  \n",
      " 6   date          472504 non-null  object \n",
      " 7   ps_lap        7436 non-null    float64\n",
      " 8   target        472504 non-null  bool   \n",
      "dtypes: bool(1), float64(1), int64(6), object(1)\n",
      "memory usage: 29.3+ MB\n"
     ]
    }
   ],
   "source": [
    "final.info()"
   ]
  },
  {
   "cell_type": "code",
   "execution_count": 513,
   "metadata": {
    "scrolled": true
   },
   "outputs": [],
   "source": [
    "final.date = [x.year for x in final.date]"
   ]
  },
  {
   "cell_type": "code",
   "execution_count": 442,
   "metadata": {},
   "outputs": [
    {
     "data": {
      "text/plain": [
       "'raceId'"
      ]
     },
     "execution_count": 442,
     "metadata": {},
     "output_type": "execute_result"
    }
   ],
   "source": [
    "final.columns[7]"
   ]
  },
  {
   "cell_type": "code",
   "execution_count": 332,
   "metadata": {},
   "outputs": [],
   "source": [
    "res = data_retr(another_one)"
   ]
  },
  {
   "cell_type": "code",
   "execution_count": 391,
   "metadata": {},
   "outputs": [],
   "source": [
    "joined = \"\"\" \n",
    "    SELECT lt.raceId, lt.driverId, lt.lap AS lt_lap, lt.position, lt.milliseconds, lt.lap, rs.circuitId, rs.date \n",
    "    FROM lap_times lt\n",
    "    INNER JOIN races rs on lt.raceId = rs.raceId\n",
    "\n",
    "\"\"\""
   ]
  },
  {
   "cell_type": "code",
   "execution_count": 307,
   "metadata": {},
   "outputs": [],
   "source": [
    "races = \"\"\"\n",
    "SELECT *\n",
    "FROM races\n",
    "\"\"\""
   ]
  },
  {
   "cell_type": "code",
   "execution_count": 308,
   "metadata": {},
   "outputs": [],
   "source": [
    "lap_times = \"\"\"\n",
    "SELECT *\n",
    "FROM lap_times\"\"\""
   ]
  },
  {
   "cell_type": "code",
   "execution_count": 362,
   "metadata": {},
   "outputs": [],
   "source": [
    "pit_stops = \"\"\"\n",
    "SELECT *\n",
    "FROM pit_stops\n",
    "\"\"\""
   ]
  },
  {
   "cell_type": "code",
   "execution_count": 392,
   "metadata": {},
   "outputs": [],
   "source": [
    "df_joined=data_retr(joined)"
   ]
  },
  {
   "cell_type": "code",
   "execution_count": 394,
   "metadata": {},
   "outputs": [
    {
     "data": {
      "text/html": [
       "<div>\n",
       "<style scoped>\n",
       "    .dataframe tbody tr th:only-of-type {\n",
       "        vertical-align: middle;\n",
       "    }\n",
       "\n",
       "    .dataframe tbody tr th {\n",
       "        vertical-align: top;\n",
       "    }\n",
       "\n",
       "    .dataframe thead th {\n",
       "        text-align: right;\n",
       "    }\n",
       "</style>\n",
       "<table border=\"1\" class=\"dataframe\">\n",
       "  <thead>\n",
       "    <tr style=\"text-align: right;\">\n",
       "      <th></th>\n",
       "      <th>raceId</th>\n",
       "      <th>driverId</th>\n",
       "      <th>lt_lap</th>\n",
       "      <th>position</th>\n",
       "      <th>milliseconds</th>\n",
       "      <th>lap</th>\n",
       "      <th>circuitId</th>\n",
       "      <th>date</th>\n",
       "    </tr>\n",
       "  </thead>\n",
       "  <tbody>\n",
       "    <tr>\n",
       "      <th>0</th>\n",
       "      <td>841</td>\n",
       "      <td>20</td>\n",
       "      <td>1</td>\n",
       "      <td>1</td>\n",
       "      <td>98109</td>\n",
       "      <td>1</td>\n",
       "      <td>1</td>\n",
       "      <td>2011-03-27</td>\n",
       "    </tr>\n",
       "    <tr>\n",
       "      <th>1</th>\n",
       "      <td>841</td>\n",
       "      <td>20</td>\n",
       "      <td>2</td>\n",
       "      <td>1</td>\n",
       "      <td>93006</td>\n",
       "      <td>2</td>\n",
       "      <td>1</td>\n",
       "      <td>2011-03-27</td>\n",
       "    </tr>\n",
       "    <tr>\n",
       "      <th>2</th>\n",
       "      <td>841</td>\n",
       "      <td>20</td>\n",
       "      <td>3</td>\n",
       "      <td>1</td>\n",
       "      <td>92713</td>\n",
       "      <td>3</td>\n",
       "      <td>1</td>\n",
       "      <td>2011-03-27</td>\n",
       "    </tr>\n",
       "    <tr>\n",
       "      <th>3</th>\n",
       "      <td>841</td>\n",
       "      <td>20</td>\n",
       "      <td>4</td>\n",
       "      <td>1</td>\n",
       "      <td>92803</td>\n",
       "      <td>4</td>\n",
       "      <td>1</td>\n",
       "      <td>2011-03-27</td>\n",
       "    </tr>\n",
       "    <tr>\n",
       "      <th>4</th>\n",
       "      <td>841</td>\n",
       "      <td>20</td>\n",
       "      <td>5</td>\n",
       "      <td>1</td>\n",
       "      <td>92342</td>\n",
       "      <td>5</td>\n",
       "      <td>1</td>\n",
       "      <td>2011-03-27</td>\n",
       "    </tr>\n",
       "  </tbody>\n",
       "</table>\n",
       "</div>"
      ],
      "text/plain": [
       "   raceId  driverId  lt_lap  position  milliseconds  lap  circuitId  \\\n",
       "0     841        20       1         1         98109    1          1   \n",
       "1     841        20       2         1         93006    2          1   \n",
       "2     841        20       3         1         92713    3          1   \n",
       "3     841        20       4         1         92803    4          1   \n",
       "4     841        20       5         1         92342    5          1   \n",
       "\n",
       "         date  \n",
       "0  2011-03-27  \n",
       "1  2011-03-27  \n",
       "2  2011-03-27  \n",
       "3  2011-03-27  \n",
       "4  2011-03-27  "
      ]
     },
     "execution_count": 394,
     "metadata": {},
     "output_type": "execute_result"
    }
   ],
   "source": [
    "df_joined.head()"
   ]
  },
  {
   "cell_type": "code",
   "execution_count": 377,
   "metadata": {},
   "outputs": [
    {
     "data": {
      "text/html": [
       "<div>\n",
       "<style scoped>\n",
       "    .dataframe tbody tr th:only-of-type {\n",
       "        vertical-align: middle;\n",
       "    }\n",
       "\n",
       "    .dataframe tbody tr th {\n",
       "        vertical-align: top;\n",
       "    }\n",
       "\n",
       "    .dataframe thead th {\n",
       "        text-align: right;\n",
       "    }\n",
       "</style>\n",
       "<table border=\"1\" class=\"dataframe\">\n",
       "  <thead>\n",
       "    <tr style=\"text-align: right;\">\n",
       "      <th></th>\n",
       "      <th>raceId</th>\n",
       "      <th>year</th>\n",
       "      <th>round</th>\n",
       "      <th>circuitId</th>\n",
       "      <th>name</th>\n",
       "      <th>date</th>\n",
       "      <th>time</th>\n",
       "    </tr>\n",
       "  </thead>\n",
       "  <tbody>\n",
       "    <tr>\n",
       "      <th>0</th>\n",
       "      <td>1</td>\n",
       "      <td>2009</td>\n",
       "      <td>1</td>\n",
       "      <td>1</td>\n",
       "      <td>Australian Grand Prix</td>\n",
       "      <td>2009-03-29</td>\n",
       "      <td>06:00:00</td>\n",
       "    </tr>\n",
       "    <tr>\n",
       "      <th>1</th>\n",
       "      <td>2</td>\n",
       "      <td>2009</td>\n",
       "      <td>2</td>\n",
       "      <td>2</td>\n",
       "      <td>Malaysian Grand Prix</td>\n",
       "      <td>2009-04-05</td>\n",
       "      <td>09:00:00</td>\n",
       "    </tr>\n",
       "    <tr>\n",
       "      <th>2</th>\n",
       "      <td>3</td>\n",
       "      <td>2009</td>\n",
       "      <td>3</td>\n",
       "      <td>17</td>\n",
       "      <td>Chinese Grand Prix</td>\n",
       "      <td>2009-04-19</td>\n",
       "      <td>07:00:00</td>\n",
       "    </tr>\n",
       "    <tr>\n",
       "      <th>3</th>\n",
       "      <td>4</td>\n",
       "      <td>2009</td>\n",
       "      <td>4</td>\n",
       "      <td>3</td>\n",
       "      <td>Bahrain Grand Prix</td>\n",
       "      <td>2009-04-26</td>\n",
       "      <td>12:00:00</td>\n",
       "    </tr>\n",
       "    <tr>\n",
       "      <th>4</th>\n",
       "      <td>5</td>\n",
       "      <td>2009</td>\n",
       "      <td>5</td>\n",
       "      <td>4</td>\n",
       "      <td>Spanish Grand Prix</td>\n",
       "      <td>2009-05-10</td>\n",
       "      <td>12:00:00</td>\n",
       "    </tr>\n",
       "  </tbody>\n",
       "</table>\n",
       "</div>"
      ],
      "text/plain": [
       "   raceId  year  round  circuitId                   name        date      time\n",
       "0       1  2009      1          1  Australian Grand Prix  2009-03-29  06:00:00\n",
       "1       2  2009      2          2   Malaysian Grand Prix  2009-04-05  09:00:00\n",
       "2       3  2009      3         17     Chinese Grand Prix  2009-04-19  07:00:00\n",
       "3       4  2009      4          3     Bahrain Grand Prix  2009-04-26  12:00:00\n",
       "4       5  2009      5          4     Spanish Grand Prix  2009-05-10  12:00:00"
      ]
     },
     "execution_count": 377,
     "metadata": {},
     "output_type": "execute_result"
    }
   ],
   "source": [
    "df_races = data_retr(races)\n",
    "df_races.head()"
   ]
  },
  {
   "cell_type": "code",
   "execution_count": 389,
   "metadata": {},
   "outputs": [
    {
     "data": {
      "text/plain": [
       "(1039, 7)"
      ]
     },
     "execution_count": 389,
     "metadata": {},
     "output_type": "execute_result"
    }
   ],
   "source": [
    "df_races.shape"
   ]
  },
  {
   "cell_type": "code",
   "execution_count": 390,
   "metadata": {},
   "outputs": [
    {
     "data": {
      "text/plain": [
       "(472504, 6)"
      ]
     },
     "execution_count": 390,
     "metadata": {},
     "output_type": "execute_result"
    }
   ],
   "source": [
    "df_lap_times.shape"
   ]
  },
  {
   "cell_type": "code",
   "execution_count": 378,
   "metadata": {},
   "outputs": [
    {
     "data": {
      "text/html": [
       "<div>\n",
       "<style scoped>\n",
       "    .dataframe tbody tr th:only-of-type {\n",
       "        vertical-align: middle;\n",
       "    }\n",
       "\n",
       "    .dataframe tbody tr th {\n",
       "        vertical-align: top;\n",
       "    }\n",
       "\n",
       "    .dataframe thead th {\n",
       "        text-align: right;\n",
       "    }\n",
       "</style>\n",
       "<table border=\"1\" class=\"dataframe\">\n",
       "  <thead>\n",
       "    <tr style=\"text-align: right;\">\n",
       "      <th></th>\n",
       "      <th>raceId</th>\n",
       "      <th>driverid</th>\n",
       "      <th>Lap</th>\n",
       "      <th>position</th>\n",
       "      <th>time</th>\n",
       "      <th>milliseconds</th>\n",
       "    </tr>\n",
       "  </thead>\n",
       "  <tbody>\n",
       "    <tr>\n",
       "      <th>0</th>\n",
       "      <td>841</td>\n",
       "      <td>20</td>\n",
       "      <td>1</td>\n",
       "      <td>1</td>\n",
       "      <td>1:38.109</td>\n",
       "      <td>98109</td>\n",
       "    </tr>\n",
       "    <tr>\n",
       "      <th>1</th>\n",
       "      <td>841</td>\n",
       "      <td>20</td>\n",
       "      <td>2</td>\n",
       "      <td>1</td>\n",
       "      <td>1:33.006</td>\n",
       "      <td>93006</td>\n",
       "    </tr>\n",
       "    <tr>\n",
       "      <th>2</th>\n",
       "      <td>841</td>\n",
       "      <td>20</td>\n",
       "      <td>3</td>\n",
       "      <td>1</td>\n",
       "      <td>1:32.713</td>\n",
       "      <td>92713</td>\n",
       "    </tr>\n",
       "    <tr>\n",
       "      <th>3</th>\n",
       "      <td>841</td>\n",
       "      <td>20</td>\n",
       "      <td>4</td>\n",
       "      <td>1</td>\n",
       "      <td>1:32.803</td>\n",
       "      <td>92803</td>\n",
       "    </tr>\n",
       "    <tr>\n",
       "      <th>4</th>\n",
       "      <td>841</td>\n",
       "      <td>20</td>\n",
       "      <td>5</td>\n",
       "      <td>1</td>\n",
       "      <td>1:32.342</td>\n",
       "      <td>92342</td>\n",
       "    </tr>\n",
       "  </tbody>\n",
       "</table>\n",
       "</div>"
      ],
      "text/plain": [
       "   raceId  driverid  Lap  position      time  milliseconds\n",
       "0     841        20    1         1  1:38.109         98109\n",
       "1     841        20    2         1  1:33.006         93006\n",
       "2     841        20    3         1  1:32.713         92713\n",
       "3     841        20    4         1  1:32.803         92803\n",
       "4     841        20    5         1  1:32.342         92342"
      ]
     },
     "execution_count": 378,
     "metadata": {},
     "output_type": "execute_result"
    }
   ],
   "source": [
    "df_lap_times = data_retr(lap_times)\n",
    "df_lap_times.head()"
   ]
  },
  {
   "cell_type": "code",
   "execution_count": 363,
   "metadata": {},
   "outputs": [],
   "source": [
    "df_pit_stops = data_retr(pit_stops)\n"
   ]
  },
  {
   "cell_type": "code",
   "execution_count": 324,
   "metadata": {},
   "outputs": [
    {
     "data": {
      "text/plain": [
       "Index(['raceId', 'driverId', 'stop', 'lap', 'time', 'duration', 'millisec'], dtype='object')"
      ]
     },
     "execution_count": 324,
     "metadata": {},
     "output_type": "execute_result"
    }
   ],
   "source": [
    "df_pit_stops.columns"
   ]
  },
  {
   "cell_type": "code",
   "execution_count": null,
   "metadata": {},
   "outputs": [],
   "source": [
    "# if raceid and driverid and lap in ps is the same as raceid and driverid and lap in lt\n",
    "df_pit_stops."
   ]
  },
  {
   "cell_type": "code",
   "execution_count": 293,
   "metadata": {},
   "outputs": [],
   "source": [
    "test = \"\"\"\n",
    "            SELECT *\n",
    "            FROM pit_stops \n",
    "            where raceId = 944;\n",
    "            \n",
    "            \n",
    "\"\"\""
   ]
  },
  {
   "cell_type": "code",
   "execution_count": 296,
   "metadata": {},
   "outputs": [],
   "source": [
    "bar = data_retr(test)"
   ]
  },
  {
   "cell_type": "code",
   "execution_count": null,
   "metadata": {},
   "outputs": [],
   "source": []
  },
  {
   "cell_type": "code",
   "execution_count": 219,
   "metadata": {},
   "outputs": [],
   "source": [
    "test = \"\"\"\n",
    "SELECT *\n",
    "FROM lap_times AS lt\n",
    "WHERE driverid IN (SELECT driverid\n",
    "                FROM results AS r\n",
    "                WHERE (r.position = '1') AND r.raceId != 1030)\n",
    "                AND\n",
    "        raceId IN (SELECT raceId\n",
    "                   FROM results\n",
    "                   WHERE (position = '1') AND raceId != 1030)\n",
    "                AND\n",
    "        driverid IN (SELECT driverid\n",
    "                     FROM results\n",
    "                     WHERE (position = '1') AND raceId != 1030)\n",
    "ORDER BY raceId, Lap\n",
    "\"\"\""
   ]
  },
  {
   "cell_type": "code",
   "execution_count": 5,
   "metadata": {},
   "outputs": [],
   "source": [
    "def data_retr(input_str):\n",
    "    cur.execute(input_str)\n",
    "    table = cur.fetchall()\n",
    "    a = list(cur.description)\n",
    "    column_names = [str(a[x][0]) for x in range(len(a))]\n",
    "    return pd.DataFrame(list(table),columns=column_names)\n"
   ]
  },
  {
   "cell_type": "code",
   "execution_count": 220,
   "metadata": {},
   "outputs": [],
   "source": [
    "try_this = data_retr(test)"
   ]
  },
  {
   "cell_type": "code",
   "execution_count": 198,
   "metadata": {},
   "outputs": [],
   "source": [
    "results_table = data_retr(results)"
   ]
  },
  {
   "cell_type": "code",
   "execution_count": 64,
   "metadata": {},
   "outputs": [],
   "source": [
    "a =list(desc)"
   ]
  },
  {
   "cell_type": "code",
   "execution_count": 77,
   "metadata": {},
   "outputs": [
    {
     "data": {
      "text/plain": [
       "['raceId',\n",
       " 'driverid',\n",
       " 'Lap',\n",
       " 'position',\n",
       " 'time',\n",
       " 'milliseconds',\n",
       " 'raceId',\n",
       " 'driverId',\n",
       " 'stop',\n",
       " 'lap',\n",
       " 'time',\n",
       " 'duration',\n",
       " 'millisec']"
      ]
     },
     "execution_count": 77,
     "metadata": {},
     "output_type": "execute_result"
    }
   ],
   "source": [
    "[str(a[x][0]) for x in range(len(list(cur.description)))]"
   ]
  }
 ],
 "metadata": {
  "kernelspec": {
   "display_name": "Python 3",
   "language": "python",
   "name": "python3"
  },
  "language_info": {
   "codemirror_mode": {
    "name": "ipython",
    "version": 3
   },
   "file_extension": ".py",
   "mimetype": "text/x-python",
   "name": "python",
   "nbconvert_exporter": "python",
   "pygments_lexer": "ipython3",
   "version": "3.7.6"
  }
 },
 "nbformat": 4,
 "nbformat_minor": 2
}
