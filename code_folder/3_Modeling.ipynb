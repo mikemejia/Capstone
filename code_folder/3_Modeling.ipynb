{
 "cells": [
  {
   "cell_type": "code",
   "execution_count": 4,
   "metadata": {},
   "outputs": [],
   "source": [
    "from sklearn.model_selection import train_test_split\n",
    "import numpy as np\n",
    "import pandas as pd\n",
    "from sklearn.linear_model import LogisticRegression\n",
    "from sklearn.tree import DecisionTreeClassifier\n",
    "from sklearn.model_selection import GridSearchCV\n",
    "from sklearn.metrics import confusion_matrix\n",
    "from sklearn.ensemble import RandomForestClassifier, ExtraTreesClassifier"
   ]
  },
  {
   "cell_type": "markdown",
   "metadata": {},
   "source": [
    "## Importing the final files from the data engineering side."
   ]
  },
  {
   "cell_type": "code",
   "execution_count": 51,
   "metadata": {},
   "outputs": [],
   "source": [
    "data = pd.read_csv('./data/Final_2.csv')"
   ]
  },
  {
   "cell_type": "code",
   "execution_count": 52,
   "metadata": {},
   "outputs": [],
   "source": [
    "data.drop(columns=['Unnamed: 0'],inplace=True)"
   ]
  },
  {
   "cell_type": "code",
   "execution_count": 53,
   "metadata": {
    "scrolled": false
   },
   "outputs": [
    {
     "data": {
      "text/html": [
       "<div>\n",
       "<style scoped>\n",
       "    .dataframe tbody tr th:only-of-type {\n",
       "        vertical-align: middle;\n",
       "    }\n",
       "\n",
       "    .dataframe tbody tr th {\n",
       "        vertical-align: top;\n",
       "    }\n",
       "\n",
       "    .dataframe thead th {\n",
       "        text-align: right;\n",
       "    }\n",
       "</style>\n",
       "<table border=\"1\" class=\"dataframe\">\n",
       "  <thead>\n",
       "    <tr style=\"text-align: right;\">\n",
       "      <th></th>\n",
       "      <th>raceId</th>\n",
       "      <th>driverId</th>\n",
       "      <th>lt_lap</th>\n",
       "      <th>position</th>\n",
       "      <th>milliseconds</th>\n",
       "      <th>circuitId</th>\n",
       "      <th>date</th>\n",
       "      <th>ps_lap</th>\n",
       "      <th>pit_time</th>\n",
       "      <th>target</th>\n",
       "    </tr>\n",
       "  </thead>\n",
       "  <tbody>\n",
       "    <tr>\n",
       "      <th>0</th>\n",
       "      <td>841</td>\n",
       "      <td>153</td>\n",
       "      <td>1</td>\n",
       "      <td>21</td>\n",
       "      <td>133879</td>\n",
       "      <td>1</td>\n",
       "      <td>2011-03-27</td>\n",
       "      <td>1.0</td>\n",
       "      <td>26898.0</td>\n",
       "      <td>True</td>\n",
       "    </tr>\n",
       "    <tr>\n",
       "      <th>1</th>\n",
       "      <td>841</td>\n",
       "      <td>30</td>\n",
       "      <td>1</td>\n",
       "      <td>22</td>\n",
       "      <td>161428</td>\n",
       "      <td>1</td>\n",
       "      <td>2011-03-27</td>\n",
       "      <td>1.0</td>\n",
       "      <td>25021.0</td>\n",
       "      <td>True</td>\n",
       "    </tr>\n",
       "    <tr>\n",
       "      <th>2</th>\n",
       "      <td>841</td>\n",
       "      <td>17</td>\n",
       "      <td>11</td>\n",
       "      <td>7</td>\n",
       "      <td>114995</td>\n",
       "      <td>1</td>\n",
       "      <td>2011-03-27</td>\n",
       "      <td>11.0</td>\n",
       "      <td>23426.0</td>\n",
       "      <td>True</td>\n",
       "    </tr>\n",
       "    <tr>\n",
       "      <th>3</th>\n",
       "      <td>841</td>\n",
       "      <td>4</td>\n",
       "      <td>12</td>\n",
       "      <td>12</td>\n",
       "      <td>112624</td>\n",
       "      <td>1</td>\n",
       "      <td>2011-03-27</td>\n",
       "      <td>12.0</td>\n",
       "      <td>23251.0</td>\n",
       "      <td>True</td>\n",
       "    </tr>\n",
       "    <tr>\n",
       "      <th>4</th>\n",
       "      <td>841</td>\n",
       "      <td>13</td>\n",
       "      <td>13</td>\n",
       "      <td>11</td>\n",
       "      <td>114060</td>\n",
       "      <td>1</td>\n",
       "      <td>2011-03-27</td>\n",
       "      <td>13.0</td>\n",
       "      <td>23842.0</td>\n",
       "      <td>True</td>\n",
       "    </tr>\n",
       "  </tbody>\n",
       "</table>\n",
       "</div>"
      ],
      "text/plain": [
       "   raceId  driverId  lt_lap  position  milliseconds  circuitId        date  \\\n",
       "0     841       153       1        21        133879          1  2011-03-27   \n",
       "1     841        30       1        22        161428          1  2011-03-27   \n",
       "2     841        17      11         7        114995          1  2011-03-27   \n",
       "3     841         4      12        12        112624          1  2011-03-27   \n",
       "4     841        13      13        11        114060          1  2011-03-27   \n",
       "\n",
       "   ps_lap  pit_time  target  \n",
       "0     1.0   26898.0    True  \n",
       "1     1.0   25021.0    True  \n",
       "2    11.0   23426.0    True  \n",
       "3    12.0   23251.0    True  \n",
       "4    13.0   23842.0    True  "
      ]
     },
     "execution_count": 53,
     "metadata": {},
     "output_type": "execute_result"
    }
   ],
   "source": [
    "data.head()"
   ]
  },
  {
   "cell_type": "markdown",
   "metadata": {},
   "source": [
    "## Creating a new column which would have a different time then the lap time shown for rows where cars had pitstops. Without this column being updated, any modeling would just choose rows with a large amound of time to complete a lap as laps which are pit stops. The \"new\" variable creates a list of new lap times for the laps that have a pit stop. It takes the previous lap and adds a second to it and uses that as the new value for that lap. "
   ]
  },
  {
   "cell_type": "code",
   "execution_count": 117,
   "metadata": {},
   "outputs": [],
   "source": [
    "new=[data[(data.raceId == data.loc[i].raceId) & \n",
    "     (data.driverId == data.loc[i].driverId) & \n",
    "     (data.lt_lap == (data.loc[i].lt_lap-1))].milliseconds.values[0]+1000\n",
    "      if ((data.loc[i].target) and (data.loc[i].lt_lap != 1)) else data.loc[i].milliseconds for i in range(len(data))]"
   ]
  },
  {
   "cell_type": "markdown",
   "metadata": {},
   "source": [
    "## Creates the new column"
   ]
  },
  {
   "cell_type": "code",
   "execution_count": 118,
   "metadata": {},
   "outputs": [],
   "source": [
    "data['up_milli'] = new"
   ]
  },
  {
   "cell_type": "markdown",
   "metadata": {},
   "source": [
    "## To extract only the year for that column"
   ]
  },
  {
   "cell_type": "code",
   "execution_count": 129,
   "metadata": {},
   "outputs": [],
   "source": [
    "data.date = [x[:4] for x in data.date]"
   ]
  },
  {
   "cell_type": "markdown",
   "metadata": {},
   "source": [
    "## Exporting the data to the final csv"
   ]
  },
  {
   "cell_type": "code",
   "execution_count": 2,
   "metadata": {},
   "outputs": [],
   "source": [
    "data.to_csv(\"./data/For_models.csv\")"
   ]
  },
  {
   "cell_type": "code",
   "execution_count": 5,
   "metadata": {},
   "outputs": [],
   "source": [
    "data = pd.read_csv(\"./data/For_models.csv\")"
   ]
  },
  {
   "cell_type": "code",
   "execution_count": 200,
   "metadata": {},
   "outputs": [],
   "source": [
    "features = ['lt_lap', 'position', 'milliseconds', 'circuitId', 'date']"
   ]
  },
  {
   "cell_type": "code",
   "execution_count": 222,
   "metadata": {},
   "outputs": [],
   "source": [
    "X= data[features1]\n",
    "y= data['target']"
   ]
  },
  {
   "cell_type": "markdown",
   "metadata": {},
   "source": [
    "## The data set is extemely unbalanced but not much can be changed as every race has an average of 2 pits out of 60-70 laps there will never be a balanced amount of data for it. "
   ]
  },
  {
   "cell_type": "code",
   "execution_count": 225,
   "metadata": {
    "scrolled": true
   },
   "outputs": [
    {
     "data": {
      "text/plain": [
       "False    0.984263\n",
       "True     0.015737\n",
       "Name: target, dtype: float64"
      ]
     },
     "execution_count": 225,
     "metadata": {},
     "output_type": "execute_result"
    }
   ],
   "source": [
    "y.value_counts(normalize=True)"
   ]
  },
  {
   "cell_type": "code",
   "execution_count": 223,
   "metadata": {},
   "outputs": [],
   "source": [
    "X_train, X_test, y_train, y_test = train_test_split(X,\n",
    "                                                    y,\n",
    "                                                    test_size=0.33,\n",
    "                                                    random_state=42)"
   ]
  },
  {
   "cell_type": "markdown",
   "metadata": {},
   "source": [
    "## Base model logistic regression"
   ]
  },
  {
   "cell_type": "code",
   "execution_count": 13,
   "metadata": {},
   "outputs": [
    {
     "data": {
      "text/plain": [
       "LogisticRegression(C=1.0, class_weight=None, dual=False, fit_intercept=True,\n",
       "                   intercept_scaling=1, l1_ratio=None, max_iter=100,\n",
       "                   multi_class='auto', n_jobs=None, penalty='l2',\n",
       "                   random_state=None, solver='lbfgs', tol=0.0001, verbose=0,\n",
       "                   warm_start=False)"
      ]
     },
     "execution_count": 13,
     "metadata": {},
     "output_type": "execute_result"
    }
   ],
   "source": [
    "logreg = LogisticRegression()\n",
    "logreg.fit(X_train, y_train)"
   ]
  },
  {
   "cell_type": "code",
   "execution_count": 14,
   "metadata": {},
   "outputs": [
    {
     "data": {
      "text/plain": [
       "0.984120774464974"
      ]
     },
     "execution_count": 14,
     "metadata": {},
     "output_type": "execute_result"
    }
   ],
   "source": [
    "logreg.score(X_test, y_test)"
   ]
  },
  {
   "cell_type": "markdown",
   "metadata": {},
   "source": [
    "## Features that include the updated time to have one second added."
   ]
  },
  {
   "cell_type": "code",
   "execution_count": 190,
   "metadata": {},
   "outputs": [],
   "source": [
    "features1 = ['lt_lap', 'position', 'up_milli', 'circuitId', 'date']\n",
    "X= data[features1]\n",
    "y= data['target']"
   ]
  },
  {
   "cell_type": "code",
   "execution_count": 191,
   "metadata": {},
   "outputs": [],
   "source": [
    "X_train, X_test, y_train, y_test = train_test_split(X,\n",
    "                                                    y,\n",
    "                                                    test_size=0.33,\n",
    "                                                    random_state=42)"
   ]
  },
  {
   "cell_type": "code",
   "execution_count": 192,
   "metadata": {
    "scrolled": true
   },
   "outputs": [
    {
     "data": {
      "text/plain": [
       "LogisticRegression(C=1.0, class_weight=None, dual=False, fit_intercept=True,\n",
       "                   intercept_scaling=1, l1_ratio=None, max_iter=100,\n",
       "                   multi_class='auto', n_jobs=None, penalty='l2',\n",
       "                   random_state=None, solver='lbfgs', tol=0.0001, verbose=0,\n",
       "                   warm_start=False)"
      ]
     },
     "execution_count": 192,
     "metadata": {},
     "output_type": "execute_result"
    }
   ],
   "source": [
    "logreg = LogisticRegression()\n",
    "logreg.fit(X_train, y_train)"
   ]
  },
  {
   "cell_type": "code",
   "execution_count": 193,
   "metadata": {},
   "outputs": [
    {
     "data": {
      "text/plain": [
       "0.9841400142374316"
      ]
     },
     "execution_count": 193,
     "metadata": {},
     "output_type": "execute_result"
    }
   ],
   "source": [
    "logreg.score(X_test, y_test)"
   ]
  },
  {
   "cell_type": "markdown",
   "metadata": {},
   "source": [
    "R**2"
   ]
  },
  {
   "cell_type": "code",
   "execution_count": 194,
   "metadata": {},
   "outputs": [],
   "source": [
    "pred = logreg.predict(X_test)"
   ]
  },
  {
   "cell_type": "code",
   "execution_count": 195,
   "metadata": {},
   "outputs": [
    {
     "name": "stdout",
     "output_type": "stream",
     "text": [
      "Sensitivity: 0.0\n",
      "Specificity: 1.0\n"
     ]
    }
   ],
   "source": [
    "senistivity_specificity(y_test,pred)"
   ]
  },
  {
   "cell_type": "code",
   "execution_count": 196,
   "metadata": {},
   "outputs": [],
   "source": [
    "dt1 = DecisionTreeClassifier(random_state = 42)"
   ]
  },
  {
   "cell_type": "code",
   "execution_count": 197,
   "metadata": {},
   "outputs": [
    {
     "data": {
      "text/plain": [
       "DecisionTreeClassifier(ccp_alpha=0.0, class_weight=None, criterion='gini',\n",
       "                       max_depth=None, max_features=None, max_leaf_nodes=None,\n",
       "                       min_impurity_decrease=0.0, min_impurity_split=None,\n",
       "                       min_samples_leaf=1, min_samples_split=2,\n",
       "                       min_weight_fraction_leaf=0.0, presort='deprecated',\n",
       "                       random_state=42, splitter='best')"
      ]
     },
     "execution_count": 197,
     "metadata": {},
     "output_type": "execute_result"
    }
   ],
   "source": [
    "dt1.fit(X_train, y_train)"
   ]
  },
  {
   "cell_type": "code",
   "execution_count": 198,
   "metadata": {},
   "outputs": [
    {
     "data": {
      "text/plain": [
       "0.978021766595907"
      ]
     },
     "execution_count": 198,
     "metadata": {},
     "output_type": "execute_result"
    }
   ],
   "source": [
    "dt1.score(X_test, y_test)"
   ]
  },
  {
   "cell_type": "code",
   "execution_count": 199,
   "metadata": {},
   "outputs": [],
   "source": [
    "out = dt1.predict(X_test)"
   ]
  },
  {
   "cell_type": "code",
   "execution_count": 200,
   "metadata": {},
   "outputs": [
    {
     "name": "stdout",
     "output_type": "stream",
     "text": [
      "Sensitivity: 0.3085\n",
      "Specificity: 0.9888\n"
     ]
    }
   ],
   "source": [
    "senistivity_specificity(y_test,out)"
   ]
  },
  {
   "cell_type": "code",
   "execution_count": 206,
   "metadata": {},
   "outputs": [
    {
     "data": {
      "text/plain": [
       "2480"
      ]
     },
     "execution_count": 206,
     "metadata": {},
     "output_type": "execute_result"
    }
   ],
   "source": [
    "sum(list(out))"
   ]
  },
  {
   "cell_type": "code",
   "execution_count": null,
   "metadata": {},
   "outputs": [],
   "source": [
    "[]"
   ]
  },
  {
   "cell_type": "code",
   "execution_count": 207,
   "metadata": {},
   "outputs": [],
   "source": [
    "grid = GridSearchCV(estimator = DecisionTreeClassifier(),\n",
    "                    param_grid = {'max_depth': [10,15,20,25],\n",
    "                                  'min_samples_split': [20,25,30,35],\n",
    "                                  'min_samples_leaf': [2, 3, 4, 5, 6, 7]},\n",
    "                    cv = 5,\n",
    "                    verbose = 1)"
   ]
  },
  {
   "cell_type": "code",
   "execution_count": 208,
   "metadata": {},
   "outputs": [
    {
     "name": "stdout",
     "output_type": "stream",
     "text": [
      "Fitting 5 folds for each of 96 candidates, totalling 480 fits\n"
     ]
    },
    {
     "name": "stderr",
     "output_type": "stream",
     "text": [
      "[Parallel(n_jobs=1)]: Using backend SequentialBackend with 1 concurrent workers.\n",
      "[Parallel(n_jobs=1)]: Done 480 out of 480 | elapsed:  4.9min finished\n"
     ]
    },
    {
     "data": {
      "text/plain": [
       "GridSearchCV(cv=5, error_score=nan,\n",
       "             estimator=DecisionTreeClassifier(ccp_alpha=0.0, class_weight=None,\n",
       "                                              criterion='gini', max_depth=None,\n",
       "                                              max_features=None,\n",
       "                                              max_leaf_nodes=None,\n",
       "                                              min_impurity_decrease=0.0,\n",
       "                                              min_impurity_split=None,\n",
       "                                              min_samples_leaf=1,\n",
       "                                              min_samples_split=2,\n",
       "                                              min_weight_fraction_leaf=0.0,\n",
       "                                              presort='deprecated',\n",
       "                                              random_state=None,\n",
       "                                              splitter='best'),\n",
       "             iid='deprecated', n_jobs=None,\n",
       "             param_grid={'max_depth': [10, 15, 20, 25],\n",
       "                         'min_samples_leaf': [2, 3, 4, 5, 6, 7],\n",
       "                         'min_samples_split': [20, 25, 30, 35]},\n",
       "             pre_dispatch='2*n_jobs', refit=True, return_train_score=False,\n",
       "             scoring=None, verbose=1)"
      ]
     },
     "execution_count": 208,
     "metadata": {},
     "output_type": "execute_result"
    }
   ],
   "source": [
    "grid.fit(X_train, y_train)"
   ]
  },
  {
   "cell_type": "code",
   "execution_count": 209,
   "metadata": {},
   "outputs": [
    {
     "data": {
      "text/plain": [
       "0.9846261728549388"
      ]
     },
     "execution_count": 209,
     "metadata": {},
     "output_type": "execute_result"
    }
   ],
   "source": [
    "grid.best_score_"
   ]
  },
  {
   "cell_type": "code",
   "execution_count": 210,
   "metadata": {},
   "outputs": [],
   "source": [
    "dt = grid.best_estimator_"
   ]
  },
  {
   "cell_type": "code",
   "execution_count": 57,
   "metadata": {},
   "outputs": [],
   "source": [
    "def senistivity_specificity(y_t, predI):\n",
    "    tn, fp, fn, tp = confusion_matrix(y_t,\n",
    "                                  predI).ravel()\n",
    "    sens = tp / (tp + fn)\n",
    "    print(f'Sensitivity: {round(sens, 4)}')\n",
    "    spec = tn / (tn + fp)\n",
    "    print(f'Specificity: {round(spec, 4)}')"
   ]
  },
  {
   "cell_type": "code",
   "execution_count": 213,
   "metadata": {},
   "outputs": [],
   "source": [
    "preds = dt.predict(X_test)"
   ]
  },
  {
   "cell_type": "code",
   "execution_count": 227,
   "metadata": {},
   "outputs": [],
   "source": [
    "rf = RandomForestClassifier()"
   ]
  },
  {
   "cell_type": "code",
   "execution_count": 228,
   "metadata": {},
   "outputs": [
    {
     "data": {
      "text/plain": [
       "RandomForestClassifier(bootstrap=True, ccp_alpha=0.0, class_weight=None,\n",
       "                       criterion='gini', max_depth=None, max_features='auto',\n",
       "                       max_leaf_nodes=None, max_samples=None,\n",
       "                       min_impurity_decrease=0.0, min_impurity_split=None,\n",
       "                       min_samples_leaf=1, min_samples_split=2,\n",
       "                       min_weight_fraction_leaf=0.0, n_estimators=100,\n",
       "                       n_jobs=None, oob_score=False, random_state=None,\n",
       "                       verbose=0, warm_start=False)"
      ]
     },
     "execution_count": 228,
     "metadata": {},
     "output_type": "execute_result"
    }
   ],
   "source": [
    "rf.fit(X_train,y_train)"
   ]
  },
  {
   "cell_type": "code",
   "execution_count": 229,
   "metadata": {},
   "outputs": [],
   "source": [
    "preds = rf.predict(X_test)"
   ]
  },
  {
   "cell_type": "code",
   "execution_count": 230,
   "metadata": {},
   "outputs": [
    {
     "name": "stdout",
     "output_type": "stream",
     "text": [
      "Sensitivity: 0.1084\n",
      "Specificity: 0.9995\n"
     ]
    }
   ],
   "source": [
    "senistivity_specificity(y_test,preds)"
   ]
  },
  {
   "cell_type": "code",
   "execution_count": 232,
   "metadata": {},
   "outputs": [],
   "source": [
    "et = ExtraTreesClassifier()"
   ]
  },
  {
   "cell_type": "code",
   "execution_count": 233,
   "metadata": {},
   "outputs": [],
   "source": [
    "et.fit(X_train,y_train)\n",
    "preds=rf.predict(X_test)"
   ]
  },
  {
   "cell_type": "code",
   "execution_count": 234,
   "metadata": {},
   "outputs": [
    {
     "name": "stdout",
     "output_type": "stream",
     "text": [
      "Sensitivity: 0.1084\n",
      "Specificity: 0.9995\n"
     ]
    }
   ],
   "source": [
    "senistivity_specificity(y_test,preds)"
   ]
  },
  {
   "cell_type": "code",
   "execution_count": 115,
   "metadata": {},
   "outputs": [],
   "source": [
    "from tensorflow.keras.metrics import SpecificityAtSensitivity\n",
    "from tensorflow.keras.models import Sequential\n",
    "from tensorflow.keras.layers import Dense, Dropout, GRU\n",
    "from tensorflow.keras.utils import to_categorical\n",
    "from sklearn.preprocessing import StandardScaler"
   ]
  },
  {
   "cell_type": "code",
   "execution_count": 186,
   "metadata": {},
   "outputs": [],
   "source": [
    "features1 = ['lt_lap', 'position', 'up_milli', 'circuitId', 'date']\n",
    "X= data[features1]\n",
    "y= data['target'].astype('int')"
   ]
  },
  {
   "cell_type": "code",
   "execution_count": 187,
   "metadata": {},
   "outputs": [],
   "source": [
    "X_train, X_test, y_train, y_test = train_test_split(X,\n",
    "                                                    y,\n",
    "                                                    test_size=0.33,\n",
    "                                                    random_state=42)"
   ]
  },
  {
   "cell_type": "code",
   "execution_count": 188,
   "metadata": {},
   "outputs": [],
   "source": [
    "ss = StandardScaler()\n",
    "X_train_sc = ss.fit_transform(X_train)\n",
    "X_test_sc = ss.transform(X_test)"
   ]
  },
  {
   "cell_type": "code",
   "execution_count": 171,
   "metadata": {},
   "outputs": [
    {
     "data": {
      "text/plain": [
       "0.9842625670893791"
      ]
     },
     "execution_count": 171,
     "metadata": {},
     "output_type": "execute_result"
    }
   ],
   "source": [
    "1-y.mean()"
   ]
  },
  {
   "cell_type": "code",
   "execution_count": 172,
   "metadata": {},
   "outputs": [],
   "source": [
    "model = Sequential()\n",
    "model.add(Dense(5, input_dim=5, activation='relu'))\n",
    "model.add(Dense(3, input_dim=5, activation='relu'))\n",
    "model.add(Dense(2, input_dim=5, activation='relu'))\n",
    "model.add(Dense(1, activation='sigmoid'))"
   ]
  },
  {
   "cell_type": "code",
   "execution_count": 173,
   "metadata": {},
   "outputs": [],
   "source": [
    "model.compile(loss='binary_crossentropy', optimizer='adam', metrics=['acc'])"
   ]
  },
  {
   "cell_type": "code",
   "execution_count": 174,
   "metadata": {
    "scrolled": false
   },
   "outputs": [
    {
     "name": "stdout",
     "output_type": "stream",
     "text": [
      "Train on 316577 samples, validate on 155927 samples\n",
      "Epoch 1/100\n",
      "316577/316577 - 1s - loss: 0.0807 - acc: 0.9843 - val_loss: 0.0815 - val_acc: 0.9841\n",
      "Epoch 2/100\n",
      "316577/316577 - 1s - loss: 0.0807 - acc: 0.9843 - val_loss: 0.0815 - val_acc: 0.9841\n",
      "Epoch 3/100\n",
      "316577/316577 - 1s - loss: 0.0807 - acc: 0.9843 - val_loss: 0.0815 - val_acc: 0.9841\n",
      "Epoch 4/100\n",
      "316577/316577 - 1s - loss: 0.0807 - acc: 0.9843 - val_loss: 0.0815 - val_acc: 0.9841\n",
      "Epoch 5/100\n",
      "316577/316577 - 1s - loss: 0.0807 - acc: 0.9843 - val_loss: 0.0815 - val_acc: 0.9841\n",
      "Epoch 6/100\n",
      "316577/316577 - 1s - loss: 0.0807 - acc: 0.9843 - val_loss: 0.0815 - val_acc: 0.9841\n",
      "Epoch 7/100\n",
      "316577/316577 - 1s - loss: 0.0807 - acc: 0.9843 - val_loss: 0.0815 - val_acc: 0.9841\n",
      "Epoch 8/100\n",
      "316577/316577 - 1s - loss: 0.0807 - acc: 0.9843 - val_loss: 0.0815 - val_acc: 0.9841\n",
      "Epoch 9/100\n",
      "316577/316577 - 1s - loss: 0.0807 - acc: 0.9843 - val_loss: 0.0815 - val_acc: 0.9841\n",
      "Epoch 10/100\n",
      "316577/316577 - 1s - loss: 0.0807 - acc: 0.9843 - val_loss: 0.0815 - val_acc: 0.9841\n",
      "Epoch 11/100\n",
      "316577/316577 - 1s - loss: 0.0807 - acc: 0.9843 - val_loss: 0.0815 - val_acc: 0.9841\n",
      "Epoch 12/100\n",
      "316577/316577 - 1s - loss: 0.0807 - acc: 0.9843 - val_loss: 0.0815 - val_acc: 0.9841\n",
      "Epoch 13/100\n",
      "316577/316577 - 1s - loss: 0.0807 - acc: 0.9843 - val_loss: 0.0815 - val_acc: 0.9841\n",
      "Epoch 14/100\n",
      "316577/316577 - 1s - loss: 0.0807 - acc: 0.9843 - val_loss: 0.0815 - val_acc: 0.9841\n",
      "Epoch 15/100\n",
      "316577/316577 - 1s - loss: 0.0807 - acc: 0.9843 - val_loss: 0.0815 - val_acc: 0.9841\n",
      "Epoch 16/100\n",
      "316577/316577 - 1s - loss: 0.0807 - acc: 0.9843 - val_loss: 0.0815 - val_acc: 0.9841\n",
      "Epoch 17/100\n",
      "316577/316577 - 1s - loss: 0.0807 - acc: 0.9843 - val_loss: 0.0815 - val_acc: 0.9841\n",
      "Epoch 18/100\n",
      "316577/316577 - 1s - loss: 0.0807 - acc: 0.9843 - val_loss: 0.0815 - val_acc: 0.9841\n",
      "Epoch 19/100\n",
      "316577/316577 - 1s - loss: 0.0807 - acc: 0.9843 - val_loss: 0.0815 - val_acc: 0.9841\n",
      "Epoch 20/100\n",
      "316577/316577 - 1s - loss: 0.0807 - acc: 0.9843 - val_loss: 0.0815 - val_acc: 0.9841\n",
      "Epoch 21/100\n",
      "316577/316577 - 1s - loss: 0.0807 - acc: 0.9843 - val_loss: 0.0815 - val_acc: 0.9841\n",
      "Epoch 22/100\n",
      "316577/316577 - 1s - loss: 0.0807 - acc: 0.9843 - val_loss: 0.0815 - val_acc: 0.9841\n",
      "Epoch 23/100\n",
      "316577/316577 - 1s - loss: 0.0807 - acc: 0.9843 - val_loss: 0.0815 - val_acc: 0.9841\n",
      "Epoch 24/100\n",
      "316577/316577 - 1s - loss: 0.0807 - acc: 0.9843 - val_loss: 0.0815 - val_acc: 0.9841\n",
      "Epoch 25/100\n",
      "316577/316577 - 1s - loss: 0.0807 - acc: 0.9843 - val_loss: 0.0815 - val_acc: 0.9841\n",
      "Epoch 26/100\n",
      "316577/316577 - 1s - loss: 0.0807 - acc: 0.9843 - val_loss: 0.0815 - val_acc: 0.9841\n",
      "Epoch 27/100\n",
      "316577/316577 - 1s - loss: 0.0807 - acc: 0.9843 - val_loss: 0.0815 - val_acc: 0.9841\n",
      "Epoch 28/100\n",
      "316577/316577 - 1s - loss: 0.0807 - acc: 0.9843 - val_loss: 0.0815 - val_acc: 0.9841\n",
      "Epoch 29/100\n",
      "316577/316577 - 1s - loss: 0.0807 - acc: 0.9843 - val_loss: 0.0815 - val_acc: 0.9841\n",
      "Epoch 30/100\n",
      "316577/316577 - 1s - loss: 0.0807 - acc: 0.9843 - val_loss: 0.0815 - val_acc: 0.9841\n",
      "Epoch 31/100\n",
      "316577/316577 - 1s - loss: 0.0807 - acc: 0.9843 - val_loss: 0.0815 - val_acc: 0.9841\n",
      "Epoch 32/100\n",
      "316577/316577 - 1s - loss: 0.0807 - acc: 0.9843 - val_loss: 0.0815 - val_acc: 0.9841\n",
      "Epoch 33/100\n",
      "316577/316577 - 1s - loss: 0.0807 - acc: 0.9843 - val_loss: 0.0815 - val_acc: 0.9841\n",
      "Epoch 34/100\n",
      "316577/316577 - 1s - loss: 0.0807 - acc: 0.9843 - val_loss: 0.0815 - val_acc: 0.9841\n",
      "Epoch 35/100\n",
      "316577/316577 - 1s - loss: 0.0807 - acc: 0.9843 - val_loss: 0.0815 - val_acc: 0.9841\n",
      "Epoch 36/100\n",
      "316577/316577 - 1s - loss: 0.0807 - acc: 0.9843 - val_loss: 0.0815 - val_acc: 0.9841\n",
      "Epoch 37/100\n",
      "316577/316577 - 1s - loss: 0.0807 - acc: 0.9843 - val_loss: 0.0815 - val_acc: 0.9841\n",
      "Epoch 38/100\n",
      "316577/316577 - 1s - loss: 0.0807 - acc: 0.9843 - val_loss: 0.0815 - val_acc: 0.9841\n",
      "Epoch 39/100\n",
      "316577/316577 - 1s - loss: 0.0807 - acc: 0.9843 - val_loss: 0.0815 - val_acc: 0.9841\n",
      "Epoch 40/100\n",
      "316577/316577 - 1s - loss: 0.0807 - acc: 0.9843 - val_loss: 0.0815 - val_acc: 0.9841\n",
      "Epoch 41/100\n",
      "316577/316577 - 1s - loss: 0.0807 - acc: 0.9843 - val_loss: 0.0815 - val_acc: 0.9841\n",
      "Epoch 42/100\n",
      "316577/316577 - 1s - loss: 0.0807 - acc: 0.9843 - val_loss: 0.0815 - val_acc: 0.9841\n",
      "Epoch 43/100\n",
      "316577/316577 - 1s - loss: 0.0807 - acc: 0.9843 - val_loss: 0.0815 - val_acc: 0.9841\n",
      "Epoch 44/100\n",
      "316577/316577 - 1s - loss: 0.0807 - acc: 0.9843 - val_loss: 0.0815 - val_acc: 0.9841\n",
      "Epoch 45/100\n",
      "316577/316577 - 1s - loss: 0.0807 - acc: 0.9843 - val_loss: 0.0815 - val_acc: 0.9841\n",
      "Epoch 46/100\n",
      "316577/316577 - 1s - loss: 0.0807 - acc: 0.9843 - val_loss: 0.0815 - val_acc: 0.9841\n",
      "Epoch 47/100\n",
      "316577/316577 - 1s - loss: 0.0807 - acc: 0.9843 - val_loss: 0.0815 - val_acc: 0.9841\n",
      "Epoch 48/100\n",
      "316577/316577 - 1s - loss: 0.0807 - acc: 0.9843 - val_loss: 0.0815 - val_acc: 0.9841\n",
      "Epoch 49/100\n",
      "316577/316577 - 1s - loss: 0.0807 - acc: 0.9843 - val_loss: 0.0815 - val_acc: 0.9841\n",
      "Epoch 50/100\n",
      "316577/316577 - 1s - loss: 0.0807 - acc: 0.9843 - val_loss: 0.0815 - val_acc: 0.9841\n",
      "Epoch 51/100\n",
      "316577/316577 - 1s - loss: 0.0807 - acc: 0.9843 - val_loss: 0.0815 - val_acc: 0.9841\n",
      "Epoch 52/100\n",
      "316577/316577 - 1s - loss: 0.0807 - acc: 0.9843 - val_loss: 0.0815 - val_acc: 0.9841\n",
      "Epoch 53/100\n",
      "316577/316577 - 1s - loss: 0.0807 - acc: 0.9843 - val_loss: 0.0815 - val_acc: 0.9841\n",
      "Epoch 54/100\n",
      "316577/316577 - 1s - loss: 0.0807 - acc: 0.9843 - val_loss: 0.0815 - val_acc: 0.9841\n",
      "Epoch 55/100\n",
      "316577/316577 - 1s - loss: 0.0807 - acc: 0.9843 - val_loss: 0.0815 - val_acc: 0.9841\n",
      "Epoch 56/100\n",
      "316577/316577 - 1s - loss: 0.0807 - acc: 0.9843 - val_loss: 0.0815 - val_acc: 0.9841\n",
      "Epoch 57/100\n",
      "316577/316577 - 1s - loss: 0.0807 - acc: 0.9843 - val_loss: 0.0815 - val_acc: 0.9841\n",
      "Epoch 58/100\n",
      "316577/316577 - 1s - loss: 0.0807 - acc: 0.9843 - val_loss: 0.0815 - val_acc: 0.9841\n",
      "Epoch 59/100\n",
      "316577/316577 - 1s - loss: 0.0807 - acc: 0.9843 - val_loss: 0.0815 - val_acc: 0.9841\n",
      "Epoch 60/100\n",
      "316577/316577 - 1s - loss: 0.0807 - acc: 0.9843 - val_loss: 0.0815 - val_acc: 0.9841\n",
      "Epoch 61/100\n",
      "316577/316577 - 1s - loss: 0.0807 - acc: 0.9843 - val_loss: 0.0815 - val_acc: 0.9841\n",
      "Epoch 62/100\n",
      "316577/316577 - 1s - loss: 0.0807 - acc: 0.9843 - val_loss: 0.0815 - val_acc: 0.9841\n",
      "Epoch 63/100\n",
      "316577/316577 - 1s - loss: 0.0807 - acc: 0.9843 - val_loss: 0.0815 - val_acc: 0.9841\n",
      "Epoch 64/100\n",
      "316577/316577 - 1s - loss: 0.0807 - acc: 0.9843 - val_loss: 0.0815 - val_acc: 0.9841\n",
      "Epoch 65/100\n",
      "316577/316577 - 1s - loss: 0.0807 - acc: 0.9843 - val_loss: 0.0815 - val_acc: 0.9841\n",
      "Epoch 66/100\n",
      "316577/316577 - 1s - loss: 0.0807 - acc: 0.9843 - val_loss: 0.0815 - val_acc: 0.9841\n",
      "Epoch 67/100\n",
      "316577/316577 - 1s - loss: 0.0807 - acc: 0.9843 - val_loss: 0.0815 - val_acc: 0.9841\n",
      "Epoch 68/100\n",
      "316577/316577 - 1s - loss: 0.0807 - acc: 0.9843 - val_loss: 0.0815 - val_acc: 0.9841\n",
      "Epoch 69/100\n",
      "316577/316577 - 1s - loss: 0.0807 - acc: 0.9843 - val_loss: 0.0815 - val_acc: 0.9841\n",
      "Epoch 70/100\n",
      "316577/316577 - 1s - loss: 0.0807 - acc: 0.9843 - val_loss: 0.0815 - val_acc: 0.9841\n",
      "Epoch 71/100\n",
      "316577/316577 - 1s - loss: 0.0807 - acc: 0.9843 - val_loss: 0.0815 - val_acc: 0.9841\n",
      "Epoch 72/100\n",
      "316577/316577 - 1s - loss: 0.0807 - acc: 0.9843 - val_loss: 0.0815 - val_acc: 0.9841\n",
      "Epoch 73/100\n",
      "316577/316577 - 1s - loss: 0.0807 - acc: 0.9843 - val_loss: 0.0815 - val_acc: 0.9841\n",
      "Epoch 74/100\n",
      "316577/316577 - 1s - loss: 0.0807 - acc: 0.9843 - val_loss: 0.0815 - val_acc: 0.9841\n",
      "Epoch 75/100\n",
      "316577/316577 - 1s - loss: 0.0807 - acc: 0.9843 - val_loss: 0.0815 - val_acc: 0.9841\n",
      "Epoch 76/100\n",
      "316577/316577 - 1s - loss: 0.0807 - acc: 0.9843 - val_loss: 0.0815 - val_acc: 0.9841\n",
      "Epoch 77/100\n",
      "316577/316577 - 1s - loss: 0.0807 - acc: 0.9843 - val_loss: 0.0815 - val_acc: 0.9841\n",
      "Epoch 78/100\n",
      "316577/316577 - 1s - loss: 0.0807 - acc: 0.9843 - val_loss: 0.0815 - val_acc: 0.9841\n",
      "Epoch 79/100\n",
      "316577/316577 - 1s - loss: 0.0807 - acc: 0.9843 - val_loss: 0.0815 - val_acc: 0.9841\n",
      "Epoch 80/100\n",
      "316577/316577 - 1s - loss: 0.0807 - acc: 0.9843 - val_loss: 0.0815 - val_acc: 0.9841\n",
      "Epoch 81/100\n",
      "316577/316577 - 1s - loss: 0.0807 - acc: 0.9843 - val_loss: 0.0815 - val_acc: 0.9841\n",
      "Epoch 82/100\n",
      "316577/316577 - 1s - loss: 0.0807 - acc: 0.9843 - val_loss: 0.0815 - val_acc: 0.9841\n",
      "Epoch 83/100\n",
      "316577/316577 - 1s - loss: 0.0807 - acc: 0.9843 - val_loss: 0.0815 - val_acc: 0.9841\n",
      "Epoch 84/100\n",
      "316577/316577 - 1s - loss: 0.0807 - acc: 0.9843 - val_loss: 0.0815 - val_acc: 0.9841\n"
     ]
    },
    {
     "name": "stdout",
     "output_type": "stream",
     "text": [
      "Epoch 85/100\n",
      "316577/316577 - 1s - loss: 0.0807 - acc: 0.9843 - val_loss: 0.0815 - val_acc: 0.9841\n",
      "Epoch 86/100\n",
      "316577/316577 - 1s - loss: 0.0807 - acc: 0.9843 - val_loss: 0.0815 - val_acc: 0.9841\n",
      "Epoch 87/100\n",
      "316577/316577 - 1s - loss: 0.0807 - acc: 0.9843 - val_loss: 0.0815 - val_acc: 0.9841\n",
      "Epoch 88/100\n",
      "316577/316577 - 1s - loss: 0.0807 - acc: 0.9843 - val_loss: 0.0815 - val_acc: 0.9841\n",
      "Epoch 89/100\n",
      "316577/316577 - 1s - loss: 0.0807 - acc: 0.9843 - val_loss: 0.0815 - val_acc: 0.9841\n",
      "Epoch 90/100\n",
      "316577/316577 - 1s - loss: 0.0807 - acc: 0.9843 - val_loss: 0.0815 - val_acc: 0.9841\n",
      "Epoch 91/100\n",
      "316577/316577 - 1s - loss: 0.0807 - acc: 0.9843 - val_loss: 0.0815 - val_acc: 0.9841\n",
      "Epoch 92/100\n",
      "316577/316577 - 1s - loss: 0.0807 - acc: 0.9843 - val_loss: 0.0815 - val_acc: 0.9841\n",
      "Epoch 93/100\n",
      "316577/316577 - 1s - loss: 0.0807 - acc: 0.9843 - val_loss: 0.0815 - val_acc: 0.9841\n",
      "Epoch 94/100\n",
      "316577/316577 - 1s - loss: 0.0807 - acc: 0.9843 - val_loss: 0.0815 - val_acc: 0.9841\n",
      "Epoch 95/100\n",
      "316577/316577 - 1s - loss: 0.0807 - acc: 0.9843 - val_loss: 0.0815 - val_acc: 0.9841\n",
      "Epoch 96/100\n",
      "316577/316577 - 1s - loss: 0.0807 - acc: 0.9843 - val_loss: 0.0815 - val_acc: 0.9841\n",
      "Epoch 97/100\n",
      "316577/316577 - 1s - loss: 0.0807 - acc: 0.9843 - val_loss: 0.0815 - val_acc: 0.9841\n",
      "Epoch 98/100\n",
      "316577/316577 - 1s - loss: 0.0807 - acc: 0.9843 - val_loss: 0.0815 - val_acc: 0.9841\n",
      "Epoch 99/100\n",
      "316577/316577 - 1s - loss: 0.0807 - acc: 0.9843 - val_loss: 0.0815 - val_acc: 0.9841\n",
      "Epoch 100/100\n",
      "316577/316577 - 1s - loss: 0.0807 - acc: 0.9843 - val_loss: 0.0815 - val_acc: 0.9841\n"
     ]
    },
    {
     "data": {
      "text/plain": [
       "<tensorflow.python.keras.callbacks.History at 0x7f1f2f494d50>"
      ]
     },
     "execution_count": 174,
     "metadata": {},
     "output_type": "execute_result"
    }
   ],
   "source": [
    "history.model.fit(\n",
    "    X_train,\n",
    "    y_train,\n",
    "    validation_data=(X_test, y_test),\n",
    "    epochs=100,\n",
    "    batch_size=1500,\n",
    "    verbose=2\n",
    ")"
   ]
  },
  {
   "cell_type": "code",
   "execution_count": 175,
   "metadata": {},
   "outputs": [],
   "source": [
    "pred2=model.predict(X_test)"
   ]
  },
  {
   "cell_type": "code",
   "execution_count": 181,
   "metadata": {},
   "outputs": [
    {
     "data": {
      "text/plain": [
       "{False}"
      ]
     },
     "execution_count": 181,
     "metadata": {},
     "output_type": "execute_result"
    }
   ],
   "source": [
    "set(pred_)"
   ]
  },
  {
   "cell_type": "code",
   "execution_count": 34,
   "metadata": {},
   "outputs": [],
   "source": [
    "output = model.predict(X_test_sc)"
   ]
  },
  {
   "cell_type": "code",
   "execution_count": 62,
   "metadata": {},
   "outputs": [],
   "source": [
    "pred = history.model.predict(X_test_sc)"
   ]
  },
  {
   "cell_type": "code",
   "execution_count": 184,
   "metadata": {},
   "outputs": [],
   "source": [
    "pred_ = [pred2[i][0] for i in range(len(pred2))]"
   ]
  },
  {
   "cell_type": "markdown",
   "metadata": {},
   "source": [
    "## Only one value was being returned which meant that the model could not seem to predict an outcome of true. "
   ]
  },
  {
   "cell_type": "code",
   "execution_count": 185,
   "metadata": {},
   "outputs": [
    {
     "data": {
      "text/plain": [
       "{0.5}"
      ]
     },
     "execution_count": 185,
     "metadata": {},
     "output_type": "execute_result"
    }
   ],
   "source": [
    "set(pred_)"
   ]
  },
  {
   "cell_type": "code",
   "execution_count": 106,
   "metadata": {},
   "outputs": [
    {
     "data": {
      "text/plain": [
       "105394"
      ]
     },
     "execution_count": 106,
     "metadata": {},
     "output_type": "execute_result"
    }
   ],
   "source": [
    "sum(pred1)"
   ]
  },
  {
   "cell_type": "code",
   "execution_count": 107,
   "metadata": {},
   "outputs": [
    {
     "data": {
      "text/plain": [
       "2473"
      ]
     },
     "execution_count": 107,
     "metadata": {},
     "output_type": "execute_result"
    }
   ],
   "source": [
    "sum(y_test)"
   ]
  },
  {
   "cell_type": "code",
   "execution_count": 64,
   "metadata": {},
   "outputs": [
    {
     "name": "stdout",
     "output_type": "stream",
     "text": [
      "Sensitivity: 1.0\n",
      "Specificity: 0.3293\n"
     ]
    }
   ],
   "source": [
    "senistivity_specificity(y_test,pred1)"
   ]
  }
 ],
 "metadata": {
  "kernelspec": {
   "display_name": "Python 3",
   "language": "python",
   "name": "python3"
  },
  "language_info": {
   "codemirror_mode": {
    "name": "ipython",
    "version": 3
   },
   "file_extension": ".py",
   "mimetype": "text/x-python",
   "name": "python",
   "nbconvert_exporter": "python",
   "pygments_lexer": "ipython3",
   "version": "3.7.6"
  }
 },
 "nbformat": 4,
 "nbformat_minor": 2
}
